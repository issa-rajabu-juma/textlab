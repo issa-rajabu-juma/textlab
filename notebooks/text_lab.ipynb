{
 "cells": [
  {
   "cell_type": "markdown",
   "id": "b528901b",
   "metadata": {},
   "source": [
    "## Libraries"
   ]
  },
  {
   "cell_type": "code",
   "execution_count": 22,
   "id": "fcff7a53",
   "metadata": {},
   "outputs": [],
   "source": [
    "from keras.layers import TextVectorization\n",
    "import re\n",
    "import string\n",
    "import tensorflow as tf\n",
    "import os\n",
    "import pathlib\n",
    "import shutil\n",
    "import random\n",
    "import pandas as pd\n",
    "import matplotlib.pyplot as plt\n",
    "from tensorflow import keras\n",
    "from tensorflow.keras import layers\n",
    "from nlpia.loaders import get_data\n",
    "import numpy as np"
   ]
  },
  {
   "cell_type": "markdown",
   "id": "1edc034b",
   "metadata": {},
   "source": [
    "## Config"
   ]
  },
  {
   "cell_type": "code",
   "execution_count": 36,
   "id": "1daec194",
   "metadata": {},
   "outputs": [],
   "source": [
    "# tanesco\n",
    "DATASET_PATH =\"C:/Users/Tajr/Desktop/UDSM/Experiments/datasets/\"\n",
    "OUTPUT_PATH = \"C:/Users/Tajr/Desktop/UDSM/Experiments/textLab/outputs/\"\n",
    "\n",
    "# tesla\n",
    "# DATASET_PATH =\"C:/Users/Tajr/Desktop/textlab/datasets/\"\n",
    "# OUTPUT_PATH = \"C:/Users/Tajr/Desktop/textlab/outputs/\"\n",
    "\n",
    "MODEL_PATH = os.path.join(OUTPUT_PATH, 'model/')\n",
    "IMDB_REVIEWS_PATH = os.path.join(DATASET_PATH, os.listdir(DATASET_PATH)[0])\n",
    "IMDB_DENSE_OUTPUT = os.path.join(OUTPUT_PATH, 'imdb_dense/')\n",
    "IMDB_LSTM_OUTPUT = os.path.join(OUTPUT_PATH, 'imdb_lstm/')\n",
    "IMDB_GRU_OUTPUT = os.path.join(OUTPUT_PATH, 'imdb_gru/')\n",
    "IMDB_MASKED_OUTPUT = os.path.join(OUTPUT_PATH, 'imdb_masked/')\n",
    "BATCH_SIZE = 32\n",
    "MAX_TOKENS = 10000\n",
    "MULTIPLE_CPU = 5\n",
    "EPOCHS = 10\n",
    "CHATBOT_EPOCHS = 100\n",
    "CHATBOT_BATCHSIZE = 64\n",
    "CHATBOT_NEURONS = 256"
   ]
  },
  {
   "cell_type": "markdown",
   "id": "7de8e1d7",
   "metadata": {},
   "source": [
    "## Utils"
   ]
  },
  {
   "cell_type": "code",
   "execution_count": 3,
   "id": "eb3b2b89",
   "metadata": {},
   "outputs": [],
   "source": [
    "def get_val_samples():\n",
    "    base_dir = pathlib.Path(IMDB_REVIEWS_PATH)\n",
    "    val_dir = base_dir / \"val\"\n",
    "    train_dir = base_dir / \"train\"\n",
    "\n",
    "    for category in (\"neg\", \"pos\"):\n",
    "        os.makedirs(val_dir / category)\n",
    "        files = os.listdir(train_dir / category)\n",
    "        random.Random(1337).shuffle(files)\n",
    "        num_val_samples = int(0.2 * len(files))\n",
    "        val_files = files[-num_val_samples:]\n",
    "\n",
    "        for fname in val_files:\n",
    "            shutil.move(train_dir / category / fname, val_dir / category / fname)\n",
    "            \n",
    "# Accessing data\n",
    "def inspect_dataset(dataset):\n",
    "    for inputs, targets in dataset:\n",
    "        print('inputs.shape: ', inputs.shape)\n",
    "        print('inputs.dtype: ', inputs.dtype)\n",
    "        print('targets.shape: ', targets.shape)\n",
    "        print('targets.dtype: ', targets.dtype)\n",
    "        print()\n",
    "        print('Label: {}'.format(targets[0]))\n",
    "        print('Sample: {}'.format(inputs[0]))\n",
    "        break\n",
    "\n",
    "# define and compile your model     \n",
    "def get_model(max_tokens=MAX_TOKENS, hidden_dim=16):\n",
    "    # define inputs, hidden layers, and output layer\n",
    "    inputs = keras.Input(shape=(max_tokens,))\n",
    "    x = layers.Dense(hidden_dim, activation='relu')(inputs)\n",
    "    x = layers.Dropout(0.5)(x)\n",
    "    outputs = layers.Dense(1, activation='sigmoid')(x)\n",
    "    \n",
    "    # define model\n",
    "    model = keras.Model(inputs, outputs)\n",
    "    \n",
    "    # compile your model\n",
    "    model.compile(optimizer='rmsprop', loss='binary_crossentropy', metrics=['accuracy'])\n",
    "    \n",
    "    # return your model\n",
    "    return model\n",
    "\n",
    "# check if output dir exist, if not create it\n",
    "def mkdir(path):\n",
    "    if not os.path.exists(path):\n",
    "        os.makedirs(path)\n",
    "\n",
    "# Visualize training process\n",
    "def plot_loss_accuracy(history, file_path):\n",
    "    # set style\n",
    "    mkdir(file_path)\n",
    "    plt.style.use('ggplot')\n",
    "    (fig, axs) = plt.subplots(2, 1)\n",
    "    axs[0].plot(history['loss'], label='Training Loss')    \n",
    "    axs[0].plot(history['val_loss'], label='Validation Loss')\n",
    "    axs[0].set_xlabel('Epochs')\n",
    "    axs[0].set_ylabel('Loss')\n",
    "    axs[0].legend()    \n",
    "    axs[1].plot(history['accuracy'], label='Training Accuracy') \n",
    "    axs[1].plot(history['val_accuracy'], label='Validation Accuracy')    \n",
    "    axs[1].set_xlabel('Epochs')\n",
    "    axs[1].set_ylabel('Accuracy')\n",
    "    axs[1].legend()\n",
    "    fig.savefig(file_path)\n",
    "    plt.show()"
   ]
  },
  {
   "cell_type": "markdown",
   "id": "1a1b830c",
   "metadata": {},
   "source": [
    "## Dataset"
   ]
  },
  {
   "cell_type": "markdown",
   "id": "d8a3da30",
   "metadata": {},
   "source": [
    "Sequential data - any data where the order or sequency is as essential as the data itself. example sentences, stock market data, audio data etc\n"
   ]
  },
  {
   "cell_type": "markdown",
   "id": "be93fc23",
   "metadata": {},
   "source": [
    "### Raw data"
   ]
  },
  {
   "cell_type": "code",
   "execution_count": 4,
   "id": "84c23432",
   "metadata": {},
   "outputs": [],
   "source": [
    "# get_val_samples()"
   ]
  },
  {
   "cell_type": "code",
   "execution_count": 5,
   "id": "6747e563",
   "metadata": {},
   "outputs": [
    {
     "name": "stdout",
     "output_type": "stream",
     "text": [
      "Found 20000 files belonging to 2 classes.\n",
      "Found 5000 files belonging to 2 classes.\n",
      "Found 25000 files belonging to 2 classes.\n"
     ]
    }
   ],
   "source": [
    "# These dataset yield inputs that are Tensorflow tf.string tensors and \n",
    "# targets are int 32 tensors encoding the value 0 and 1\n",
    "train_dataset = keras.utils.text_dataset_from_directory(os.path.join(IMDB_REVIEWS_PATH, 'train'), batch_size=BATCH_SIZE)\n",
    "val_dataset = keras.utils.text_dataset_from_directory(os.path.join(IMDB_REVIEWS_PATH, 'val'), batch_size=BATCH_SIZE)\n",
    "test_dataset = keras.utils.text_dataset_from_directory(os.path.join(IMDB_REVIEWS_PATH, 'test'), batch_size=BATCH_SIZE)"
   ]
  },
  {
   "cell_type": "code",
   "execution_count": 6,
   "id": "0d2486f0",
   "metadata": {},
   "outputs": [
    {
     "name": "stdout",
     "output_type": "stream",
     "text": [
      "Label: 0\n",
      "Sample: b\"in this movie, joe pesci slams dunks a basketball. joe pesci...<br /><br />and being consistent, the rest of the script is equally not believable.<br /><br />pesci is a funny guy, which saves this film from sinking int the absolute back of the cellar, but the other roles were pretty bad. the father was a greedy businessman who valued money more than people, which wasn't even well-played. instead of the man being an archetypal villain, he seemed more like an amoral android programmed to make money at all costs. then there's the token piece that is assigned to pesci as a girlfriend or something...i don't even remember...she was that forgettable.<br /><br />anyone who rates this movie above a 5 or 6 is a paid member of some sort of film studio trying to up the reputation of this sunken film, or at least one of those millions of media minions who can't critique efficiently (you know, the people who feel bad if they give anything a mark below 6).<br /><br />stay away...far away. and shame on comedy central, where i saw this film. they usually pick better.\"\n"
     ]
    }
   ],
   "source": [
    "# Accessing data\n",
    "for i, line in enumerate(train_dataset.take(1)):\n",
    "    print('Label: {}'.format(line[1][2]))\n",
    "    print('Sample: {}'.format(line[0][2]))\n",
    "  "
   ]
  },
  {
   "cell_type": "code",
   "execution_count": 7,
   "id": "5c6adcb4",
   "metadata": {},
   "outputs": [
    {
     "name": "stdout",
     "output_type": "stream",
     "text": [
      "inputs.shape:  (32,)\n",
      "inputs.dtype:  <dtype: 'string'>\n",
      "targets.shape:  (32,)\n",
      "targets.dtype:  <dtype: 'int32'>\n",
      "\n",
      "Label: 0\n",
      "Sample: b'With this movie only running 61 minutes and nothing all that good on television, I decided to pop Revolt of the Zombies into the DVD to pass the time. Even while realizing the era from which it was coming, I was sorely disappointed. It started with the oddly upbeat quality of the opening score (what - no brooding music?) and then the rather slow moving opening sequences. Gosh, I figured a movie about zombies - even from the 1930s - would have SOME chills to it (White Zombie, with Bela Lugosi, certainly did) but this had none. Zero. It was scarcely even dramatic (except for the few moments with the burning eyes superimposed on the film to indicate the mesmerization of someone). Like the equally dull King of the Zombies, this movie may be an interesting curiosity to own, but nothing more.'\n"
     ]
    }
   ],
   "source": [
    "inspect_dataset(train_dataset)"
   ]
  },
  {
   "cell_type": "markdown",
   "id": "dbc7424d",
   "metadata": {},
   "source": [
    "## Data Processing"
   ]
  },
  {
   "cell_type": "markdown",
   "id": "9d2ca60b",
   "metadata": {},
   "source": [
    "### Standardization, Tokenization and Vectorization"
   ]
  },
  {
   "attachments": {
    "text%20to%20vectors.png": {
     "image/png": "[encoded data removed]"
    }
   },
   "cell_type": "markdown",
   "id": "635ade6f",
   "metadata": {},
   "source": [
    "![text%20to%20vectors.png](attachment:text%20to%20vectors.png)"
   ]
  },
  {
   "cell_type": "markdown",
   "id": "9b88db22",
   "metadata": {},
   "source": [
    "## BAG OF WORDS APPROACH (WORD AS A SET)\n",
    "- Individual Words(Unigram)\n",
    "- Group of consecutive tokens(N-grams)"
   ]
  },
  {
   "cell_type": "markdown",
   "id": "936ad7e1",
   "metadata": {},
   "source": [
    "##### Unigram with Binary Encoding"
   ]
  },
  {
   "cell_type": "markdown",
   "id": "b45c2f05",
   "metadata": {},
   "source": [
    "In practice you will use TextVectorization layer which is efficient and fast way of doing things.\n",
    "- By defauld the layer will use the setting to convert to lowercase and remove punctuation (Standardizaztion), Split on whitespace (tokenization)\n",
    "- It can receive custom function for standardization and tokenization\n",
    "- Call adapt method to index the vocabulary of a text corpus"
   ]
  },
  {
   "cell_type": "code",
   "execution_count": 8,
   "id": "29f8d635",
   "metadata": {},
   "outputs": [],
   "source": [
    "# define vectorizer\n",
    "vectorizer = TextVectorization(max_tokens=MAX_TOKENS, output_mode='multi_hot')"
   ]
  },
  {
   "cell_type": "code",
   "execution_count": 9,
   "id": "94032722",
   "metadata": {},
   "outputs": [],
   "source": [
    "# prepare a dataset that only yields raw text inputs no labels\n",
    "text_only_train_ds = train_dataset.map(lambda x, y: x)\n",
    "\n",
    "# use the dataset to index the dataset vocabulary via the adapt() method\n",
    "vectorizer.adapt(text_only_train_ds)"
   ]
  },
  {
   "cell_type": "code",
   "execution_count": 10,
   "id": "07711479",
   "metadata": {},
   "outputs": [],
   "source": [
    "# prepare the processed versions of our training validation and test dataset\n",
    "train_ds = train_dataset.map(lambda x, y: (vectorizer(x), y), num_parallel_calls=MULTIPLE_CPU)\n",
    "val_ds = val_dataset.map(lambda x, y: (vectorizer(x), y), num_parallel_calls=MULTIPLE_CPU)\n",
    "test_ds = test_dataset.map(lambda x, y: (vectorizer(x), y), num_parallel_calls=MULTIPLE_CPU)"
   ]
  },
  {
   "cell_type": "code",
   "execution_count": 11,
   "id": "fee9cedd",
   "metadata": {},
   "outputs": [
    {
     "name": "stdout",
     "output_type": "stream",
     "text": [
      "inputs.shape:  (32, 10000)\n",
      "inputs.dtype:  <dtype: 'float32'>\n",
      "targets.shape:  (32,)\n",
      "targets.dtype:  <dtype: 'int32'>\n",
      "\n",
      "Label: 1\n",
      "Sample: [1. 1. 1. ... 0. 0. 0.]\n"
     ]
    }
   ],
   "source": [
    "inspect_dataset(train_ds)"
   ]
  },
  {
   "cell_type": "code",
   "execution_count": 12,
   "id": "d27f394c",
   "metadata": {},
   "outputs": [
    {
     "name": "stdout",
     "output_type": "stream",
     "text": [
      "inputs.shape:  (32, 10000)\n",
      "inputs.dtype:  <dtype: 'float32'>\n",
      "targets.shape:  (32,)\n",
      "targets.dtype:  <dtype: 'int32'>\n",
      "\n",
      "Label: 0\n",
      "Sample: [1. 1. 0. ... 0. 0. 0.]\n"
     ]
    }
   ],
   "source": [
    "inspect_dataset(val_ds)"
   ]
  },
  {
   "cell_type": "code",
   "execution_count": 13,
   "id": "b8a57f44",
   "metadata": {},
   "outputs": [
    {
     "name": "stdout",
     "output_type": "stream",
     "text": [
      "inputs.shape:  (32, 10000)\n",
      "inputs.dtype:  <dtype: 'float32'>\n",
      "targets.shape:  (32,)\n",
      "targets.dtype:  <dtype: 'int32'>\n",
      "\n",
      "Label: 0\n",
      "Sample: [1. 1. 1. ... 0. 0. 0.]\n"
     ]
    }
   ],
   "source": [
    "inspect_dataset(test_ds)"
   ]
  },
  {
   "cell_type": "markdown",
   "id": "160ef670",
   "metadata": {},
   "source": [
    "##### Bigrams"
   ]
  },
  {
   "cell_type": "markdown",
   "id": "979e45e3",
   "metadata": {},
   "source": [
    "###### standardization, tokenization and vectorization"
   ]
  },
  {
   "cell_type": "code",
   "execution_count": 14,
   "id": "9f9c81b5",
   "metadata": {},
   "outputs": [],
   "source": [
    "# prepare a dataset that only yield raw text inputs no labels\n",
    "text_only_train_dataset = train_dataset.map(lambda x, y: x)\n",
    "\n",
    "# use the dataset to index the dataset vocabulary via the adapt() method\n",
    "vectorizer = TextVectorization(ngrams=2, max_tokens=MAX_TOKENS, output_mode='multi_hot')\n",
    "vectorizer.adapt(text_only_train_dataset)"
   ]
  },
  {
   "cell_type": "code",
   "execution_count": 15,
   "id": "f3092423",
   "metadata": {},
   "outputs": [],
   "source": [
    "# create datasets\n",
    "btrain_ds = train_dataset.map(lambda x, y: (vectorizer(x), y), num_parallel_calls=MULTIPLE_CPU)\n",
    "bval_ds = val_dataset.map(lambda x, y: (vectorizer(x), y), num_parallel_calls=MULTIPLE_CPU)\n",
    "btest_ds = test_dataset.map(lambda x, y: (vectorizer(x), y), num_parallel_calls=MULTIPLE_CPU)"
   ]
  },
  {
   "cell_type": "code",
   "execution_count": 16,
   "id": "ee1cbe30",
   "metadata": {},
   "outputs": [
    {
     "name": "stdout",
     "output_type": "stream",
     "text": [
      "inputs.shape:  (32, 10000)\n",
      "inputs.dtype:  <dtype: 'float32'>\n",
      "targets.shape:  (32,)\n",
      "targets.dtype:  <dtype: 'int32'>\n",
      "\n",
      "Label: 1\n",
      "Sample: [1. 1. 1. ... 0. 0. 0.]\n"
     ]
    }
   ],
   "source": [
    "# inspect dataset\n",
    "inspect_dataset(btrain_ds)"
   ]
  },
  {
   "cell_type": "markdown",
   "id": "2865e481",
   "metadata": {},
   "source": [
    "##### Term Frequency, Inverse Document Frequency (TF-IDF)\n",
    "- it weights a given term by taking term frequency, how many times the term appear in the current document and divide it by a measure of document frequency, which estimates how often the term comes up across the dataset"
   ]
  },
  {
   "cell_type": "markdown",
   "id": "fdb441e5",
   "metadata": {},
   "source": [
    "###### standardization, tokenization and vectorization"
   ]
  },
  {
   "cell_type": "code",
   "execution_count": 17,
   "id": "d155c089",
   "metadata": {},
   "outputs": [],
   "source": [
    "# get input text without labels\n",
    "text_only_train_dataset = train_dataset.map(lambda x, y: x)\n",
    "\n"
   ]
  },
  {
   "cell_type": "code",
   "execution_count": 18,
   "id": "8f02d429",
   "metadata": {},
   "outputs": [
    {
     "name": "stdout",
     "output_type": "stream",
     "text": [
      "tf.Tensor(\n",
      "[b\"I wouldn't give this movie a rating, it's not worthy. I watched it only because I'm a Pfieffer fan. I love her and would watch anything she made. Even in this dud, she didn't disappoint. Every scene with her in it, kept the viewer watching...waiting...for something to happen but nothing ever did. It had some good story lines but they ended abruptly as soon as it started. Some of the other characters had potential but nothing became of it.<br /><br />Pfieffer was 29 when she made this film and at her most lovely. The wardrobe and set was surprisingly good. <br /><br />I can watch mostly anything and rarely come across a movie I can't find something to like about it, but this was a dud. I don't understand. <br /><br />The worst thing about it all, it had a big cliff hanger at the end. It had an ending scene that woke you up and say wow, this film is finally going some place, then the credits roll. Good grief. <br /><br />I agree with the review that said .99 would have bought 3 cans of cat food and watching my cat eat would have been more exciting. Well said. Actually, that comment was more entertaining than the film because it sums it up so well. I too wasted .99 cents on this dud.dud.dud.\"\n",
      " b\"I LOVED this movie! I am biased seeing as I am a huge Disney fan, but I really enjoyed myself. The action takes off running in the beginning of the film and just keeps going! This is a bit of a departure for Disney, they don't spend quite as much time on character development (my husband pointed this out)and there are no musical numbers. It is strictly action adventure. I thoroughly enjoyed it and recommend it to anyone who loves Disney, be they young or old.\"\n",
      " b'Here\\'s what I knew about \"Atlantis\" before watching it:<br /><br />* - It\\'s officially Disney\\'s first animated sci-fi adventure. I\\'m not sure how accurate that is (I like to nitpick) but it made me curious first time I heard it described.<br /><br />* - The preview looked, for the most part, damn cool. Evidently, it was also \"too cryptic\" according to some critics after the fact.<br /><br />* - It apparently did SO badly that Disney said, \"Screw it, let\\'s re-release \\'Spy Kids\\'\".<br /><br />So, with all that said, how is the movie?<br /><br />Hella-cool.<br /><br />I\\'m a sucker for animated fantasy that involves stirring music and rampant special effects anyway, but \"Atlantis\" goes all out. It\\'s a throwback to all the CGI eye-candy shots in \"Beauty and the Beast\" and \"Aladdin\", so much so that it\\'s almost an effects animator\\'s Best-Of Show. The characters maybe aren\\'t that memorable (except, perhaps, for the ship\\'s medical officer), and the plot\\'s a little dull, but this isn\\'t a movie you watch for the plot.<br /><br />Here\\'s a controversy that bothers me. The \"failure\" (as in, it \"only\" took in, like, five-hundred-million or something; I know animators who\\'d kill to see fifteen bucks of that) of this movie compared to the popularity of \"Shrek\" and \"Monsters Inc.\" has been seen as evidence of the death of traditional animation. I don\\'t think that\\'s true. How do you account for the \"South Park\" movie? What about \"Final Fantasy\"? Really, the story and the artistry is everything, not the method. I don\\'t know what Disney\\'s comeback movie will be like, but I don\\'t think they\\'re out of the picture yet.'\n",
      " b\"I have never read the Bradbury novel that this movie is based on but from what I've gathered, it will be interesting (when I finally do read it and I will). My comments will be based purely on the film. As soon as I saw the trailer I knew I had to see it and was so excited but when I finally did, I was so disappointed it hurt. This is because the movie itself felt so amateurish. The actors were not well cast (though Robards and Pryce are both good actors - just not here). The kid actors, it seemed, were merely asked to show up, get in the characters' clothes, say the lines and make the faces. The set and props were cheap and unrealistic. The direction was surprisingly bad. I was so surprised at the awfulness of it that I had to go online and check who directed it, just to see the kind of work he had done. The editing was cut and paste and the plot (screenplay) was just that as well (even though the author had been involved himself, irony?). The building up of the tension, fear and suspense was so mild it was ineffective when the climax finally came.<br /><br />I've read some of the comments on this movie and find it hard to believe people actually like it. What hurts the most is that the content is interesting and fun and intriguing. It had so much potential. Unfortunately, the film was so technically bad it takes away from the brilliance of the story.\"\n",
      " b\"This movie was terrible. at first i just read the plot summary and it looked OK, so i watched it. The acting was TERRIBLE. it was like the actor were almost camera shy. everything seemed fake. i feel bad for Edward Furlong, terminator 2 was my favorite a few years ago.. I've watched it at least 20 times....<br /><br />the plot was also crap. the writers were probably sleep deprived when they came up with the lines.<br /><br />on the plus side, it's the good kind of bad movie. the one you keep watching just to see how much worst could it will get, so that later you can tell other people how you couldn't believe how terrible the movie was.<br /><br />i think everybody should watch this, so that then we could appreciate better other, REAL, movies.\"\n",
      " b'Alone in The Dark is one of my favorite role-playing-games of all time. I remember spending whole nights facing the PC screen, trying to escape that mansion and actually being startled at times when monsters came surprisingly charging in. Now, mind you - I am weary of \"computer-game-generated\" movies. I don\\'t remember a single success story in this new Hollywood genre, although some are entertaining enough to be watchable. And yet, I am such a big fan of the game that I couldn\\'t resist. My rationale was that if the movie had a plot that so much as resembled the game\\'s, it would be OK. <br /><br />Man, those were 90 minutes (which seemed like 300) of my life that I\\'ll never get back. If I had that chance, I would have gladly spent them rearranging my sock drawer instead. This isn\\'t even in the \"so bad it\\'s funny\" category. You would think even Christian Slater had a bit more sense than joining this stink bomb. Now, Tara Reid... I\\'m not complaining about her presence. However, if the purpose of putting this chick in a starring role is to have a sex scene, - which I totally understand and support (hey, I\\'m a guy!) - I\\'ve seen more of her body on press conferences.<br /><br />There is no plot to speak of. Won\\'t waste your time pitching it to you. The credibility of the story sinks below \\'I did not have sex with Ms. Lewinski\\'. The acting is but a few notches above \\'Street Fighter\\', which, by the way, being one of the worst movies I\\'ve seen, I would recommend OVER this one.<br /><br />Kids, I recommend the Video Game. It has far better story, acting and much more thrills. As for the movie, here\\'s a spoiler - it STINKS! Wait for the porno version.'\n",
      " b'With this movie only running 61 minutes and nothing all that good on television, I decided to pop Revolt of the Zombies into the DVD to pass the time. Even while realizing the era from which it was coming, I was sorely disappointed. It started with the oddly upbeat quality of the opening score (what - no brooding music?) and then the rather slow moving opening sequences. Gosh, I figured a movie about zombies - even from the 1930s - would have SOME chills to it (White Zombie, with Bela Lugosi, certainly did) but this had none. Zero. It was scarcely even dramatic (except for the few moments with the burning eyes superimposed on the film to indicate the mesmerization of someone). Like the equally dull King of the Zombies, this movie may be an interesting curiosity to own, but nothing more.'\n",
      " b\"After seeing this film I complained to my local cinema about the quality of the sound-track or whether the cinema sound system may be faulty. For at least the first half of the film it is extremely difficult to understand what anyone is saying because of the background 20's music and the scratchiness of the sound-track. I was ready to blame the cinema equipment but not so - it was the Director.<br /><br />I was told the subject of my complaint was an essential part of the making of the film. The music and the sound was supposed to be distorted to create a very disturbing effect within the film. These days, directors will go to many lengths to make their film unique. Unfortunately, no matter where or how you see that film the sound score will be the same.<br /><br />So apart from the historical inaccuracies of this film (which you can find out for yourself elsewhere) the sound-track distortions are in themselves a good reason to give this film a miss. You will only hear the distorted scratchiness of the sound-track and certainly not a cat's meow.\"\n",
      " b\"Even Steve Martin and Dan Aykroyd couldn't save this movie from laying an emu-sized egg. Based on the classic Phil Silvers TV series, it bombed because: A) It was updated to the 1990s, and B) The simple premise of the TV series was turned into a confusing, feeble and silly screenplay.<br /><br />The original TV series used a small cast of talented actors to portray lovable characters acting out simple yet hilarious pranks. To expand this premise into a 1990s movie was asking for trouble, and it shows. No one could pay me enough to sit through this stinker a second time.\"\n",
      " b\"I really must have caught a different film from the rest of the commentators on this site because at a screening of the film last night the audience was so mortified by the dialoge that (I'm not even kidding)half walked out. Shot as if the filmmaker thought he were approaching some daring new territory by presenting a homosexual coming-of-age story, the film utilizes David Lynch inspired visuals with Fassbinder inspired acting. The performances in this film are so dull and bored that I figured one of the actors was going to pass out by how uninspired they seemed to be by the script. What's worse is that it's colored like an episode of Miami Vice. I don't know who this director thinks he is; maybe he has pretensions of the surreal like Bunuel, Jordowsky, etc. But the problem is that all of the afore mentioned directors display a level of erudite sensibility that is sorely lacking here. I could understand the meaningfulness of this film about ten years ago, but when we've got masterpieces such as Bad Eduction, Mysterious Skin and Show Me Love why bother with this cinematic turd? There is nothing new to be seen here.\"\n",
      " b\"i saw switching goals ..twice....and always the same feeling...you see the Olsen twins make same movie....they like play different sports and then fall in love to boys..OK now about the movie....first off all such little boys and girls don't play on such big goals...2.football does not play on time outs...3.if the game is at its end the referee gives some overtime (a minute or more)...and the finish is so foreseen....i think that this movie is bad because of the lack of football knowledgement....if it were done by European producers it would be better..and also the mane actors aren't the wright choice...they suffer from lack of authentic..OK they played some seasons in full house but that doesn't make them big stars....you have got to show your talent....and that is what is missing in the Olsen twins\"\n",
      " b\"There is no reason to see this movie. A good plot idea is handled very badly. In the middle of the movie everything changes and from there on nothing makes much sense. The reason for the killings are not made clear. The acting is awful. Nick Stahl obviously needs a better director. He was excellent in In the Bedroom, but here he is terrible. Amber Benson from Buffy, has to change her character someday. Even those of you who enjoy gratuitous sex and violence will be disappointed. Even though the movie was 80 minutes, which is too short for a good movie (but too long for this one),there are no deleted scenes in the DVD which means they never bothered to fill in the missing parts to the characters.<br /><br />Don't spend the time on this one.\"\n",
      " b\"I began riding horses fairly recently, and, as anyone who has ever ridden should know, I fell in love with horses and their world. I rented Spirit on a whim, just trying to pack my life full of as much horse related material as I could, and I was surprised by the results.<br /><br />What I expected was a feel-good Disneyesque movie with talking animals and stereotypes every five minutes.<br /><br />What I got was an amazing film, filled with beautiful scenery and animation, and an amazing storyline that has the great potential to warm one's heart.<br /><br />Spirit is a wild mustang in the Old West, whose entire world is brought crumbling down around him when he discovers the humans slowly taking over his homeland. The story unfolds with a wide array of characters, some human, some animals, all are well written and most are pleasant to watch on screen.<br /><br />I would recommend this movie to anyone who enjoys a good story, and who has an appreciation for history and animals.<br /><br />One thing I forgot to mention, but that I feel is important, is that the animals in this film do not talk. This was a really nice vacation from the Lady And The Tramp animated movies that everyone today is used to.\"\n",
      " b\"The more I watch Nicholas Cage, the more I appreciate him as an actor. Watching this movie now (in 2005), I can see that it doesn't really fit into the genre of movies that was coming out in the early 90s. I don't really think it can be considered a film noir, but it is pretty dark at times, due mostly to the lighting and odd personalities of the characters.<br /><br />Typical performances from each of the three main actors, who all did a good job with their roles. I thought, however, that Hopper and Boyle's characters were left undeveloped, as it was sometimes hard to understand what they were doing and why they were doing it. Hopper is a love him or hate him kind of guy. The plot is really good, and although I found some parts to be very unrealistic, there were parts where I had to hand it to the director (i.e. when he first sees the sheriff). All in all, this movie is definitely worth watching. ***1/2\"\n",
      " b\"What can I say? I know this movie from start to finish. It's hilarious. It's an strong link to my past and will change the way I view film in the future. Hypothetically speaking :) The down-fall? There's no Socrates Johnson!\"\n",
      " b\"Yeah, the poster is quite a horrible piece of work.<br /><br />I thought the movie was OK...nothing really outstanding...I just was hoping that he would be a hardcore druggie and totally trash his life.<br /><br />Ahh, but that can't happen to rich kids now can it? Not to the son of a wealthy businessman who holds big ballroom parties and has a nice manicured lawn on the front of the mini mansion.<br /><br />No...the kid is too good to have his life totally trashed. After all, who will drive the brand new SUV and who will go to law school? <br /><br />Ah, the poor little rich kids...in their quaint pretty house, with their ivy league schools, ultra clean homes and socialite parties...what will the world do without them? <br /><br />I hope they all get addicted to drugs, pass-away their life and end up in jail...so maybe we can see movies that don't all revolve around the poor little rich boys and girls of the surreal world.\"\n",
      " b\"Green Street, as it was called in the UK, or Hooligans is a bad film. The story is full of fantastical ideas and premises that anyone who lives in England, has been to a football match or knows the first thing about football will spot immediately.<br /><br />My first main gripe with Hooligans is the poor casting of the two main characters. Don't get me wrong, I like Elijah Wood and have a great respect for his work, but despite his best efforts he struggled to pull off this role. The main motivation for his character is anger at the system and anger at betrayal, however he spends much of the film placid and cheery, only displaying his pent up aggression in one brief scene towards the end of the film. This linked with his looks and physique make him a thoroughly unconvincing addition to a gang of football hooligans. At no point during the film was I convinced that a) he could handle himself in a fight against such thugs and b) the 'firm' of thugs would accept such a person into their fold.<br /><br />The other main character is played by Charlie Hunnam. Charlie looks the part, and is fairly convincing as a thug. Unfortunately, being a native of Newcastle Upon Tyne in the North of England, he demonstrates the worst East London accent since Dick Van Dyke tried to go cock-en-y in Marry Poppins. Details such as this probably will not bother an American audience who will be less attuned to regional dialect in the UK, but being from the UK it was a problem I couldn't ignore and it contributed to ruining the movie for me. The supporting cast all gave convincing performances and were well cast, especially the role of Bover. The lad playing this character would have been much more suited to the main role that Charlie played. With a film like this, you have to convince the audience that your characters are plausible, unfortunately, the casting failed. Imagine if you made a film like The Godfather and had Sean Hayes (Jack) from Will and Grace playing Michael Corleone's part. You would not be convinced. The story in Hooligan is also full in implausibilities. I am no football Hooligan, but I am a fantatical football fan. I know how cliquey a group of 'regular' football supporters can be, as such it deem it impossible for a non-football fan, who is not a fan of the club in question, is not from the area in question and not even of English nationality to be embraced by a 'firm' who equate to a secret organisation in some severe cases. My final, and biggest, problem with this film, is the way it portrays football hooligans. I take objection to the film's idea that despite being very violent individuals, hooligans are excused as they live by some sort of code of ethics in their own world and should be admired for being brave and loyal to each other. This is complete rubbish. Football hooligans are complete scum. They take football, the national sport of England and use it as an excuse to terrorise, frighten and intimidate people. They only represent a tiny percentage of football fans but give the whole game and people of this country a bad reputation. They are not brave or loyal, they are cowardly and evil. If the 'GSE' in this film truly loved their club, West Ham, why would the devote their lives to being a stain on its name. Hooligans are an embarrassment to football and to English society. Football hooligans do for the reputation of football what Hitler did to the reputation of Germans. Although this film tries/intends to show the 'gritty' side of football violence. It does nothing more than promote it as some kind of excusable activity for extreme fans of the sport. It does not show the poor innocent by-standers at football matches who have their day ruined by some idiot throwing coins/lighters/glass into the crowd. It does not show the innocent home and property owners who have to put up with graffiti and broken windows. It does not show the REAL fans of football clubs who suffer indignity and embarrassment when their teams supporters are banned from travelling to away matches or abroad to European games because the thugs among them ruin it for everyone. If you want to see a good film about football violence, watch the BBC drama 'The Firm'.\"\n",
      " b\"The school nerd Marty (Simon Scuddamore) is sexually humiliated by a bunch of classmates and then is in a lab explosion (set by them also) where his face is scarred by acid. Years later all the jerks get invited back to the high school (since closed) for a reunion. What they didn't know is that Marty is inviting them back to kill them. Then a storm starts, they're locked in the school and Marty starts to take revenge.<br /><br />Pretty silly. The murders are inventive and gory and there are some creepy atmospheric shots of the deserted school--but that's about it. The humiliations inflicted on Scuddamore are more than cruel (he's stripped, has his head dunked in a toilet AND gets burnt) and are just uncomfortable to watch. Considering Scuddamore committed suicide shortly after this was released make them almost impossible to view. Also this movie goes out of its way to have nudity. There is full frontal of Scuddamore (surprising for any movie) but one girl decides to take a bath alone...AFTER they know a killer is wandering around after them! And then there's the couple that has to have sex. This is the type of film where the killer seems to know where everybody is going to be and can teleport himself to them. It ends with a twist which had me groaning and rolling my eyes then ANOTHER twist which had me wanting to throw something heavy at the TV! The acting is bearable--not good, but bearable. Caroline Munro is in this too. She's a very beautiful woman but not much of an actress.<br /><br />This gets a 3 for some effectively gory murders and atmosphere. Otherwise it's run of the mill and forgettable. Scuddamore's tragic suicide has given this film more attention than it deserves.\"\n",
      " b'When an attempt is made to assassinate the Emir of Ohtar, an Arab potentate visiting Washington, D.C., his life is saved by a cocktail waitress named Sunny Davis. Sunny becomes a national heroine and media celebrity and as a reward is offered a job working for the Protocol Section of the United States Department of State. Unknown to her however, the State Department officials who offer her the job have a hidden agenda.<br /><br />A map we see shows Ohtar lying on the borders of Saudi Arabia and South Yemen, in an area of barren desert known as the Rub al-Khali, or Empty Quarter. In real life a state in this location would have a population of virtually zero, and virtually zero strategic value, but for the purposes of the film we have to accept that Ohtar is of immense strategic importance in the Cold War and that the American government, who are keen to build a military base there, need to do all that they can in order to keep on the good side of its ruler. It transpires that the Emir has taken a fancy to the attractive young woman who saved him and he has reached a deal with the State Department; they can have their base provided that he can have Sunny as the latest addition to his harem. Sunny\\'s new job is just a ruse to ensure that the Emir has further opportunities to meet her.<br /><br />A plot like this could have been the occasion for some hilarious satire, but in fact the film\\'s satirical content is rather toned down. Possibly in 1984 the American public were not in the mood for trenchant satire on their country\\'s foreign policy; this was, after all, the year in which Ronald Reagan carried forty-nine out of fifty states in the Presidential election and his hard line with the Soviet Union was clearly going down well with the voters. (If the film had been made a couple of years later, in the wake of the Iran/Contra affair, its tone might have been different).<br /><br />The film is not so much a satire as a vehicle for Goldie Hawn to show off her brand of cuteness and charm. Sunny is a typical Goldie character- pretty, sweet-natured, naive and not too bright. There is, however, a limit to how far you can go with cuteness and charm alone, and you cannot automatically make a bad film a good one just by making the leading character a dumb blonde. (Actually, that sounds more like a recipe for making a good film a bad one). Goldie tries her best to save this one, but never succeeds. Part of the reason is the inconsistent way in which her character is portrayed. On the one hand Sunny is a sweet, innocent country girl from Oregon. On the other hand she is a 35-year-old woman who works in a sleazy bar and wears a revealing costume. The effect is rather like imagining Rebecca of Sunnybrook Farm grown up and working as a Bunny Girl.<br /><br />The more important reason why Goldie is unable to rescue this film is even the best comedian or comedienne is no better than his/her material, and \"Protocol\" is simply unfunny. Whatever humour exists is tired and strained, relying on offensive stereotypes about Arab men who, apparently, all lust after Western women, particularly if they are blonde and blue-eyed. There was a lot of this sort of thing about in the mid-eighties, as this was the period which also saw the awful Ben Kingsley/ Nastassia Kinski film \"Harem\", about a lascivious Middle Eastern ruler who kidnaps a young American woman, and the mini-series of the same name which told a virtually identical story with a period setting. The film-makers seem to have realised that their film would not work as a pure comedy, because towards the end it turns into a sort of latter-day \"Mr Smith Goes to Washington\". Sunny turns from a blonde bimbo into a fount of political wisdom and starts uttering all sorts of platitudes about Democracy and the Constitution and the Citizen\\'s Duty to Vote and We The People and how the Price of Liberty is Eternal Vigilance blah blah blah\\xc2\\x85\\xc2\\x85, but in truth the film is no more successful as a political parable than it is as a comedy.<br /><br />Goldie Hawn has made a number of good comedies, such as \"Cactus Flower\", \"Overboard\" and \"\"Housesitter\", but \"Protocol\" is not one of them. I have not seen all of her films, but of those I have seen this dire comedy is by far the worst. 3/10'\n",
      " b\"Just about everything in this movie is wrong, wrong, wrong. Take Mike Myers, for example. He's reached the point where you realize that his shtick hasn't changed since his SNL days, over ten years ago. He's doing the same cutesy stream-of-consciousness jokes and the same voices. His Cat is painfully unfunny. He tries way to hard. He's some weird Type A comedian, not the cool cat he's supposed to be. The rest of the movie is just as bad. The sets are unbelievably ugly --- and clearly a waste of millions of dollars. (Cardboard cut-outs for the background buildings would have made more sense than constructing an entire neighborhood and main street.) Alec Balwin tries to do a funny Great Santini impression, but he ends up looking and sounding incoherent. There's even an innapropriate cheesecake moment with faux celebrity Paris Hilton --- that sticks in the mind simply because this is supposed to be a Dr. Seuss story. Avoid this movie at all costs, folks. It's not even an interesting train wreck. (I hope they'll make Horton Hears a Who with Robin Williams. Then we'll have the bad-Seuss movie-starring-spasitc- comedian trilogy.)\"\n",
      " b\"I'm a fan of both Shakespeare and MST3K, so I waited anxiously to see this episode. I'll comment on the movie first, then the MST3K episode. The recipe for this movie: take talented actors, rich and beautiful Shakespeare material, and a $1.25 budget. Mix well, then drain of all life and movement, until dull and lifeless. Serve cold in a big, plain stone cauldron. Movie, I give 3 out of 10, because the actors at least deserve a little bit of credit. Okay, now the MST3K episode. I'll admit it, the first time I saw it, I fell asleep halfway through. I understand that was the reaction of several other veiwers as well. However, when I watched it a second time, I realized that there was a whole host of intelligent references and good lines I missed the first time around. The trick with this episode is: listen carefully! It takes a couple of viewings to catch each line. Give it a second chance, and You'll see what I mean. MST3K Episode: 7 1/2 out of 10.\"\n",
      " b\"I mean, really... either i suddenly lost my sense of humor or this is just a really bad movie. It's stupid, ridiculous and just not funny AT ALL.<br /><br />Since i saw the preview i knew it wasn't going to be a great movie, i just didn't think it was gonna be that bad...<br /><br />What happened to the good old times when you could find clever funny lines at any movie? When the actors didn't have to play ridiculous roles in attempt to be funny?. Now we find ourselves with movies like this one, Borat, Little Men, Scary Movie 4 where i could not find the funny parts!!<br /><br />Just skip this piece of garbage<br /><br />P.S. (sorry for my English)\"\n",
      " b\"While this movie has many flaws, it is in fact a fun '80s movie. Eddie Murphy peaks during his 80's movies here. While his character is indistinguishable from earlier movies, his timing is almost flawless with perfect partners and foils.<br /><br />Couple this with the hypnotic beauty of Charlotte Lewis, this makes for a fun rainy day action-comedy flick.<br /><br />\"\n",
      " b'1st watched 2/28/2006 - 4 out of 10(Dir-Sydney Pollack):-DVD version I watched titled \"3 Days of the Condor\"- So so CIA drama full of laid-back performances making for a very laid-back movie. The premise of the story revolves around 7 out of 8 members of a CIA research group being killed with Robert Redford\\'s character, codename = Condor, being the one that was left. Who killed them and why? That\\'s what Redford tries to find out while trying to not be the 8th victim at the same time. Along the way, he gets Faye Dunaway\\'s character involved involved, originally because he needs a place to hide, and then she eventually helps him out after a little lovey-dovey time. This is one of a handful of innocent guy on the run stories but this one doesn\\'t have a lot of suspense. The flat performances don\\'t help and the finish doesn\\'t seal the deal for the audience enough either. Despite having a good director in Sydney Pollack and a group of classic performers, the story and the performances are not what they should be and therefore the movie is not what it should be.'\n",
      " b'Saying this movie is extremely hard to follow and just as frustrating to sit through is putting it very mildly. Also saying that the current available print is dark, dreary, scratchy, abysmally edited, painfully dubbed, seemingly censored and in almost unwatchable shape is also correct. This film is in dire need of a good remastering from the full, uncut, original negative and seeing how it\\'s reasonably atmospheric (and won the director an award at the Catalonia Film Festival), it might actually be worth the trouble. Then again, maybe not... It\\'s just impossible to tell in its current condition what kind of movie it actually is. It starts fairly interesting, if you can discount the completely senseless pre-credits opening sequence, which involves a deranged cat-killing, snake-loving little girl named Gerda. The girls mom, Carla (M\\xc3\\xb3nica Randall, who should have laid off the eyeliner a little bit), splashes some gasoline around in the garage and torches the brat. Seemingly about as crazy as young Gerda, she goes to visit her estranged photographer (ex?) boyfriend Mario (\"John\"/Cihangir Caffari). He\\'s on vacation from work, but so desperate to get away from Carla that he begs his employers to set him up on an assignment... any assignment. She scowls \"You\\'ll be sorry!\" as he heads out the door. Well, Mario is assigned to photograph \"Witches Mountain\" (somewhere in the Pyrenees, I believe). Before he gets to his destination, he gets sight of a hottie on the beach named Delia (Patty Shepard) and snaps a few pictures of her taking off her bikini top. Only slightly peeved, she claims to be a single writer, the two flirt and then decide it would be a swell idea if they went on the trip up the mountain together. When they stop by her place so she can pack her bags, Mario suddenly hears loud, sinister music. Delia claims he\\'s just hearing things.<br /><br />So the two begin their trip up the mountain, taking a stop at a local inn to spend the night. There they encounter a weird, partially-deaf, crazy-eyed innkeeper (Victor Israel) and Delia claims someone was spying on here through her window. The next day, under some trance, she wanders off up the mountain and is eventually located by Mario, who hops out of his jeep and runs after her. While he\\'s finding out what\\'s up, someone steals their wheels and they\\'re forced to walk a piece, eventually finding the jeep undamaged at the foot of a small, ancient, seeming abandoned village... almost like someone was trying to intentionally lure them there. Well as we will see, that\\'s exactly what has happened. In the village they encounter a friendly old woman named Zanta (Ana Farra) who claims she\\'s the only person still living there and lets them stay in her home. Mario takes some pictures of the \"abandoned\" city and when he develops them they are eerily full of people. Slightly creeped out, he and Delia begin to leave and get stuck in \"treacherous\" fog and have to pull over and camp out for the night. The rest of the movie has to do with voodoo dolls, black cats transforming into sexy women, Satanic rituals performed by ladies in their bras and a deadly fall off a cliff. And yeah, coincidentally Carla the estranged wife turns out to be one of the witches, too. It all takes place in semi-darkness and to be quite honest, I didn\\'t know what the hell was going on most of the time. The inconclusive \"open\" ending is just an additional slap in the face to anyone having to suffer through the rest of this senseless mess.<br /><br />Honestly, there are just a few things that stand out to me as being really good. The first is actress Shepard, who has that great Barbara Steele kind of dark, mysterious beauty. There\\'s also an excellent music score (credited to Fernando Garcia Morcillo) and chanting songs, which aided immensely in making this film as atmospheric as it is. The location work is fairly decent, but as I said, the print is ugly as can be and it doesn\\'t make a lick of sense, so proceed with caution on this one.'\n",
      " b\"This film was the recipient of the 1990 Academy award for Best Animated Short Film. Over the last few weeks, I have seen dozens of the nominees and recipients of this award from the last 30 years and I really think that this film might just be the worst of them all--yet it wasn't just a nominee but it won!! I assume that 1989 must have just been a horrible year for the genre.<br /><br />The film shows a group of characters that look a bit like super-skinny Uncle Festers. The appear to be simple articulated figures who are moved using stop motion animation. All are identical--with the same faces, bodies and clothes. The only difference is that each has a different number drawn on their backs. They are all standing on a large platform that is suspended, as if by magic, in space. Each has a pole and their is also a box on the platform. The platform begins tilting slightly and in response the men move about in an effort to balance the platform. This goes on and on and on and on for the longest time. The only relief from this tedium is when one of them acts rather nasty towards the end, but it just isn't enough to make this fun to watch in the least. Aside from passable stop motion animation, this short offers nothing of interest to me....NOTHING.<br /><br />By the way, the great short KNICK KNACK also came out in 1989 and I have no idea why it was not among the nominees. It was a GREAT short and was far better than any of the nominees that year or the year before. Perhaps Pixar's success in previous years resulted in a bias against them, but KNICK KNACK is so clever and so funny it seems almost criminal to have ignored it. Could Pixar have not entered it? This seems unlikely.\"\n",
      " b\"'Maladolescenza' has the air of a dark fairy tale, with its child protagonists, forest setting, and the discovery of a castle's ruins. Yet at its core, the film is essentially an unusual psychosexual study of adolescents. Opening with a dream sequence employing the not-so-subtle metaphor of Fabrizio wrestling with his menacing hound, the film details his psychological persecution of Laura, the girl who has pledged her love to him, and his eventual romance with the equally malicious Sylvia. The film's psychological complexities do give the film merit, yet there's no doubting how unnecessarily exploitive the film is in its depiction of nudity and sex. The film's look relies more on its gorgeous locations rather than particular cinematographic skill, and there's no doubting the film's greatest asset is the creepy, children's choir-augmented soundtrack. With its odd dreamlike quality, the film is at best interesting, yet pales beside Louis Malle's surreal and brilliant 'Black Moon' from the same era. Certainly deserving of the art versus pornography debate, for unlike many banned films, Pasolini's 'Salo' or Larry Clark's 'Ken Park' for instance, the film is rather unremarkable from an artistic perspective. Cinema seems to be gradually losing its ability to shock, so perhaps 'Maladolescenza' should be admired for retaining that power thirty years after its release. However shock value is the one reason alone the film is memorable. <br /><br />The film does have its defenders. Yet so does Nazism.\"\n",
      " b'Two things haunt you throughout L\\'intrus (The Intruder): who\\'s the intruder and is it a movie or a dream you\\'re watching? The ending is so shocking that for a while you\\'re at a loss for an answer to either of those questions. The intruder pops up as different characters, different men in different circumstances who don\\'t belong in the scene, so they\\'re expelled from it, kindly or brutally, but often without emotional involvement. The main character, Louis, is a contemptible man. He\\'s got rough ways, some mean job and no heart. He needs one and goes after it. He has a heart transplanted and afterwards decides to start a new life. Can this man succeed in his quest for redemption? A guy like that could cut your throat at the drop of a hat. You know it but Claire Denis doesn\\'t encourage you to judge him. Occasionally, there\\'s a young Russian woman -a beautiful girl who seems to inhabit someplace between heaven and earth - who does judge him. She may even punish him. But not Denis. There\\'s the character played by Beatrice Dalle who wants no business with him: don\\'t touch me, she says. But Denis lets this man be himself, films him in his self-absorbed quest. I don\\'t know if what she films is the heart or the mind but it isn\\'t the traditional plot basics. Whatever she films, you get it in the end. You know who\\'s \"the\" intruder, you know why, more or less, and some scenes come back to your mind with their full meaning. But was it a movie or a dream?'\n",
      " b\"This begins a wager between Edgar Allen Poe and a journalist...Poe bets that the man can not spend an entire night in a creepy castle. Well, of course he can, but will he come out unscathed? Hard to say with all these strange people that aren't supposed to be there wandering around, including the icy Barbara Steele. This is a fairly odd film in that the presentation is both in French and English, and switches back and forth a few times. Perhaps this is done because bits of dialog were lost? It's also rather dark and claustrophobic, being that one doesn't see much beyond a small circle of light that candles and such generate, plus there's a feel of dread and impending doom pretty much at all times. This version (on Synapse) is also uncensored and I wondered what might be censored in a film from 1964 until I saw the topless scene, I guess that might be it. Overall this is pretty good and in gloomy black and white. Barbara Steele definitely makes the movie too. 8 out of 10.\"\n",
      " b\"Where the Sidewalk Ends is quite a good film-noir crime drama and is shot well in black and white and on location as well.<br /><br />A copper accidentally kills a bloke who is suspected of murder and to protect himself, he covers this up and blames it on another person he doesn't like who has committed a lot of crimes in the past. But towards the end, he owns up but not before falling in love with a woman he meets who is the lover of the person he killed...<br /><br />The cast includes Dana Andrews (While the City Sleeps, Curse of the Demon), Gene Tierney (Laura, The Ghost and Mrs Muir), Gary Merrill (Mysterious Island), Karl Malden (The Streets of San Francisco, Beyond the Posidon Adventure) and Craig Stevens (The Deadly Mantis). Good parts from all.<br /><br />Where the Sidewalk Ends is worth checking out if you get the chance. Excellent.<br /><br />Rating: 3 stars out of 5.\"\n",
      " b'Well, if you like pop/punk, punk, ska, and a tad bit of modern psycho billy, then seeing the live performances are about the only thing worth watching. This movie has tons and tons of band cameos, along with president of Troma, Lloyd Kaufman as a semi-major role, and lots of goofy death scenes. Sounds like it may be good, right? Well, the deaths keep coming, and repeatedly to many different bands of the Warp Tour and the fans at the event. Some of the deaths start of stylish, but then they are recycled over and over, to the point of being completely repetitive. Almost everyone dies of having their head smashed, or intestines being pulled from their stomach. The gore looks as if it was from Andreas Schnaas\\' \"Zombie 90: Extreme Pestilence\"; with this being the \"watered-down type blood\", but now that movie is actually decent, and provides humor-something that this movie terribly lacks. Sure, the movie is made by Doug Sakmann from Troma, it\\'s got great low-budget potential, and it tries...but just too hard. Everything is overly meant to be funny in this movie, and thats what brings it down. Everything tries to be too comic and goofy, by using intentional bad acting, an overuse of pointless deaths, and doing the same thing...over and over. It\\'s basically \"Mulva: Zombie Ass-Kicker\", \"Chairman of the Board\", or any movie you have made with your friends: it\\'s funny to those who made it, and that\\'s about it.<br /><br />Great potential, great idea, great use of effects-but it\\'s the same thing...over and over: A band plays, a band dies, fans die. Everyone dies, blood is sprayed everywhere, the process is repeated.<br /><br />The question is for these types of movies-which is basically \\'bad slap-stick\\'-do they try too hard, or not at all?'\n",
      " b'I hadn\\'t heard of this film until I read an article about it on the Unknown Movies website, which made me curious. As a cartoonist and illustrator myself, I\\'m an admirer of Richard Williams\\'s work - I rate Ziggy\\'s Gift as one of the finest Christmas specials of all time, and even though Who Framed Roger Rabbit stopped being one of my favourite films when I got past the age of sixteen, I still have the highest of regard for the amount of work, care and attention to detail that went into creating the visuals - but it seems the man has his faults, most notably a propensity for going over budget and over schedule, and this film is a testament of just how far wrong even a super-talented individual like Williams can go, given the right circumstances.<br /><br />Raggedy Ann and Andy is a strange confection that tries to be weird and experimental and off the wall within the confines of a children\\'s cartoon. It tries also to be a musical. It tries to be a thousand and one other things as well - is it a freakout? Is it a mind-blower? Is it a paean to the innocence of childhood imagination? - until it finally collapses under the weight of its own limitless ambitions and aspirations. It\\'s beautifully animated, for the most part, though the bland backgrounds could have used a little more attention, but even that doesn\\'t count for much when you\\'re confronted with the hallucinogenic absurdity that constitutes much of the \\'action\\' here.<br /><br />There are a number of problems with the film, but let\\'s start with Raggedy Ann and Andy themselves. They\\'re the stars of the show, yet they have no personalities. Actually, we get the message that Andy is a wannabe tough guy (\"I\\'m no girl\\'s toy\", he sings) and that Ann has a unique perspective on things because her owner, a little girl called Marcella, carries her upside down, but that\\'s all we get to find out about these dull-as-mud characters because the overwhelming weirdness of this film kicks in not long after. I use the word \"weirdness\" advisedly, because some weird films can be hugely entertaining, but this is just flat-out strange. The toys and dolls in the playroom are supposed to be cute and lovable, but they\\'re actually bizarre and disturbing. The two marionettes who do and say everything in sync are a prime example of this. But even they\\'re relatively normal compared to the constantly sneezing pirate captain, whose moustache becomes erect and whose groin visibly swells when he first catches sight of a glamorous French doll. Yes, this is supposed to be a children\\'s film! Then there\\'s the music, none of which is memorable, and all of which is sung by actors who can\\'t sing. And to add insult to injury, there\\'s a lot of singing in this film. When Ann and Andy finally make it out of the playroom, the first thing they do is sing a LONG number in the woods about how scared they are, about how they\\'ll always have each other and...yes, we get the message. This seems to go on forever, but at least it brings some semblance of normality back to the film. Not for long, though, because the Camel with the wrinkled knees leads us into a bizarre world where everything looks like it\\'s made from worn and faded denim, and - bad enough that he\\'s clearly a paranoid schizophrenic - he also starts hallucinating. But this is nothing compared to the scenes that follow. The Greedy, a living, breathing. belching, farting, constantly eating pool of taffy, is so trippy, creepy and ultimately disturbing, you\\'ll hardly believe what you\\'re seeing - this is as close to a drug-free psychedelic experience as I\\'ve ever seen on film. Then, after a l-o-n-g time spent with the Greedy, along comes the psychotic Sir Leonard Looney and his master King KooKoo, whose throne resembles a urinal. I can\\'t believe I\\'m actually writing a capsule description of a real film here - I just had to rub my eyes and remind myself that I\\'m not blogging about an overwhelmingly whacked-out nightmare I had. Part of the sequence in Looney Land resembles one of the old Winsor McCay / Little Nemo cartoons, for no good reason other than somebody felt like doing it, probably. All this would be fine if there was some kind of rhyme or reason behind it, but there isn\\'t. These scenes are just strange, and very, very long. Surrealism only works when there\\'s a strong idea behind it, or takes place against some semblance of reality. But NOTHING in these scenes points towards any kind of reality. Take away this element, and you\\'re left with pure self indulgence.<br /><br />As the final scenes unravel, even the animation begins to look less impressive (the pirate ship, ludicrously detailed, jerks about on the water in a manner that suggests some of the cels went missing during the production) and there\\'s a non-event of an ending that simply suggests money ran out. Even at a meagre 86 minutes in length, the film feels like a never-ending ordeal, and it\\'s understandable why it flopped on its original release. Animation buffs will probably scratch their heads and wonder just how Williams managed to flub this one so spectacularly, but he did, and there\\'s nothing anyone can do about it.'], shape=(32,), dtype=string)\n"
     ]
    }
   ],
   "source": [
    "for text in text_only_train_dataset:\n",
    "    print(text)\n",
    "    break"
   ]
  },
  {
   "cell_type": "code",
   "execution_count": 1,
   "id": "b19c4b8f",
   "metadata": {},
   "outputs": [
    {
     "ename": "NameError",
     "evalue": "name 'TextVectorization' is not defined",
     "output_type": "error",
     "traceback": [
      "\u001b[1;31m---------------------------------------------------------------------------\u001b[0m",
      "\u001b[1;31mNameError\u001b[0m                                 Traceback (most recent call last)",
      "Input \u001b[1;32mIn [1]\u001b[0m, in \u001b[0;36m<cell line: 2>\u001b[1;34m()\u001b[0m\n\u001b[0;32m      1\u001b[0m \u001b[38;5;66;03m# vectorize with tf-idf\u001b[39;00m\n\u001b[1;32m----> 2\u001b[0m vectorizer \u001b[38;5;241m=\u001b[39m \u001b[43mTextVectorization\u001b[49m(ngrams\u001b[38;5;241m=\u001b[39m\u001b[38;5;241m2\u001b[39m, max_tokens\u001b[38;5;241m=\u001b[39mMAX_TOKENS, output_mode\u001b[38;5;241m=\u001b[39m\u001b[38;5;124m'\u001b[39m\u001b[38;5;124mtf_idf\u001b[39m\u001b[38;5;124m'\u001b[39m)\n\u001b[0;32m      4\u001b[0m \u001b[38;5;66;03m# Skip GPU execution as dtype=tf.string is not supported for copy btn GPU & CPU\u001b[39;00m\n\u001b[0;32m      5\u001b[0m \u001b[38;5;28;01mwith\u001b[39;00m tf\u001b[38;5;241m.\u001b[39mdevice(\u001b[38;5;124m'\u001b[39m\u001b[38;5;124m/CPU:0\u001b[39m\u001b[38;5;124m'\u001b[39m):\n",
      "\u001b[1;31mNameError\u001b[0m: name 'TextVectorization' is not defined"
     ]
    }
   ],
   "source": [
    "# vectorize with tf-idf\n",
    "vectorizer = TextVectorization(ngrams=2, max_tokens=MAX_TOKENS, output_mode='tf_idf')\n",
    "\n",
    "# Skip GPU execution as dtype=tf.string is not supported for copy btn GPU & CPU\n",
    "with tf.device('/CPU:0'):\n",
    "    vectorizer.adapt(text_only_train_dataset)"
   ]
  },
  {
   "cell_type": "code",
   "execution_count": null,
   "id": "929f3a37",
   "metadata": {},
   "outputs": [],
   "source": [
    "# create datasets\n",
    "tf_train = train_dataset.map(lambda x, y: (vectorizer(x), y), num_parallel_calls=MULTIPLE_CPU)\n",
    "tf_val = val_dataset.map(lambda x, y: (vectorizer(x), y), num_parallel_calls=MULTIPLE_CPU)\n",
    "tf_test = train_dataset.map(lambda x, y: (vectorizer(x), y), num_parallel_calls=MULTIPLE_CPU)"
   ]
  },
  {
   "cell_type": "code",
   "execution_count": null,
   "id": "d80abfa1",
   "metadata": {},
   "outputs": [],
   "source": [
    "# inspect dataset\n",
    "inspect_dataset(tf_train)"
   ]
  },
  {
   "cell_type": "markdown",
   "id": "b4b7ab7d",
   "metadata": {},
   "source": [
    "## MODEL"
   ]
  },
  {
   "cell_type": "code",
   "execution_count": null,
   "id": "a41b0acd",
   "metadata": {},
   "outputs": [],
   "source": [
    "# define and compile your model\n",
    "model = get_model()\n",
    "\n",
    "# get model summary\n",
    "model.summary()"
   ]
  },
  {
   "cell_type": "markdown",
   "id": "c8917385",
   "metadata": {},
   "source": [
    "### Model Training (Unigram)"
   ]
  },
  {
   "cell_type": "code",
   "execution_count": null,
   "id": "d1d4355a",
   "metadata": {},
   "outputs": [],
   "source": [
    "# define callbacks if any\n",
    "callbacks = [\n",
    "    keras.callbacks.ModelCheckpoint('binary_1gram.keras', save_best_only=True)\n",
    "]"
   ]
  },
  {
   "cell_type": "code",
   "execution_count": null,
   "id": "71873951",
   "metadata": {},
   "outputs": [],
   "source": [
    "# fit or train your model with given datasets\n",
    "history_dense = model.fit(train_ds.cache(), validation_data=val_ds.cache(), epochs=EPOCHS, callbacks=callbacks)"
   ]
  },
  {
   "cell_type": "markdown",
   "id": "a67fc543",
   "metadata": {},
   "source": [
    "#### Evaluation"
   ]
  },
  {
   "cell_type": "code",
   "execution_count": null,
   "id": "aa330388",
   "metadata": {},
   "outputs": [],
   "source": [
    "model = keras.models.load_model('binary_1gram.keras')"
   ]
  },
  {
   "cell_type": "code",
   "execution_count": null,
   "id": "142c7d99",
   "metadata": {},
   "outputs": [],
   "source": [
    "print(f\"Test acc: {model.evaluate(test_ds)[1]:.3f}\")"
   ]
  },
  {
   "cell_type": "code",
   "execution_count": null,
   "id": "379f644c",
   "metadata": {},
   "outputs": [],
   "source": [
    "df = pd.DataFrame(data=history_dense.history)\n",
    "df.describe()"
   ]
  },
  {
   "cell_type": "code",
   "execution_count": null,
   "id": "dfbbfcb9",
   "metadata": {},
   "outputs": [],
   "source": [
    "plot_loss_accuracy(history_dense.history,IMDB_DENSE_OUTPUT)"
   ]
  },
  {
   "cell_type": "markdown",
   "id": "06e5abe8",
   "metadata": {},
   "source": [
    "### Model Training (Bigram)"
   ]
  },
  {
   "cell_type": "code",
   "execution_count": null,
   "id": "ba9f1db8",
   "metadata": {},
   "outputs": [],
   "source": [
    "bigram_model = get_model()\n",
    "bigram_model.summary()"
   ]
  },
  {
   "cell_type": "code",
   "execution_count": null,
   "id": "884ecb3b",
   "metadata": {},
   "outputs": [],
   "source": [
    "callbacks = [keras.callbacks.ModelCheckpoint('bigram_model.keras', save_best_only=True)]"
   ]
  },
  {
   "cell_type": "code",
   "execution_count": null,
   "id": "e6ef5115",
   "metadata": {},
   "outputs": [],
   "source": [
    "history_bigram_dense = bigram_model.fit(btrain_ds.cache(), validation_data=bval_ds, callbacks=callbacks, epochs=EPOCHS)"
   ]
  },
  {
   "cell_type": "markdown",
   "id": "ceed9f56",
   "metadata": {},
   "source": [
    "#### Evaluation"
   ]
  },
  {
   "cell_type": "markdown",
   "id": "52ad3cdd",
   "metadata": {},
   "source": [
    "#### Testing"
   ]
  },
  {
   "cell_type": "code",
   "execution_count": null,
   "id": "a2f670ef",
   "metadata": {},
   "outputs": [],
   "source": [
    "model = keras.models.load_model('bigram_model.keras')\n",
    "print(f\"Test acc: {model.evaluate(btest_ds)[1]:.3f}\")"
   ]
  },
  {
   "cell_type": "markdown",
   "id": "995d068f",
   "metadata": {},
   "source": [
    "#### Visualization"
   ]
  },
  {
   "cell_type": "code",
   "execution_count": null,
   "id": "ae844c99",
   "metadata": {},
   "outputs": [],
   "source": [
    "df = pd.DataFrame(data=history_bigram_dense.history)\n",
    "df.describe()"
   ]
  },
  {
   "cell_type": "code",
   "execution_count": null,
   "id": "debee564",
   "metadata": {},
   "outputs": [],
   "source": [
    "plot_loss_accuracy(history_bigram_dense.history,IMDB_DENSE_OUTPUT)"
   ]
  },
  {
   "cell_type": "markdown",
   "id": "bfdae5ca",
   "metadata": {},
   "source": [
    "with bigram, hence local order is pretty important"
   ]
  },
  {
   "cell_type": "markdown",
   "id": "17214d8a",
   "metadata": {},
   "source": [
    "### Model Training (TF-IDF)"
   ]
  },
  {
   "cell_type": "code",
   "execution_count": null,
   "id": "33daedec",
   "metadata": {},
   "outputs": [],
   "source": [
    "# get model\n",
    "tf_model = get_model()\n",
    "tf_model.summary()"
   ]
  },
  {
   "cell_type": "code",
   "execution_count": null,
   "id": "ba1f40cd",
   "metadata": {},
   "outputs": [],
   "source": [
    "# callbacks\n",
    "callbacks = [keras.callbacks.ModelCheckpoint('tf_model.keras', save_best_only=True)]\n",
    "\n",
    "# train\n",
    "tf_history = model.fit(tf_train.cache(), validation_data=tf_val.cache(), epochs=EPOCHS, callbacks=callbacks)"
   ]
  },
  {
   "cell_type": "markdown",
   "id": "b9b9ded9",
   "metadata": {},
   "source": [
    "### Evaluation"
   ]
  },
  {
   "cell_type": "code",
   "execution_count": null,
   "id": "5cfd7ffe",
   "metadata": {},
   "outputs": [],
   "source": [
    "model = keras.models.load_model('tf_model.keras')\n",
    "print(f'Test accuracy: {model.evaluate(tf_test)[1]:.3f}')"
   ]
  },
  {
   "cell_type": "code",
   "execution_count": null,
   "id": "2597ab24",
   "metadata": {},
   "outputs": [],
   "source": [
    "df = pd.DataFrame(data=tf_history.history)\n",
    "df.describe()"
   ]
  },
  {
   "cell_type": "markdown",
   "id": "2a09a8de",
   "metadata": {},
   "source": [
    "### Visualization"
   ]
  },
  {
   "cell_type": "code",
   "execution_count": null,
   "id": "643c4f02",
   "metadata": {},
   "outputs": [],
   "source": [
    "plot_loss_accuracy(tf_history.history,IMDB_DENSE_OUTPUT)"
   ]
  },
  {
   "cell_type": "markdown",
   "id": "9b23b611",
   "metadata": {},
   "source": [
    "## Exporting a Model that process raw strings"
   ]
  },
  {
   "cell_type": "code",
   "execution_count": null,
   "id": "93d85915",
   "metadata": {},
   "outputs": [],
   "source": []
  },
  {
   "cell_type": "markdown",
   "id": "d0475bb5",
   "metadata": {},
   "source": [
    "## Inferencing"
   ]
  },
  {
   "cell_type": "code",
   "execution_count": null,
   "id": "37920078",
   "metadata": {},
   "outputs": [],
   "source": []
  },
  {
   "cell_type": "markdown",
   "id": "c58abfb4",
   "metadata": {},
   "source": [
    "## THE SEQUENCE MODEL APPROACH  (WORDS AS A SEQUENCE)\n"
   ]
  },
  {
   "cell_type": "markdown",
   "id": "2d0f3092",
   "metadata": {},
   "source": [
    "### Config"
   ]
  },
  {
   "cell_type": "code",
   "execution_count": null,
   "id": "dee0d367",
   "metadata": {},
   "outputs": [],
   "source": [
    "# In order to keep a managable input size, we will truncate the inputs after the first 600 words\n",
    "# this is a reasonable choice, since the average review length is 233 words, and only 5% of \n",
    "# reviews are longer than 600 words\n",
    "MAX_LENGTH = 300\n",
    "EMBEDDING_DIM = 256\n",
    "HIDDEN_DIM = 32"
   ]
  },
  {
   "cell_type": "markdown",
   "id": "7ed47d9e",
   "metadata": {},
   "source": [
    "### Sequence data processiong (One hot encoding"
   ]
  },
  {
   "cell_type": "code",
   "execution_count": null,
   "id": "8c64575d",
   "metadata": {},
   "outputs": [],
   "source": [
    "# Standardization, tokenization and vectorization\n",
    "vectorizer = TextVectorization(max_tokens=MAX_TOKENS, output_mode='int', output_sequence_length=MAX_LENGTH)\n",
    "vectorizer.adapt(text_only_train_dataset)\n",
    "\n",
    "train_ds = train_dataset.map(lambda x, y: (vectorizer(x), y), num_parallel_calls=MULTIPLE_CPU)\n",
    "val_ds = val_dataset.map(lambda x, y: (vectorizer(x), y), num_parallel_calls=MULTIPLE_CPU)\n",
    "test_ds = test_dataset.map(lambda x, y: (vectorizer(x), y), num_parallel_calls=MULTIPLE_CPU)"
   ]
  },
  {
   "cell_type": "code",
   "execution_count": null,
   "id": "ec3e1b06",
   "metadata": {},
   "outputs": [],
   "source": [
    "inspect_dataset(train_ds)"
   ]
  },
  {
   "cell_type": "markdown",
   "id": "712a0296",
   "metadata": {},
   "source": [
    "### Word Embeddings\n",
    "- There are two ways to obtain word embeddings\n",
    "    1. Learn word embeddings jointly with the main task (starts with random word vector)\n",
    "    2. Load into your model word embeddings that were precomputed using a different machine learning task (pretrained word embeddings)"
   ]
  },
  {
   "cell_type": "markdown",
   "id": "164a8aeb",
   "metadata": {},
   "source": [
    "#### Learn word embeddings with Embedding Layer\n",
    "- The Embedding layer takes at least two args:\n",
    "    1. The number f possible tokens. \n",
    "    2. The dimensionality of the embeddings."
   ]
  },
  {
   "cell_type": "markdown",
   "id": "dd329381",
   "metadata": {},
   "source": [
    "### MODEL"
   ]
  },
  {
   "cell_type": "code",
   "execution_count": null,
   "id": "b031681c",
   "metadata": {},
   "outputs": [],
   "source": [
    "# mask_zero param is used to perform input masking which will skip some tokens in time t\n",
    "def get_lstm_with_embeddings(max_tokens=MAX_TOKENS, hidden_dim=32, mask_zero=False):\n",
    "    # define\n",
    "    inputs = keras.Input(shape=(None,), dtype='int64')\n",
    "    # embedded = tf.one_hot(inputs, depth=max_tokens) # encode the intergers into binary 20000 dimension vector\n",
    "    embedded = layers.Embedding(input_dim=max_tokens, \n",
    "                                output_dim=EMBEDDING_DIM, \n",
    "                                mask_zero=mask_zero)(inputs)\n",
    "    x = layers.Bidirectional(layers.LSTM(hidden_dim))(embedded)\n",
    "    x = layers.Dropout(0.5)(x)\n",
    "    outputs = layers.Dense(1, activation='sigmoid')(x)\n",
    "    model = keras.Model(inputs, outputs)\n",
    "    \n",
    "    # compile\n",
    "    model.compile(optimizer='rmsprop', loss='binary_crossentropy', metrics=['accuracy'])\n",
    "    \n",
    "    # return\n",
    "    return model"
   ]
  },
  {
   "cell_type": "code",
   "execution_count": null,
   "id": "348a8ecd",
   "metadata": {},
   "outputs": [],
   "source": [
    "def get_lstm(max_tokens=MAX_TOKENS, hidden_dim=32):\n",
    "    # define\n",
    "    inputs = keras.Input(shape=(None,), dtype='int64')\n",
    "    embedded = tf.one_hot(inputs, depth=max_tokens) # encode the intergers into binary 20000 dimension vector\n",
    "    x = layers.Bidirectional(layers.LSTM(hidden_dim))(embedded)\n",
    "    x = layers.Dropout(0.5)(x)\n",
    "    outputs = layers.Dense(1, activation='sigmoid')(x)\n",
    "    model = keras.Model(inputs, outputs)\n",
    "    \n",
    "    # compile\n",
    "    model.compile(optimizer='rmsprop', loss='binary_crossentropy', metrics=['accuracy'])\n",
    "    \n",
    "    # return\n",
    "    return model"
   ]
  },
  {
   "cell_type": "markdown",
   "id": "cd477843",
   "metadata": {},
   "source": [
    "### Train"
   ]
  },
  {
   "cell_type": "code",
   "execution_count": null,
   "id": "65da3348",
   "metadata": {},
   "outputs": [],
   "source": [
    "model = get_lstm()\n",
    "model.summary()"
   ]
  },
  {
   "cell_type": "code",
   "execution_count": null,
   "id": "3616351a",
   "metadata": {},
   "outputs": [],
   "source": [
    "callbacks = [keras.callbacks.ModelCheckpoint('one_hot_bidir_lstm.keras', save_best_only=True)]\n",
    "history_lstm = model.fit(train_ds, validation_data=val_ds, epochs=EPOCHS, callbacks=callbacks)"
   ]
  },
  {
   "cell_type": "markdown",
   "id": "564c09a9",
   "metadata": {},
   "source": [
    "### Evaluation"
   ]
  },
  {
   "cell_type": "code",
   "execution_count": null,
   "id": "65105eb7",
   "metadata": {},
   "outputs": [],
   "source": [
    "# read train history\n",
    "df = pd.DataFrame(history_lstm.history)\n",
    "df.describe()"
   ]
  },
  {
   "cell_type": "code",
   "execution_count": null,
   "id": "866b13b0",
   "metadata": {},
   "outputs": [],
   "source": [
    "# load your model\n",
    "model = keras.models.load_model('one_hot_bidir_lstm.keras')\n",
    "model.summary()"
   ]
  },
  {
   "cell_type": "code",
   "execution_count": null,
   "id": "cdff0f71",
   "metadata": {},
   "outputs": [],
   "source": [
    "# run a test\n",
    "print(f'{model.evaluate(test_ds)[1]:.3f}')"
   ]
  },
  {
   "cell_type": "markdown",
   "id": "d5714380",
   "metadata": {},
   "source": [
    "### Visualization"
   ]
  },
  {
   "cell_type": "code",
   "execution_count": null,
   "id": "b3fca1a5",
   "metadata": {},
   "outputs": [],
   "source": [
    "plot_loss_accuracy(history_lstm.history, IMDB_LSTM_OUTPUT)"
   ]
  },
  {
   "cell_type": "markdown",
   "id": "6862bc34",
   "metadata": {},
   "source": [
    "### Train (Embedding)"
   ]
  },
  {
   "cell_type": "code",
   "execution_count": null,
   "id": "0da9ca4f",
   "metadata": {},
   "outputs": [],
   "source": [
    "inspect_dataset(train_ds)"
   ]
  },
  {
   "cell_type": "code",
   "execution_count": null,
   "id": "0b8b9a7c",
   "metadata": {},
   "outputs": [],
   "source": [
    "model = get_lstm_with_embeddings()\n",
    "model.summary()"
   ]
  },
  {
   "cell_type": "code",
   "execution_count": null,
   "id": "eca9c808",
   "metadata": {},
   "outputs": [],
   "source": [
    "callbacks = [\n",
    "    keras.callbacks.ModelCheckpoint('lstm_with_embeddings.keras', save_best_only=True)\n",
    "]\n",
    "history_lstm_embeddings = model.fit(train_ds, validation_data=val_ds, epochs=EPOCHS, callbacks=callbacks)"
   ]
  },
  {
   "cell_type": "markdown",
   "id": "7947d885",
   "metadata": {},
   "source": [
    "### Evaluation"
   ]
  },
  {
   "cell_type": "code",
   "execution_count": null,
   "id": "c148a91c",
   "metadata": {},
   "outputs": [],
   "source": [
    "df = pd.DataFrame(history_lstm_embeddings.history)\n",
    "df.describe()"
   ]
  },
  {
   "cell_type": "code",
   "execution_count": null,
   "id": "8ee2c442",
   "metadata": {},
   "outputs": [],
   "source": [
    "# load a model and run a test\n",
    "model = keras.models.load_model('lstm_with_embeddings.keras')\n",
    "print(f'{model.evaluate(test_ds)[1]:.3f}')"
   ]
  },
  {
   "cell_type": "markdown",
   "id": "45da27b8",
   "metadata": {},
   "source": [
    "### Visualization"
   ]
  },
  {
   "cell_type": "code",
   "execution_count": null,
   "id": "5e934db8",
   "metadata": {},
   "outputs": [],
   "source": [
    "plot_loss_accuracy(history_lstm_embeddings.history, IMDB_GRU_OUTPUT)"
   ]
  },
  {
   "cell_type": "markdown",
   "id": "c3f4c6f5",
   "metadata": {},
   "source": [
    "### Train (masked embeddings)"
   ]
  },
  {
   "cell_type": "code",
   "execution_count": null,
   "id": "3b1e97d9",
   "metadata": {},
   "outputs": [],
   "source": [
    "inspect_dataset(train_ds)"
   ]
  },
  {
   "cell_type": "code",
   "execution_count": null,
   "id": "e36906d8",
   "metadata": {},
   "outputs": [],
   "source": [
    "model = get_lstm_with_embeddings(mask_zero=True)\n",
    "model.summary()"
   ]
  },
  {
   "cell_type": "code",
   "execution_count": null,
   "id": "0968fbe9",
   "metadata": {},
   "outputs": [],
   "source": [
    "callbacks = [keras.callbacks.ModelCheckpoint('masked_embeddings.keras', save_best_only=True)]\n",
    "history_masked = model.fit(train_ds, validation_data=val_ds, epochs=EPOCHS, callbacks=callbacks)"
   ]
  },
  {
   "cell_type": "markdown",
   "id": "551918e1",
   "metadata": {},
   "source": [
    "### Evaluate"
   ]
  },
  {
   "cell_type": "code",
   "execution_count": null,
   "id": "cbcf1923",
   "metadata": {},
   "outputs": [],
   "source": [
    "df = pd.DataFrame(history_masked.history)\n",
    "df.describe()"
   ]
  },
  {
   "cell_type": "code",
   "execution_count": null,
   "id": "e153b72e",
   "metadata": {},
   "outputs": [],
   "source": [
    "# load a model and run a test\n",
    "model = keras.models.load_model('masked_embeddings.keras')\n",
    "print(f'{model.evaluate(test_ds)[1]:.3f}')"
   ]
  },
  {
   "cell_type": "markdown",
   "id": "abe60a20",
   "metadata": {},
   "source": [
    "### Visualization"
   ]
  },
  {
   "cell_type": "code",
   "execution_count": null,
   "id": "c3c9166c",
   "metadata": {},
   "outputs": [],
   "source": [
    "plot_loss_accuracy(history_masked.history, IMDB_MASKED_OUTPUT)"
   ]
  },
  {
   "cell_type": "markdown",
   "id": "f3c109d1",
   "metadata": {},
   "source": [
    "# SEQ2SEQ"
   ]
  },
  {
   "cell_type": "markdown",
   "id": "bc8cc09c",
   "metadata": {},
   "source": [
    "# CHATBOT"
   ]
  },
  {
   "cell_type": "markdown",
   "id": "851bd004",
   "metadata": {},
   "source": [
    "## load data"
   ]
  },
  {
   "cell_type": "code",
   "execution_count": 2,
   "id": "58c38b32",
   "metadata": {},
   "outputs": [
    {
     "name": "stderr",
     "output_type": "stream",
     "text": [
      "INFO:nlpia.futil:Reading CSV with `read_csv(*('C:\\\\Users\\\\Tajr\\\\AppData\\\\Roaming\\\\Python\\\\Python39\\\\site-packages\\\\nlpia\\\\data\\\\moviedialog.csv',), **{'nrows': None, 'low_memory': False})`...\n"
     ]
    },
    {
     "data": {
      "text/html": [
       "<div>\n",
       "<style scoped>\n",
       "    .dataframe tbody tr th:only-of-type {\n",
       "        vertical-align: middle;\n",
       "    }\n",
       "\n",
       "    .dataframe tbody tr th {\n",
       "        vertical-align: top;\n",
       "    }\n",
       "\n",
       "    .dataframe thead th {\n",
       "        text-align: right;\n",
       "    }\n",
       "</style>\n",
       "<table border=\"1\" class=\"dataframe\">\n",
       "  <thead>\n",
       "    <tr style=\"text-align: right;\">\n",
       "      <th></th>\n",
       "      <th>statement</th>\n",
       "      <th>reply</th>\n",
       "    </tr>\n",
       "  </thead>\n",
       "  <tbody>\n",
       "    <tr>\n",
       "      <th>0</th>\n",
       "      <td>you're asking me out. that's so cute. what's y...</td>\n",
       "      <td>forget it.</td>\n",
       "    </tr>\n",
       "    <tr>\n",
       "      <th>1</th>\n",
       "      <td>no, no, it's my fault we didn't have a proper ...</td>\n",
       "      <td>cameron.</td>\n",
       "    </tr>\n",
       "    <tr>\n",
       "      <th>2</th>\n",
       "      <td>gosh, if only we could find kat a boyfriend...</td>\n",
       "      <td>let me see what i can do.</td>\n",
       "    </tr>\n",
       "    <tr>\n",
       "      <th>3</th>\n",
       "      <td>c'esc ma tete. this is my head</td>\n",
       "      <td>right. see? you're ready for the quiz.</td>\n",
       "    </tr>\n",
       "    <tr>\n",
       "      <th>4</th>\n",
       "      <td>how is our little find the wench a date plan p...</td>\n",
       "      <td>well, there's someone i think might be</td>\n",
       "    </tr>\n",
       "    <tr>\n",
       "      <th>...</th>\n",
       "      <td>...</td>\n",
       "      <td>...</td>\n",
       "    </tr>\n",
       "    <tr>\n",
       "      <th>64345</th>\n",
       "      <td>lighting coghill' 5 cigar: our good colonel du...</td>\n",
       "      <td>um. there are rumours that my lord chelmsford ...</td>\n",
       "    </tr>\n",
       "    <tr>\n",
       "      <th>64346</th>\n",
       "      <td>do you think she might be interested in someone?</td>\n",
       "      <td>which one?</td>\n",
       "    </tr>\n",
       "    <tr>\n",
       "      <th>64347</th>\n",
       "      <td>choose your targets men. that's right watch th...</td>\n",
       "      <td>keep steady. you're the best shots of the twen...</td>\n",
       "    </tr>\n",
       "    <tr>\n",
       "      <th>64348</th>\n",
       "      <td>colonel durnford... william vereker. i hear yo...</td>\n",
       "      <td>good ones, yes, mr vereker. gentlemen who can ...</td>\n",
       "    </tr>\n",
       "    <tr>\n",
       "      <th>64349</th>\n",
       "      <td>your orders, mr vereker?</td>\n",
       "      <td>i'm to take the sikali with the main column to...</td>\n",
       "    </tr>\n",
       "  </tbody>\n",
       "</table>\n",
       "<p>64350 rows × 2 columns</p>\n",
       "</div>"
      ],
      "text/plain": [
       "                                               statement  \\\n",
       "0      you're asking me out. that's so cute. what's y...   \n",
       "1      no, no, it's my fault we didn't have a proper ...   \n",
       "2         gosh, if only we could find kat a boyfriend...   \n",
       "3                         c'esc ma tete. this is my head   \n",
       "4      how is our little find the wench a date plan p...   \n",
       "...                                                  ...   \n",
       "64345  lighting coghill' 5 cigar: our good colonel du...   \n",
       "64346   do you think she might be interested in someone?   \n",
       "64347  choose your targets men. that's right watch th...   \n",
       "64348  colonel durnford... william vereker. i hear yo...   \n",
       "64349                           your orders, mr vereker?   \n",
       "\n",
       "                                                   reply  \n",
       "0                                             forget it.  \n",
       "1                                               cameron.  \n",
       "2                              let me see what i can do.  \n",
       "3                 right. see? you're ready for the quiz.  \n",
       "4                well, there's someone i think might be   \n",
       "...                                                  ...  \n",
       "64345  um. there are rumours that my lord chelmsford ...  \n",
       "64346                                         which one?  \n",
       "64347  keep steady. you're the best shots of the twen...  \n",
       "64348  good ones, yes, mr vereker. gentlemen who can ...  \n",
       "64349  i'm to take the sikali with the main column to...  \n",
       "\n",
       "[64350 rows x 2 columns]"
      ]
     },
     "execution_count": 2,
     "metadata": {},
     "output_type": "execute_result"
    }
   ],
   "source": [
    "raw_data = get_data('moviedialog')\n",
    "raw_data"
   ]
  },
  {
   "cell_type": "markdown",
   "id": "434ae5f2",
   "metadata": {},
   "source": [
    "## Processing"
   ]
  },
  {
   "cell_type": "code",
   "execution_count": 3,
   "id": "e4ec62e5",
   "metadata": {},
   "outputs": [],
   "source": [
    "# variables\n",
    "input_texts, target_texts = [], []\n",
    "input_vocabulary = set()\n",
    "output_vocabulary = set()\n",
    "start_token = '\\t'\n",
    "stop_token = '\\n'"
   ]
  },
  {
   "cell_type": "code",
   "execution_count": 4,
   "id": "6dd0589d",
   "metadata": {},
   "outputs": [
    {
     "data": {
      "text/plain": [
       "25000"
      ]
     },
     "execution_count": 4,
     "metadata": {},
     "output_type": "execute_result"
    }
   ],
   "source": [
    "max_training_samples = min(25000, len(raw_data) - 1)\n",
    "max_training_samples"
   ]
  },
  {
   "cell_type": "code",
   "execution_count": 5,
   "id": "e6847222",
   "metadata": {},
   "outputs": [],
   "source": [
    "# map the data\n",
    "for input_text, target_text in zip(raw_data.statement, raw_data.reply):\n",
    "    target_text = start_token + target_text + stop_token\n",
    "    input_texts.append(input_text)\n",
    "    target_texts.append(target_text)\n",
    "    \n",
    "    # compile the vocabulary set of the unique characters seen in the input_texts\n",
    "    for char in input_text:\n",
    "        if char not in input_vocabulary:\n",
    "            input_vocabulary.add(char)\n",
    "    \n",
    "    for char in target_text:\n",
    "        if char not in output_vocabulary:\n",
    "            output_vocabulary.add(char)\n",
    "        "
   ]
  },
  {
   "cell_type": "code",
   "execution_count": 6,
   "id": "9f5884c8",
   "metadata": {},
   "outputs": [
    {
     "data": {
      "text/plain": [
       "[\"you're asking me out. that's so cute. what's your name again?\",\n",
       " \"no, no, it's my fault we didn't have a proper introduction \",\n",
       " 'gosh, if only we could find kat a boyfriend...',\n",
       " \"c'esc ma tete. this is my head\",\n",
       " 'how is our little find the wench a date plan progressing?']"
      ]
     },
     "execution_count": 6,
     "metadata": {},
     "output_type": "execute_result"
    }
   ],
   "source": [
    "input_texts[:5]"
   ]
  },
  {
   "cell_type": "code",
   "execution_count": 7,
   "id": "5c9dfaa2",
   "metadata": {},
   "outputs": [
    {
     "data": {
      "text/plain": [
       "['\\tforget it.\\n',\n",
       " '\\tcameron.\\n',\n",
       " '\\tlet me see what i can do.\\n',\n",
       " \"\\tright. see? you're ready for the quiz.\\n\",\n",
       " \"\\twell, there's someone i think might be \\n\"]"
      ]
     },
     "execution_count": 7,
     "metadata": {},
     "output_type": "execute_result"
    }
   ],
   "source": [
    "target_texts[:5]"
   ]
  },
  {
   "cell_type": "code",
   "execution_count": 9,
   "id": "336d86b5",
   "metadata": {},
   "outputs": [
    {
     "data": {
      "text/plain": [
       "{' ',\n",
       " '!',\n",
       " \"'\",\n",
       " ',',\n",
       " '.',\n",
       " '0',\n",
       " '1',\n",
       " '2',\n",
       " '3',\n",
       " '4',\n",
       " '5',\n",
       " '6',\n",
       " '7',\n",
       " '8',\n",
       " '9',\n",
       " ':',\n",
       " ';',\n",
       " '?',\n",
       " 'a',\n",
       " 'b',\n",
       " 'c',\n",
       " 'd',\n",
       " 'e',\n",
       " 'f',\n",
       " 'g',\n",
       " 'h',\n",
       " 'i',\n",
       " 'j',\n",
       " 'k',\n",
       " 'l',\n",
       " 'm',\n",
       " 'n',\n",
       " 'o',\n",
       " 'p',\n",
       " 'q',\n",
       " 'r',\n",
       " 's',\n",
       " 't',\n",
       " 'u',\n",
       " 'v',\n",
       " 'w',\n",
       " 'x',\n",
       " 'y',\n",
       " 'z'}"
      ]
     },
     "execution_count": 9,
     "metadata": {},
     "output_type": "execute_result"
    }
   ],
   "source": [
    "input_vocabulary"
   ]
  },
  {
   "cell_type": "code",
   "execution_count": 11,
   "id": "f2288673",
   "metadata": {},
   "outputs": [
    {
     "data": {
      "text/plain": [
       "{'\\t',\n",
       " '\\n',\n",
       " ' ',\n",
       " '!',\n",
       " \"'\",\n",
       " ',',\n",
       " '.',\n",
       " '0',\n",
       " '1',\n",
       " '2',\n",
       " '3',\n",
       " '4',\n",
       " '5',\n",
       " '6',\n",
       " '7',\n",
       " '8',\n",
       " '9',\n",
       " ':',\n",
       " ';',\n",
       " '?',\n",
       " 'a',\n",
       " 'b',\n",
       " 'c',\n",
       " 'd',\n",
       " 'e',\n",
       " 'f',\n",
       " 'g',\n",
       " 'h',\n",
       " 'i',\n",
       " 'j',\n",
       " 'k',\n",
       " 'l',\n",
       " 'm',\n",
       " 'n',\n",
       " 'o',\n",
       " 'p',\n",
       " 'q',\n",
       " 'r',\n",
       " 's',\n",
       " 't',\n",
       " 'u',\n",
       " 'v',\n",
       " 'w',\n",
       " 'x',\n",
       " 'y',\n",
       " 'z'}"
      ]
     },
     "execution_count": 11,
     "metadata": {},
     "output_type": "execute_result"
    }
   ],
   "source": [
    "output_vocabulary"
   ]
  },
  {
   "cell_type": "code",
   "execution_count": 12,
   "id": "82fe653d",
   "metadata": {},
   "outputs": [],
   "source": [
    "# sorting\n",
    "input_vocabulary = sorted(input_vocabulary)\n",
    "output_vocabulary = sorted(output_vocabulary)"
   ]
  },
  {
   "cell_type": "code",
   "execution_count": 14,
   "id": "8aba9521",
   "metadata": {},
   "outputs": [
    {
     "name": "stdout",
     "output_type": "stream",
     "text": [
      "102\n"
     ]
    }
   ],
   "source": [
    "# vocabulary size and max decoder and encoder lenght\n",
    "input_vocabulary_size = len(input_vocabulary)\n",
    "output_vocabulary_size = len(output_vocabulary)\n",
    "max_encoder_seq_len = max([len(text) for text in input_texts])\n",
    "max_decoder_seq_len = max([len(text) for text in target_texts])\n",
    "print(max_decoder_seq_len)"
   ]
  },
  {
   "cell_type": "code",
   "execution_count": 27,
   "id": "4fc4f90f",
   "metadata": {},
   "outputs": [
    {
     "name": "stdout",
     "output_type": "stream",
     "text": [
      "{'\\t': 0, '\\n': 1, ' ': 2, '!': 3, \"'\": 4, ',': 5, '.': 6, '0': 7, '1': 8, '2': 9, '3': 10, '4': 11, '5': 12, '6': 13, '7': 14, '8': 15, '9': 16, ':': 17, ';': 18, '?': 19, 'a': 20, 'b': 21, 'c': 22, 'd': 23, 'e': 24, 'f': 25, 'g': 26, 'h': 27, 'i': 28, 'j': 29, 'k': 30, 'l': 31, 'm': 32, 'n': 33, 'o': 34, 'p': 35, 'q': 36, 'r': 37, 's': 38, 't': 39, 'u': 40, 'v': 41, 'w': 42, 'x': 43, 'y': 44, 'z': 45}\n"
     ]
    }
   ],
   "source": [
    "# character indexing\n",
    "input_token_index = dict([(char, i) for i, char in enumerate(input_vocabulary)])\n",
    "output_token_index = dict([(char, i) for i, char in enumerate(output_vocabulary)])\n",
    "target_token_index = dict([(char, i) for i, char in enumerate(output_vocabulary)])\n",
    "print(target_token_index)"
   ]
  },
  {
   "cell_type": "code",
   "execution_count": 28,
   "id": "73ac2cf4",
   "metadata": {},
   "outputs": [
    {
     "name": "stdout",
     "output_type": "stream",
     "text": [
      "{0: '\\t', 1: '\\n', 2: ' ', 3: '!', 4: \"'\", 5: ',', 6: '.', 7: '0', 8: '1', 9: '2', 10: '3', 11: '4', 12: '5', 13: '6', 14: '7', 15: '8', 16: '9', 17: ':', 18: ';', 19: '?', 20: 'a', 21: 'b', 22: 'c', 23: 'd', 24: 'e', 25: 'f', 26: 'g', 27: 'h', 28: 'i', 29: 'j', 30: 'k', 31: 'l', 32: 'm', 33: 'n', 34: 'o', 35: 'p', 36: 'q', 37: 'r', 38: 's', 39: 't', 40: 'u', 41: 'v', 42: 'w', 43: 'x', 44: 'y', 45: 'z'}\n"
     ]
    }
   ],
   "source": [
    "# create reverse character indexing\n",
    "reverse_input_token_index = dict((i, char) for char, i in input_token_index.items())\n",
    "reverse_target_token_index = dict((i, char) for char, i in target_token_index.items())\n",
    "print(reverse_output_token_index)"
   ]
  },
  {
   "cell_type": "code",
   "execution_count": 30,
   "id": "25eb7178",
   "metadata": {},
   "outputs": [],
   "source": [
    "# one hot encoding\n",
    "encoder_input_data = np.zeros((len(input_texts), max_encoder_seq_len, input_vocabulary_size), dtype='float32')\n",
    "decoder_input_data = np.zeros((len(input_texts), max_decoder_seq_len, output_vocabulary_size), dtype='float32')\n",
    "decoder_target_data = np.zeros((len(input_texts), max_decoder_seq_len, output_vocabulary_size), dtype='float32')\n",
    "\n",
    "# loop over\n",
    "for i, (input_text, target_text) in enumerate(zip(input_texts, target_texts)):\n",
    "    for t, char in enumerate(input_text):\n",
    "        encoder_input_data[i, t, input_token_index[char]] = 1\n",
    "    for t, char in enumerate(target_text):\n",
    "        decoder_input_data[i, t, output_token_index[char]] = 1\n",
    "        \n",
    "        # decoder target data with one step behinde the decoder input data\n",
    "        if t > 0:\n",
    "            decoder_target_data[i, t - 1, target_token_index[char]] = 1"
   ]
  },
  {
   "cell_type": "code",
   "execution_count": 32,
   "id": "2c28ed72",
   "metadata": {},
   "outputs": [
    {
     "data": {
      "text/plain": [
       "(64350, 100, 44)"
      ]
     },
     "execution_count": 32,
     "metadata": {},
     "output_type": "execute_result"
    }
   ],
   "source": [
    "encoder_input_data.shape"
   ]
  },
  {
   "cell_type": "code",
   "execution_count": 33,
   "id": "1ca5819b",
   "metadata": {},
   "outputs": [
    {
     "data": {
      "text/plain": [
       "(64350, 102, 46)"
      ]
     },
     "execution_count": 33,
     "metadata": {},
     "output_type": "execute_result"
    }
   ],
   "source": [
    "decoder_input_data.shape"
   ]
  },
  {
   "cell_type": "code",
   "execution_count": 34,
   "id": "532d2346",
   "metadata": {},
   "outputs": [
    {
     "data": {
      "text/plain": [
       "(64350, 102, 46)"
      ]
     },
     "execution_count": 34,
     "metadata": {},
     "output_type": "execute_result"
    }
   ],
   "source": [
    "decoder_target_data.shape"
   ]
  },
  {
   "cell_type": "markdown",
   "id": "0fa7c1db",
   "metadata": {},
   "source": [
    "## Model"
   ]
  },
  {
   "cell_type": "code",
   "execution_count": 47,
   "id": "07f4e5c4",
   "metadata": {},
   "outputs": [],
   "source": [
    "# define encoder decoder architecture\n",
    "def get_lstm_model(input_vocab_size, output_vocab_size, hidden_dim):\n",
    "    # encoder\n",
    "    encoder_inputs = layers.Input(shape=(None, input_vocab_size))\n",
    "    encoder = layers.LSTM(hidden_dim, return_state=True) # this return the internal states\n",
    "    encoder_outputs, state_h, state_c = encoder(encoder_inputs)\n",
    "    encoder_states = [state_h, state_c]\n",
    "    \n",
    "    # decoder\n",
    "    decoder_inputs = layers.Input(shape=(None, output_vocab_size))\n",
    "    decoder = layers.LSTM(hidden_dim, return_sequences=True, return_state=True)\n",
    "    decoder_outputs, _, _ = decoder(decoder_inputs, initial_state=encoder_states)\n",
    "    decoder_dense = layers.Dense(output_vocab_size, activation='softmax')\n",
    "    decoder_outputs = decoder_dense(decoder_outputs)\n",
    "    \n",
    "    # model\n",
    "    model = keras.Model(inputs=[encoder_inputs, decoder_inputs], outputs=decoder_outputs)\n",
    "    \n",
    "    # compile your model\n",
    "    model.compile(optimizer='rmsprop', loss='categorical_crossentropy', metrics=['accuracy'])\n",
    "        \n",
    "    return model"
   ]
  },
  {
   "cell_type": "markdown",
   "id": "a983fbf3",
   "metadata": {},
   "source": [
    "## Training"
   ]
  },
  {
   "cell_type": "code",
   "execution_count": 48,
   "id": "f0b4a550",
   "metadata": {},
   "outputs": [
    {
     "name": "stdout",
     "output_type": "stream",
     "text": [
      "Model: \"model_1\"\n",
      "__________________________________________________________________________________________________\n",
      " Layer (type)                   Output Shape         Param #     Connected to                     \n",
      "==================================================================================================\n",
      " input_5 (InputLayer)           [(None, None, 44)]   0           []                               \n",
      "                                                                                                  \n",
      " input_6 (InputLayer)           [(None, None, 46)]   0           []                               \n",
      "                                                                                                  \n",
      " lstm_4 (LSTM)                  [(None, 256),        308224      ['input_5[0][0]']                \n",
      "                                 (None, 256),                                                     \n",
      "                                 (None, 256)]                                                     \n",
      "                                                                                                  \n",
      " lstm_5 (LSTM)                  [(None, None, 256),  310272      ['input_6[0][0]',                \n",
      "                                 (None, 256),                     'lstm_4[0][1]',                 \n",
      "                                 (None, 256)]                     'lstm_4[0][2]']                 \n",
      "                                                                                                  \n",
      " dense_1 (Dense)                (None, None, 46)     11822       ['lstm_5[0][0]']                 \n",
      "                                                                                                  \n",
      "==================================================================================================\n",
      "Total params: 630,318\n",
      "Trainable params: 630,318\n",
      "Non-trainable params: 0\n",
      "__________________________________________________________________________________________________\n"
     ]
    }
   ],
   "source": [
    "# get model\n",
    "model = get_lstm_model(input_vocabulary_size, output_vocabulary_size, CHATBOT_NEURONS)\n",
    "model.summary()"
   ]
  },
  {
   "cell_type": "code",
   "execution_count": null,
   "id": "d367c3b0",
   "metadata": {},
   "outputs": [
    {
     "name": "stdout",
     "output_type": "stream",
     "text": [
      "Epoch 1/100\n",
      "454/905 [==============>...............] - ETA: 2:35 - loss: 1.0876 - accuracy: 0.0606"
     ]
    }
   ],
   "source": [
    "history = model.fit([encoder_input_data, decoder_input_data], decoder_target_data, batch_size=CHATBOT_BATCHSIZE, epochs=CHATBOT_EPOCHS, validation_split=0.1)"
   ]
  },
  {
   "cell_type": "code",
   "execution_count": null,
   "id": "02bab653",
   "metadata": {},
   "outputs": [],
   "source": []
  }
 ],
 "metadata": {
  "kernelspec": {
   "display_name": "Python 3 (ipykernel)",
   "language": "python",
   "name": "python3"
  },
  "language_info": {
   "codemirror_mode": {
    "name": "ipython",
    "version": 3
   },
   "file_extension": ".py",
   "mimetype": "text/x-python",
   "name": "python",
   "nbconvert_exporter": "python",
   "pygments_lexer": "ipython3",
   "version": "3.9.12"
  }
 },
 "nbformat": 4,
 "nbformat_minor": 5
}
