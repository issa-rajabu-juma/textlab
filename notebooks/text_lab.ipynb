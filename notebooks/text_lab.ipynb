{
 "cells": [
  {
   "cell_type": "markdown",
   "id": "b528901b",
   "metadata": {},
   "source": [
    "## Libraries"
   ]
  },
  {
   "cell_type": "code",
   "execution_count": 2,
   "id": "fcff7a53",
   "metadata": {},
   "outputs": [],
   "source": [
    "from keras.layers import TextVectorization\n",
    "import re\n",
    "import string\n",
    "import tensorflow as tf\n",
    "import os\n",
    "import pathlib\n",
    "import shutil\n",
    "import random\n",
    "import pandas as pd\n",
    "import matplotlib.pyplot as plt\n",
    "from tensorflow import keras\n",
    "from tensorflow.keras import layers\n"
   ]
  },
  {
   "cell_type": "markdown",
   "id": "1edc034b",
   "metadata": {},
   "source": [
    "## Config"
   ]
  },
  {
   "cell_type": "code",
   "execution_count": 61,
   "id": "1daec194",
   "metadata": {},
   "outputs": [],
   "source": [
    "DATASET_PATH =\"C:/Users/Tajr/Desktop/UDSM/Experiments/datasets/\"\n",
    "OUTPUT_PATH = \"C:/Users/Tajr/Desktop/UDSM/Experiments/textLab/outputs/\"\n",
    "MODEL_PATH = os.path.join(OUTPUT_PATH, 'model/')\n",
    "IMDB_REVIEWS_PATH = os.path.join(DATASET_PATH, os.listdir(DATASET_PATH)[0])\n",
    "IMDB_DENSE_OUTPUT = os.path.join(OUTPUT_PATH, 'imdb_dense/')\n",
    "IMDB_LSTM_OUTPUT = os.path.join(OUTPUT_PATH, 'imdb_lstm/')\n",
    "BATCH_SIZE = 32\n",
    "MAX_TOKENS = 20000\n",
    "MULTIPLE_CPU = 5\n",
    "EPOCHS = 10"
   ]
  },
  {
   "cell_type": "markdown",
   "id": "7de8e1d7",
   "metadata": {},
   "source": [
    "## Utils"
   ]
  },
  {
   "cell_type": "code",
   "execution_count": 4,
   "id": "eb3b2b89",
   "metadata": {},
   "outputs": [],
   "source": [
    "def get_val_samples():\n",
    "    base_dir = pathlib.Path(IMDB_REVIEWS_PATH)\n",
    "    val_dir = base_dir / \"val\"\n",
    "    train_dir = base_dir / \"train\"\n",
    "\n",
    "    for category in (\"neg\", \"pos\"):\n",
    "        os.makedirs(val_dir / category)\n",
    "        files = os.listdir(train_dir / category)\n",
    "        random.Random(1337).shuffle(files)\n",
    "        num_val_samples = int(0.2 * len(files))\n",
    "        val_files = files[-num_val_samples:]\n",
    "\n",
    "        for fname in val_files:\n",
    "            shutil.move(train_dir / category / fname, val_dir / category / fname)\n",
    "            \n",
    "# Accessing data\n",
    "def inspect_dataset(dataset):\n",
    "    for inputs, targets in dataset:\n",
    "        print('inputs.shape: ', inputs.shape)\n",
    "        print('inputs.dtype: ', inputs.dtype)\n",
    "        print('targets.shape: ', targets.shape)\n",
    "        print('targets.dtype: ', targets.dtype)\n",
    "        print()\n",
    "        print('Label: {}'.format(targets[0]))\n",
    "        print('Sample: {}'.format(inputs[0]))\n",
    "        break\n",
    "\n",
    "# define and compile your model     \n",
    "def get_model(max_tokens=MAX_TOKENS, hidden_dim=16):\n",
    "    # define inputs, hidden layers, and output layer\n",
    "    inputs = keras.Input(shape=(max_tokens,))\n",
    "    x = layers.Dense(hidden_dim, activation='relu')(inputs)\n",
    "    x = layers.Dropout(0.5)(x)\n",
    "    outputs = layers.Dense(1, activation='sigmoid')(x)\n",
    "    \n",
    "    # define model\n",
    "    model = keras.Model(inputs, outputs)\n",
    "    \n",
    "    # compile your model\n",
    "    model.compile(optimizer='rmsprop', loss='binary_crossentropy', metrics=['accuracy'])\n",
    "    \n",
    "    # return your model\n",
    "    return model\n",
    "\n",
    "# check if output dir exist, if not create it\n",
    "def mkdir(path):\n",
    "    if not os.path.exists(path):\n",
    "        os.makedirs(path)\n",
    "\n",
    "# Visualize training process\n",
    "def plot_loss_accuracy(history, file_path):\n",
    "    # set style\n",
    "    mkdir(file_path)\n",
    "    plt.style.use('ggplot')\n",
    "    (fig, axs) = plt.subplots(2, 1)\n",
    "    axs[0].plot(history['loss'], label='Training Loss')    \n",
    "    axs[0].plot(history['val_loss'], label='Validation Loss')\n",
    "    axs[0].set_xlabel('Epochs')\n",
    "    axs[0].set_ylabel('Loss')\n",
    "    axs[0].legend()    \n",
    "    axs[1].plot(history['accuracy'], label='Training Accuracy') \n",
    "    axs[1].plot(history['val_accuracy'], label='Validation Accuracy')    \n",
    "    axs[1].set_xlabel('Epochs')\n",
    "    axs[1].set_ylabel('Accuracy')\n",
    "    axs[1].legend()\n",
    "    fig.savefig(file_path)\n",
    "    plt.show()"
   ]
  },
  {
   "cell_type": "markdown",
   "id": "1a1b830c",
   "metadata": {},
   "source": [
    "## Dataset"
   ]
  },
  {
   "cell_type": "markdown",
   "id": "d8a3da30",
   "metadata": {},
   "source": [
    "Sequential data - any data where the order or sequency is as essential as the data itself. example sentences, stock market data, audio data etc\n"
   ]
  },
  {
   "cell_type": "markdown",
   "id": "be93fc23",
   "metadata": {},
   "source": [
    "### Raw data"
   ]
  },
  {
   "cell_type": "code",
   "execution_count": 5,
   "id": "6747e563",
   "metadata": {},
   "outputs": [
    {
     "name": "stdout",
     "output_type": "stream",
     "text": [
      "Found 20000 files belonging to 2 classes.\n",
      "Found 5000 files belonging to 2 classes.\n",
      "Found 25000 files belonging to 2 classes.\n"
     ]
    }
   ],
   "source": [
    "# These dataset yield inputs that are Tensorflow tf.string tensors and \n",
    "# targets are int 32 tensors encoding the value 0 and 1\n",
    "train_dataset = keras.utils.text_dataset_from_directory(os.path.join(IMDB_REVIEWS_PATH, 'train'), batch_size=BATCH_SIZE)\n",
    "val_dataset = keras.utils.text_dataset_from_directory(os.path.join(IMDB_REVIEWS_PATH, 'val'), batch_size=BATCH_SIZE)\n",
    "test_dataset = keras.utils.text_dataset_from_directory(os.path.join(IMDB_REVIEWS_PATH, 'test'), batch_size=BATCH_SIZE)"
   ]
  },
  {
   "cell_type": "code",
   "execution_count": 6,
   "id": "0d2486f0",
   "metadata": {},
   "outputs": [
    {
     "name": "stdout",
     "output_type": "stream",
     "text": [
      "Label: 0\n",
      "Sample: b\"Lets put it this way. I actually get this movie. I get what the writer/directer was trying to do. I understand that the dialog was meant to be dry and emotionless. I understand that the plot was supposed to be non-climactic and stale. That was what the writer/director was going for. A very very very dry humor/comedy. With all that understanding, I still think the movie sucked. It seemed like the writer/director was trying to recreate Napolean Dynamite with this movie. It had all of the same features. Even the main character behaved similar to Napolean. But Napolean Dynamite was actually funny. Its script worked. This movie is not. It has no purpose. Well, let me rephrase that. Its only purpose is to rip off Napolean Dynamite and try to capture that look and feel. Too bad it didn't work.\"\n"
     ]
    }
   ],
   "source": [
    "# Accessing data\n",
    "for i, line in enumerate(train_dataset.take(1)):\n",
    "    print('Label: {}'.format(line[1][2]))\n",
    "    print('Sample: {}'.format(line[0][2]))\n",
    "  "
   ]
  },
  {
   "cell_type": "code",
   "execution_count": 7,
   "id": "5c6adcb4",
   "metadata": {},
   "outputs": [
    {
     "name": "stdout",
     "output_type": "stream",
     "text": [
      "inputs.shape:  (32,)\n",
      "inputs.dtype:  <dtype: 'string'>\n",
      "targets.shape:  (32,)\n",
      "targets.dtype:  <dtype: 'int32'>\n",
      "\n",
      "Label: 1\n",
      "Sample: b'Elegance and class are not always the first words that come to mind when folks (at least folks who might do such a thing) sit around and talk about film noir. <br /><br />Yet some of the best films of the genre, \"Out of the Past,\" \"The Killers,\" \"In A Lonely Place,\" \"Night and the City,\" manage a level of sleek sophistication that elevates them beyond a moody catch phrase and its connotations of foreboding shadows, fedoras, and femme-fatales. <br /><br />\"Where the Sidewalk Ends,\" a fairly difficult to find film -- the only copy in perhaps the best stocked video store in Manhattan was a rough bootleg from the AMC cable channel -- belongs in a category with these classics.<br /><br />From the moment the black cloud of opening credits pass, a curtain is drawing around rogue loner detective Marc Dixon\\'s crumbling world, and as the moments pass, it inches ever closer, threatening suffocation. <br /><br />Sure, he\\'s that familiar \"cop with a dark past\", but Dana Andrews gives Dixon a bleak stare and troubled intensity that makes you as uncomfortable as he seems. And yeah, he\\'s been smacking around suspects for too long, and the newly promoted chief (Karl Malden, in a typically robust and commanding outing) is warning him \"for the last time.\" <br /><br />Yet Dixon hates these thugs too much to stop now. And boy didn\\'t they had have it coming? <br /><br />\"Hoods, dusters, mugs, gutter nickel-rats\" he spits when that tough nut of a boss demotes him and rolls out all of the complaints the bureau has been receiving about Dixon\\'s right hook. The advice is for him to cool off for his own good. But instead he takes matters into his own hands. <br /><br />And what a world of trouble he finds when he relies on his instincts, and falls back on a nature that may or may not have been passed down from a generation before. <br /><br />Right away he\\'s in deep with the cops, the syndicate, his own partner. Dixon\\'s questionable involvement in a murder \"investigation\" threatens his job, makes him wonder whether he is simply as base as those he has sworn to bring in. Like Bogart in \"Lonely Place,\" can he \"escape what he is?\"<br /><br />When he has nowhere else to turn, he discovers that he has virtually doomed his unexpected relationship with a seraphic beauty (the marvelous Gene Tierney) who seems as if she can turn his barren bachelor\\'s existence into something worth coming home to. <br /><br />The pacing of this superb film is taut and gripping. The group of writers that contributed to the production polished the script to a high gloss -- the dialogue is snappy without disintegrating into dated parody fodder, passionate without becoming melodramatic or sappy. <br /><br />And all of this top-notch direction and acting isn\\'t too slick or buffed to loosen the film\\'s emotional hold. Gene Tierney\\'s angelic, soft-focus beauty is used to great effect. She shows herself to be an actress of considerable range, and her gentle, kind nature is as boundless here as is her psychosis in \"Leave Her to Heaven.\" The scenes between Tierney and Andrews\\'s Dixon grow more intense and touching the closer he seems to self-destruction. <br /><br />Near the end of his rope, cut, bruised, and exhausted Dixon summarizes his lot: \"Innocent people can get into terrible jams, too,..\" he says. \"One false move and you\\'re in over your head.\" <br /><br />Perhaps what makes this film so totally compelling is the sense that things could go wildly wrong for almost anyone -- especially for someone who is trying so hard to do right -- with one slight shift in the wind, one wrong decision or punch, or, most frighteningly, due to factors you have no control over. Noir has always reflected the darkest fears, brought them to the surface. \"Where the Sidewalk Ends\" does so in a realistic fashion. <br /><br />(One nit-pick of an aside: This otherwise sterling film has a glaringly poor dub of a blonde model that wouldn\\'t seem out of place on Mystery Science Theater. How very odd.) <br /><br />But Noir fans -- heck, ANY movie fans -- who haven\\'t seen this one are in for a terrific treat.'\n"
     ]
    }
   ],
   "source": [
    "inspect_dataset(train_dataset)"
   ]
  },
  {
   "cell_type": "markdown",
   "id": "dbc7424d",
   "metadata": {},
   "source": [
    "## Data Processing"
   ]
  },
  {
   "cell_type": "markdown",
   "id": "9d2ca60b",
   "metadata": {},
   "source": [
    "### Standardization, Tokenization and Vectorization"
   ]
  },
  {
   "attachments": {
    "text%20to%20vectors.png": {
     "image/png": "[encoded data removed]"
    }
   },
   "cell_type": "markdown",
   "id": "635ade6f",
   "metadata": {},
   "source": [
    "![text%20to%20vectors.png](attachment:text%20to%20vectors.png)"
   ]
  },
  {
   "cell_type": "markdown",
   "id": "9b88db22",
   "metadata": {},
   "source": [
    "## BAG OF WORDS APPROACH (WORD AS A SET)\n",
    "- Individual Words(Unigram)\n",
    "- Group of consecutive tokens(N-grams)"
   ]
  },
  {
   "cell_type": "markdown",
   "id": "936ad7e1",
   "metadata": {},
   "source": [
    "##### Unigram with Binary Encoding"
   ]
  },
  {
   "cell_type": "markdown",
   "id": "b45c2f05",
   "metadata": {},
   "source": [
    "In practice you will use TextVectorization layer which is efficient and fast way of doing things.\n",
    "- By defauld the layer will use the setting to convert to lowercase and remove punctuation (Standardizaztion), Split on whitespace (tokenization)\n",
    "- It can receive custom function for standardization and tokenization\n",
    "- Call adapt method to index the vocabulary of a text corpus"
   ]
  },
  {
   "cell_type": "code",
   "execution_count": 8,
   "id": "29f8d635",
   "metadata": {},
   "outputs": [],
   "source": [
    "# define vectorizer\n",
    "vectorizer = TextVectorization(max_tokens=MAX_TOKENS, output_mode='multi_hot')"
   ]
  },
  {
   "cell_type": "code",
   "execution_count": 9,
   "id": "94032722",
   "metadata": {},
   "outputs": [],
   "source": [
    "# prepare a dataset that only yields raw text inputs no labels\n",
    "text_only_train_ds = train_dataset.map(lambda x, y: x)\n",
    "\n",
    "# use the dataset to index the dataset vocabulary via the adapt() method\n",
    "vectorizer.adapt(text_only_train_ds)"
   ]
  },
  {
   "cell_type": "code",
   "execution_count": 10,
   "id": "07711479",
   "metadata": {},
   "outputs": [],
   "source": [
    "# prepare the processed versions of our training validation and test dataset\n",
    "train_ds = train_dataset.map(lambda x, y: (vectorizer(x), y), num_parallel_calls=MULTIPLE_CPU)\n",
    "val_ds = val_dataset.map(lambda x, y: (vectorizer(x), y), num_parallel_calls=MULTIPLE_CPU)\n",
    "test_ds = test_dataset.map(lambda x, y: (vectorizer(x), y), num_parallel_calls=MULTIPLE_CPU)"
   ]
  },
  {
   "cell_type": "code",
   "execution_count": 11,
   "id": "fee9cedd",
   "metadata": {},
   "outputs": [
    {
     "name": "stdout",
     "output_type": "stream",
     "text": [
      "inputs.shape:  (32, 20000)\n",
      "inputs.dtype:  <dtype: 'float32'>\n",
      "targets.shape:  (32,)\n",
      "targets.dtype:  <dtype: 'int32'>\n",
      "\n",
      "Label: 0\n",
      "Sample: [1. 1. 1. ... 0. 0. 0.]\n"
     ]
    }
   ],
   "source": [
    "inspect_dataset(train_ds)"
   ]
  },
  {
   "cell_type": "code",
   "execution_count": 12,
   "id": "d27f394c",
   "metadata": {},
   "outputs": [
    {
     "name": "stdout",
     "output_type": "stream",
     "text": [
      "inputs.shape:  (32, 20000)\n",
      "inputs.dtype:  <dtype: 'float32'>\n",
      "targets.shape:  (32,)\n",
      "targets.dtype:  <dtype: 'int32'>\n",
      "\n",
      "Label: 0\n",
      "Sample: [0. 1. 1. ... 0. 0. 0.]\n"
     ]
    }
   ],
   "source": [
    "inspect_dataset(val_ds)"
   ]
  },
  {
   "cell_type": "code",
   "execution_count": 13,
   "id": "b8a57f44",
   "metadata": {},
   "outputs": [
    {
     "name": "stdout",
     "output_type": "stream",
     "text": [
      "inputs.shape:  (32, 20000)\n",
      "inputs.dtype:  <dtype: 'float32'>\n",
      "targets.shape:  (32,)\n",
      "targets.dtype:  <dtype: 'int32'>\n",
      "\n",
      "Label: 0\n",
      "Sample: [1. 1. 1. ... 0. 0. 0.]\n"
     ]
    }
   ],
   "source": [
    "inspect_dataset(test_ds)"
   ]
  },
  {
   "cell_type": "markdown",
   "id": "160ef670",
   "metadata": {},
   "source": [
    "##### Bigrams"
   ]
  },
  {
   "cell_type": "markdown",
   "id": "979e45e3",
   "metadata": {},
   "source": [
    "###### standardization, tokenization and vectorization"
   ]
  },
  {
   "cell_type": "code",
   "execution_count": 14,
   "id": "9f9c81b5",
   "metadata": {},
   "outputs": [],
   "source": [
    "# prepare a dataset that only yield raw text inputs no labels\n",
    "text_only_train_dataset = train_dataset.map(lambda x, y: x)\n",
    "\n",
    "# use the dataset to index the dataset vocabulary via the adapt() method\n",
    "vectorizer = TextVectorization(ngrams=2, max_tokens=MAX_TOKENS, output_mode='multi_hot')\n",
    "vectorizer.adapt(text_only_train_dataset)"
   ]
  },
  {
   "cell_type": "code",
   "execution_count": 15,
   "id": "f3092423",
   "metadata": {},
   "outputs": [],
   "source": [
    "# create datasets\n",
    "btrain_ds = train_dataset.map(lambda x, y: (vectorizer(x), y), num_parallel_calls=MULTIPLE_CPU)\n",
    "bval_ds = val_dataset.map(lambda x, y: (vectorizer(x), y), num_parallel_calls=MULTIPLE_CPU)\n",
    "btest_ds = test_dataset.map(lambda x, y: (vectorizer(x), y), num_parallel_calls=MULTIPLE_CPU)"
   ]
  },
  {
   "cell_type": "code",
   "execution_count": 16,
   "id": "ee1cbe30",
   "metadata": {},
   "outputs": [
    {
     "name": "stdout",
     "output_type": "stream",
     "text": [
      "inputs.shape:  (32, 20000)\n",
      "inputs.dtype:  <dtype: 'float32'>\n",
      "targets.shape:  (32,)\n",
      "targets.dtype:  <dtype: 'int32'>\n",
      "\n",
      "Label: 1\n",
      "Sample: [1. 1. 1. ... 0. 0. 0.]\n"
     ]
    }
   ],
   "source": [
    "# inspect dataset\n",
    "inspect_dataset(btrain_ds)"
   ]
  },
  {
   "cell_type": "markdown",
   "id": "2865e481",
   "metadata": {},
   "source": [
    "##### Term Frequency, Inverse Document Frequency (TF-IDF)\n",
    "- it weights a given term by taking term frequency, how many times the term appear in the current document and divide it by a measure of document frequency, which estimates how often the term comes up across the dataset"
   ]
  },
  {
   "cell_type": "markdown",
   "id": "fdb441e5",
   "metadata": {},
   "source": [
    "###### standardization, tokenization and vectorization"
   ]
  },
  {
   "cell_type": "code",
   "execution_count": 17,
   "id": "d155c089",
   "metadata": {},
   "outputs": [],
   "source": [
    "# get input text without labels\n",
    "text_only_train_dataset = train_dataset.map(lambda x, y: x)\n",
    "\n",
    "# vectorize with tf-idf\n",
    "vectorizer = TextVectorization(ngrams=2, max_tokens=MAX_TOKENS, output_mode='tf_idf')\n",
    "vectorizer.adapt(text_only_train_dataset)"
   ]
  },
  {
   "cell_type": "code",
   "execution_count": 18,
   "id": "929f3a37",
   "metadata": {},
   "outputs": [],
   "source": [
    "# create datasets\n",
    "tf_train = train_dataset.map(lambda x, y: (vectorizer(x), y), num_parallel_calls=MULTIPLE_CPU)\n",
    "tf_val = val_dataset.map(lambda x, y: (vectorizer(x), y), num_parallel_calls=MULTIPLE_CPU)\n",
    "tf_test = train_dataset.map(lambda x, y: (vectorizer(x), y), num_parallel_calls=MULTIPLE_CPU)"
   ]
  },
  {
   "cell_type": "code",
   "execution_count": 19,
   "id": "d80abfa1",
   "metadata": {},
   "outputs": [
    {
     "name": "stdout",
     "output_type": "stream",
     "text": [
      "inputs.shape:  (32, 20000)\n",
      "inputs.dtype:  <dtype: 'float32'>\n",
      "targets.shape:  (32,)\n",
      "targets.dtype:  <dtype: 'int32'>\n",
      "\n",
      "Label: 0\n",
      "Sample: [490.86435     2.7906098   7.8228936 ...   0.          0.\n",
      "   0.       ]\n"
     ]
    }
   ],
   "source": [
    "# inspect dataset\n",
    "inspect_dataset(tf_train)"
   ]
  },
  {
   "cell_type": "markdown",
   "id": "b4b7ab7d",
   "metadata": {},
   "source": [
    "## MODEL"
   ]
  },
  {
   "cell_type": "code",
   "execution_count": 20,
   "id": "a41b0acd",
   "metadata": {},
   "outputs": [
    {
     "name": "stdout",
     "output_type": "stream",
     "text": [
      "Model: \"model\"\n",
      "_________________________________________________________________\n",
      " Layer (type)                Output Shape              Param #   \n",
      "=================================================================\n",
      " input_1 (InputLayer)        [(None, 20000)]           0         \n",
      "                                                                 \n",
      " dense (Dense)               (None, 16)                320016    \n",
      "                                                                 \n",
      " dropout (Dropout)           (None, 16)                0         \n",
      "                                                                 \n",
      " dense_1 (Dense)             (None, 1)                 17        \n",
      "                                                                 \n",
      "=================================================================\n",
      "Total params: 320,033\n",
      "Trainable params: 320,033\n",
      "Non-trainable params: 0\n",
      "_________________________________________________________________\n"
     ]
    }
   ],
   "source": [
    "# define and compile your model\n",
    "model = get_model()\n",
    "\n",
    "# get model summary\n",
    "model.summary()"
   ]
  },
  {
   "cell_type": "markdown",
   "id": "c8917385",
   "metadata": {},
   "source": [
    "### Model Training (Unigram)"
   ]
  },
  {
   "cell_type": "code",
   "execution_count": 21,
   "id": "d1d4355a",
   "metadata": {},
   "outputs": [],
   "source": [
    "# define callbacks if any\n",
    "callbacks = [\n",
    "    keras.callbacks.ModelCheckpoint('binary_1gram.keras', save_best_only=True)\n",
    "]"
   ]
  },
  {
   "cell_type": "code",
   "execution_count": 22,
   "id": "71873951",
   "metadata": {},
   "outputs": [
    {
     "name": "stdout",
     "output_type": "stream",
     "text": [
      "Epoch 1/10\n",
      "625/625 [==============================] - 6s 9ms/step - loss: 0.4017 - accuracy: 0.8329 - val_loss: 0.2965 - val_accuracy: 0.8844\n",
      "Epoch 2/10\n",
      "625/625 [==============================] - 3s 4ms/step - loss: 0.2694 - accuracy: 0.9022 - val_loss: 0.2972 - val_accuracy: 0.8886\n",
      "Epoch 3/10\n",
      "625/625 [==============================] - 3s 4ms/step - loss: 0.2449 - accuracy: 0.9156 - val_loss: 0.3162 - val_accuracy: 0.8894\n",
      "Epoch 4/10\n",
      "625/625 [==============================] - 3s 5ms/step - loss: 0.2295 - accuracy: 0.9222 - val_loss: 0.3340 - val_accuracy: 0.8908\n",
      "Epoch 5/10\n",
      "625/625 [==============================] - 3s 4ms/step - loss: 0.2250 - accuracy: 0.9236 - val_loss: 0.3545 - val_accuracy: 0.8862\n",
      "Epoch 6/10\n",
      "625/625 [==============================] - 3s 4ms/step - loss: 0.2151 - accuracy: 0.9312 - val_loss: 0.3658 - val_accuracy: 0.8888\n",
      "Epoch 7/10\n",
      "625/625 [==============================] - 3s 4ms/step - loss: 0.2157 - accuracy: 0.9306 - val_loss: 0.3828 - val_accuracy: 0.8816\n",
      "Epoch 8/10\n",
      "625/625 [==============================] - 3s 4ms/step - loss: 0.2144 - accuracy: 0.9354 - val_loss: 0.3924 - val_accuracy: 0.8814\n",
      "Epoch 9/10\n",
      "625/625 [==============================] - 3s 4ms/step - loss: 0.2083 - accuracy: 0.9349 - val_loss: 0.3940 - val_accuracy: 0.8884\n",
      "Epoch 10/10\n",
      "625/625 [==============================] - 3s 4ms/step - loss: 0.2091 - accuracy: 0.9349 - val_loss: 0.4048 - val_accuracy: 0.8852\n"
     ]
    }
   ],
   "source": [
    "# fit or train your model with given datasets\n",
    "history_dense = model.fit(train_ds.cache(), validation_data=val_ds.cache(), epochs=EPOCHS, callbacks=callbacks)"
   ]
  },
  {
   "cell_type": "markdown",
   "id": "a67fc543",
   "metadata": {},
   "source": [
    "#### Evaluation"
   ]
  },
  {
   "cell_type": "code",
   "execution_count": 23,
   "id": "aa330388",
   "metadata": {},
   "outputs": [],
   "source": [
    "model = keras.models.load_model('binary_1gram.keras')"
   ]
  },
  {
   "cell_type": "code",
   "execution_count": 24,
   "id": "142c7d99",
   "metadata": {},
   "outputs": [
    {
     "name": "stdout",
     "output_type": "stream",
     "text": [
      "782/782 [==============================] - 4s 5ms/step - loss: 0.2913 - accuracy: 0.8876\n",
      "Test acc: 0.888\n"
     ]
    }
   ],
   "source": [
    "print(f\"Test acc: {model.evaluate(test_ds)[1]:.3f}\")"
   ]
  },
  {
   "cell_type": "code",
   "execution_count": 25,
   "id": "379f644c",
   "metadata": {},
   "outputs": [
    {
     "data": {
      "text/html": [
       "<div>\n",
       "<style scoped>\n",
       "    .dataframe tbody tr th:only-of-type {\n",
       "        vertical-align: middle;\n",
       "    }\n",
       "\n",
       "    .dataframe tbody tr th {\n",
       "        vertical-align: top;\n",
       "    }\n",
       "\n",
       "    .dataframe thead th {\n",
       "        text-align: right;\n",
       "    }\n",
       "</style>\n",
       "<table border=\"1\" class=\"dataframe\">\n",
       "  <thead>\n",
       "    <tr style=\"text-align: right;\">\n",
       "      <th></th>\n",
       "      <th>loss</th>\n",
       "      <th>accuracy</th>\n",
       "      <th>val_loss</th>\n",
       "      <th>val_accuracy</th>\n",
       "    </tr>\n",
       "  </thead>\n",
       "  <tbody>\n",
       "    <tr>\n",
       "      <th>count</th>\n",
       "      <td>10.000000</td>\n",
       "      <td>10.000000</td>\n",
       "      <td>10.000000</td>\n",
       "      <td>10.000000</td>\n",
       "    </tr>\n",
       "    <tr>\n",
       "      <th>mean</th>\n",
       "      <td>0.243309</td>\n",
       "      <td>0.916355</td>\n",
       "      <td>0.353809</td>\n",
       "      <td>0.886480</td>\n",
       "    </tr>\n",
       "    <tr>\n",
       "      <th>std</th>\n",
       "      <td>0.058782</td>\n",
       "      <td>0.031139</td>\n",
       "      <td>0.040793</td>\n",
       "      <td>0.003273</td>\n",
       "    </tr>\n",
       "    <tr>\n",
       "      <th>min</th>\n",
       "      <td>0.208254</td>\n",
       "      <td>0.832900</td>\n",
       "      <td>0.296488</td>\n",
       "      <td>0.881400</td>\n",
       "    </tr>\n",
       "    <tr>\n",
       "      <th>25%</th>\n",
       "      <td>0.214578</td>\n",
       "      <td>0.917238</td>\n",
       "      <td>0.320637</td>\n",
       "      <td>0.884600</td>\n",
       "    </tr>\n",
       "    <tr>\n",
       "      <th>50%</th>\n",
       "      <td>0.220355</td>\n",
       "      <td>0.927075</td>\n",
       "      <td>0.360163</td>\n",
       "      <td>0.887300</td>\n",
       "    </tr>\n",
       "    <tr>\n",
       "      <th>75%</th>\n",
       "      <td>0.241080</td>\n",
       "      <td>0.933987</td>\n",
       "      <td>0.389981</td>\n",
       "      <td>0.888750</td>\n",
       "    </tr>\n",
       "    <tr>\n",
       "      <th>max</th>\n",
       "      <td>0.401717</td>\n",
       "      <td>0.935400</td>\n",
       "      <td>0.404760</td>\n",
       "      <td>0.890800</td>\n",
       "    </tr>\n",
       "  </tbody>\n",
       "</table>\n",
       "</div>"
      ],
      "text/plain": [
       "            loss   accuracy   val_loss  val_accuracy\n",
       "count  10.000000  10.000000  10.000000     10.000000\n",
       "mean    0.243309   0.916355   0.353809      0.886480\n",
       "std     0.058782   0.031139   0.040793      0.003273\n",
       "min     0.208254   0.832900   0.296488      0.881400\n",
       "25%     0.214578   0.917238   0.320637      0.884600\n",
       "50%     0.220355   0.927075   0.360163      0.887300\n",
       "75%     0.241080   0.933987   0.389981      0.888750\n",
       "max     0.401717   0.935400   0.404760      0.890800"
      ]
     },
     "execution_count": 25,
     "metadata": {},
     "output_type": "execute_result"
    }
   ],
   "source": [
    "df = pd.DataFrame(data=history_dense.history)\n",
    "df.describe()"
   ]
  },
  {
   "cell_type": "code",
   "execution_count": 26,
   "id": "dfbbfcb9",
   "metadata": {},
   "outputs": [
    {
     "data": {
      "image/png": "[encoded data removed]",
      "text/plain": [
       "<Figure size 432x288 with 2 Axes>"
      ]
     },
     "metadata": {},
     "output_type": "display_data"
    }
   ],
   "source": [
    "plot_loss_accuracy(history_dense.history,IMDB_DENSE_OUTPUT)"
   ]
  },
  {
   "cell_type": "markdown",
   "id": "06e5abe8",
   "metadata": {},
   "source": [
    "### Model Training (Bigram)"
   ]
  },
  {
   "cell_type": "code",
   "execution_count": 27,
   "id": "ba9f1db8",
   "metadata": {},
   "outputs": [
    {
     "name": "stdout",
     "output_type": "stream",
     "text": [
      "Model: \"model_1\"\n",
      "_________________________________________________________________\n",
      " Layer (type)                Output Shape              Param #   \n",
      "=================================================================\n",
      " input_2 (InputLayer)        [(None, 20000)]           0         \n",
      "                                                                 \n",
      " dense_2 (Dense)             (None, 16)                320016    \n",
      "                                                                 \n",
      " dropout_1 (Dropout)         (None, 16)                0         \n",
      "                                                                 \n",
      " dense_3 (Dense)             (None, 1)                 17        \n",
      "                                                                 \n",
      "=================================================================\n",
      "Total params: 320,033\n",
      "Trainable params: 320,033\n",
      "Non-trainable params: 0\n",
      "_________________________________________________________________\n"
     ]
    }
   ],
   "source": [
    "bigram_model = get_model()\n",
    "bigram_model.summary()"
   ]
  },
  {
   "cell_type": "code",
   "execution_count": 28,
   "id": "884ecb3b",
   "metadata": {},
   "outputs": [],
   "source": [
    "callbacks = [keras.callbacks.ModelCheckpoint('bigram_model.keras', save_best_only=True)]"
   ]
  },
  {
   "cell_type": "code",
   "execution_count": 29,
   "id": "e6ef5115",
   "metadata": {},
   "outputs": [
    {
     "name": "stdout",
     "output_type": "stream",
     "text": [
      "Epoch 1/10\n",
      "625/625 [==============================] - 6s 9ms/step - loss: 0.3635 - accuracy: 0.8528 - val_loss: 0.2851 - val_accuracy: 0.8894\n",
      "Epoch 2/10\n",
      "625/625 [==============================] - 3s 5ms/step - loss: 0.2338 - accuracy: 0.9169 - val_loss: 0.2896 - val_accuracy: 0.8920\n",
      "Epoch 3/10\n",
      "625/625 [==============================] - 3s 5ms/step - loss: 0.2060 - accuracy: 0.9344 - val_loss: 0.3084 - val_accuracy: 0.8930\n",
      "Epoch 4/10\n",
      "625/625 [==============================] - 3s 5ms/step - loss: 0.1934 - accuracy: 0.9424 - val_loss: 0.3262 - val_accuracy: 0.8950\n",
      "Epoch 5/10\n",
      "625/625 [==============================] - 3s 5ms/step - loss: 0.1797 - accuracy: 0.9470 - val_loss: 0.3429 - val_accuracy: 0.8956\n",
      "Epoch 6/10\n",
      "625/625 [==============================] - 3s 5ms/step - loss: 0.1698 - accuracy: 0.9502 - val_loss: 0.3717 - val_accuracy: 0.8926\n",
      "Epoch 7/10\n",
      "625/625 [==============================] - 3s 5ms/step - loss: 0.1771 - accuracy: 0.9509 - val_loss: 0.3683 - val_accuracy: 0.8932\n",
      "Epoch 8/10\n",
      "625/625 [==============================] - 3s 5ms/step - loss: 0.1743 - accuracy: 0.9521 - val_loss: 0.3713 - val_accuracy: 0.8932\n",
      "Epoch 9/10\n",
      "625/625 [==============================] - 3s 5ms/step - loss: 0.1683 - accuracy: 0.9544 - val_loss: 0.3868 - val_accuracy: 0.8938\n",
      "Epoch 10/10\n",
      "625/625 [==============================] - 3s 5ms/step - loss: 0.1768 - accuracy: 0.9537 - val_loss: 0.3878 - val_accuracy: 0.8906\n"
     ]
    }
   ],
   "source": [
    "history_bigram_dense = bigram_model.fit(btrain_ds.cache(), validation_data=bval_ds, callbacks=callbacks, epochs=EPOCHS)"
   ]
  },
  {
   "cell_type": "markdown",
   "id": "ceed9f56",
   "metadata": {},
   "source": [
    "#### Evaluation"
   ]
  },
  {
   "cell_type": "markdown",
   "id": "52ad3cdd",
   "metadata": {},
   "source": [
    "#### Testing"
   ]
  },
  {
   "cell_type": "code",
   "execution_count": 30,
   "id": "a2f670ef",
   "metadata": {},
   "outputs": [
    {
     "name": "stdout",
     "output_type": "stream",
     "text": [
      "782/782 [==============================] - 4s 5ms/step - loss: 0.2737 - accuracy: 0.8943\n",
      "Test acc: 0.894\n"
     ]
    }
   ],
   "source": [
    "model = keras.models.load_model('bigram_model.keras')\n",
    "print(f\"Test acc: {model.evaluate(btest_ds)[1]:.3f}\")"
   ]
  },
  {
   "cell_type": "markdown",
   "id": "995d068f",
   "metadata": {},
   "source": [
    "#### Visualization"
   ]
  },
  {
   "cell_type": "code",
   "execution_count": 31,
   "id": "ae844c99",
   "metadata": {},
   "outputs": [
    {
     "data": {
      "text/html": [
       "<div>\n",
       "<style scoped>\n",
       "    .dataframe tbody tr th:only-of-type {\n",
       "        vertical-align: middle;\n",
       "    }\n",
       "\n",
       "    .dataframe tbody tr th {\n",
       "        vertical-align: top;\n",
       "    }\n",
       "\n",
       "    .dataframe thead th {\n",
       "        text-align: right;\n",
       "    }\n",
       "</style>\n",
       "<table border=\"1\" class=\"dataframe\">\n",
       "  <thead>\n",
       "    <tr style=\"text-align: right;\">\n",
       "      <th></th>\n",
       "      <th>loss</th>\n",
       "      <th>accuracy</th>\n",
       "      <th>val_loss</th>\n",
       "      <th>val_accuracy</th>\n",
       "    </tr>\n",
       "  </thead>\n",
       "  <tbody>\n",
       "    <tr>\n",
       "      <th>count</th>\n",
       "      <td>10.000000</td>\n",
       "      <td>10.000000</td>\n",
       "      <td>10.000000</td>\n",
       "      <td>10.000000</td>\n",
       "    </tr>\n",
       "    <tr>\n",
       "      <th>mean</th>\n",
       "      <td>0.204261</td>\n",
       "      <td>0.935490</td>\n",
       "      <td>0.343816</td>\n",
       "      <td>0.892840</td>\n",
       "    </tr>\n",
       "    <tr>\n",
       "      <th>std</th>\n",
       "      <td>0.059466</td>\n",
       "      <td>0.031235</td>\n",
       "      <td>0.039269</td>\n",
       "      <td>0.001859</td>\n",
       "    </tr>\n",
       "    <tr>\n",
       "      <th>min</th>\n",
       "      <td>0.168339</td>\n",
       "      <td>0.852800</td>\n",
       "      <td>0.285074</td>\n",
       "      <td>0.889400</td>\n",
       "    </tr>\n",
       "    <tr>\n",
       "      <th>25%</th>\n",
       "      <td>0.174894</td>\n",
       "      <td>0.936450</td>\n",
       "      <td>0.312868</td>\n",
       "      <td>0.892150</td>\n",
       "    </tr>\n",
       "    <tr>\n",
       "      <th>50%</th>\n",
       "      <td>0.178414</td>\n",
       "      <td>0.948600</td>\n",
       "      <td>0.355596</td>\n",
       "      <td>0.893100</td>\n",
       "    </tr>\n",
       "    <tr>\n",
       "      <th>75%</th>\n",
       "      <td>0.202809</td>\n",
       "      <td>0.951787</td>\n",
       "      <td>0.371604</td>\n",
       "      <td>0.893650</td>\n",
       "    </tr>\n",
       "    <tr>\n",
       "      <th>max</th>\n",
       "      <td>0.363513</td>\n",
       "      <td>0.954400</td>\n",
       "      <td>0.387831</td>\n",
       "      <td>0.895600</td>\n",
       "    </tr>\n",
       "  </tbody>\n",
       "</table>\n",
       "</div>"
      ],
      "text/plain": [
       "            loss   accuracy   val_loss  val_accuracy\n",
       "count  10.000000  10.000000  10.000000     10.000000\n",
       "mean    0.204261   0.935490   0.343816      0.892840\n",
       "std     0.059466   0.031235   0.039269      0.001859\n",
       "min     0.168339   0.852800   0.285074      0.889400\n",
       "25%     0.174894   0.936450   0.312868      0.892150\n",
       "50%     0.178414   0.948600   0.355596      0.893100\n",
       "75%     0.202809   0.951787   0.371604      0.893650\n",
       "max     0.363513   0.954400   0.387831      0.895600"
      ]
     },
     "execution_count": 31,
     "metadata": {},
     "output_type": "execute_result"
    }
   ],
   "source": [
    "df = pd.DataFrame(data=history_bigram_dense.history)\n",
    "df.describe()"
   ]
  },
  {
   "cell_type": "code",
   "execution_count": 32,
   "id": "debee564",
   "metadata": {},
   "outputs": [
    {
     "data": {
      "image/png": "[encoded data removed]",
      "text/plain": [
       "<Figure size 432x288 with 2 Axes>"
      ]
     },
     "metadata": {},
     "output_type": "display_data"
    }
   ],
   "source": [
    "plot_loss_accuracy(history_bigram_dense.history,IMDB_DENSE_OUTPUT)"
   ]
  },
  {
   "cell_type": "markdown",
   "id": "bfdae5ca",
   "metadata": {},
   "source": [
    "with bigram, hence local order is pretty important"
   ]
  },
  {
   "cell_type": "markdown",
   "id": "17214d8a",
   "metadata": {},
   "source": [
    "### Model Training (TF-IDF)"
   ]
  },
  {
   "cell_type": "code",
   "execution_count": 33,
   "id": "33daedec",
   "metadata": {},
   "outputs": [
    {
     "name": "stdout",
     "output_type": "stream",
     "text": [
      "Model: \"model_2\"\n",
      "_________________________________________________________________\n",
      " Layer (type)                Output Shape              Param #   \n",
      "=================================================================\n",
      " input_3 (InputLayer)        [(None, 20000)]           0         \n",
      "                                                                 \n",
      " dense_4 (Dense)             (None, 16)                320016    \n",
      "                                                                 \n",
      " dropout_2 (Dropout)         (None, 16)                0         \n",
      "                                                                 \n",
      " dense_5 (Dense)             (None, 1)                 17        \n",
      "                                                                 \n",
      "=================================================================\n",
      "Total params: 320,033\n",
      "Trainable params: 320,033\n",
      "Non-trainable params: 0\n",
      "_________________________________________________________________\n"
     ]
    }
   ],
   "source": [
    "# get model\n",
    "tf_model = get_model()\n",
    "tf_model.summary()"
   ]
  },
  {
   "cell_type": "code",
   "execution_count": 34,
   "id": "ba1f40cd",
   "metadata": {},
   "outputs": [
    {
     "name": "stdout",
     "output_type": "stream",
     "text": [
      "Epoch 1/10\n",
      "625/625 [==============================] - 6s 9ms/step - loss: 0.4767 - accuracy: 0.9011 - val_loss: 0.2981 - val_accuracy: 0.8914\n",
      "Epoch 2/10\n",
      "625/625 [==============================] - 3s 4ms/step - loss: 0.2540 - accuracy: 0.9106 - val_loss: 0.3398 - val_accuracy: 0.8742\n",
      "Epoch 3/10\n",
      "625/625 [==============================] - 3s 4ms/step - loss: 0.2329 - accuracy: 0.9183 - val_loss: 0.3965 - val_accuracy: 0.8678\n",
      "Epoch 4/10\n",
      "625/625 [==============================] - 3s 4ms/step - loss: 0.2315 - accuracy: 0.9118 - val_loss: 0.3510 - val_accuracy: 0.8834\n",
      "Epoch 5/10\n",
      "625/625 [==============================] - 3s 4ms/step - loss: 0.2119 - accuracy: 0.9181 - val_loss: 0.3482 - val_accuracy: 0.8886\n",
      "Epoch 6/10\n",
      "625/625 [==============================] - 3s 4ms/step - loss: 0.2075 - accuracy: 0.9189 - val_loss: 0.3840 - val_accuracy: 0.8798\n",
      "Epoch 7/10\n",
      "625/625 [==============================] - 3s 4ms/step - loss: 0.2066 - accuracy: 0.9186 - val_loss: 0.3661 - val_accuracy: 0.8882\n",
      "Epoch 8/10\n",
      "625/625 [==============================] - 3s 4ms/step - loss: 0.2069 - accuracy: 0.9186 - val_loss: 0.3644 - val_accuracy: 0.8800\n",
      "Epoch 9/10\n",
      "625/625 [==============================] - 3s 4ms/step - loss: 0.1981 - accuracy: 0.9191 - val_loss: 0.3648 - val_accuracy: 0.8808\n",
      "Epoch 10/10\n",
      "625/625 [==============================] - 3s 4ms/step - loss: 0.1892 - accuracy: 0.9223 - val_loss: 0.3931 - val_accuracy: 0.8702\n"
     ]
    }
   ],
   "source": [
    "# callbacks\n",
    "callbacks = [keras.callbacks.ModelCheckpoint('tf_model.keras', save_best_only=True)]\n",
    "\n",
    "# train\n",
    "tf_history = model.fit(tf_train.cache(), validation_data=tf_val.cache(), epochs=EPOCHS, callbacks=callbacks)"
   ]
  },
  {
   "cell_type": "markdown",
   "id": "b9b9ded9",
   "metadata": {},
   "source": [
    "### Evaluation"
   ]
  },
  {
   "cell_type": "code",
   "execution_count": 35,
   "id": "5cfd7ffe",
   "metadata": {},
   "outputs": [
    {
     "name": "stdout",
     "output_type": "stream",
     "text": [
      "625/625 [==============================] - 3s 5ms/step - loss: 0.1587 - accuracy: 0.9457\n",
      "Test accuracy: 0.946\n"
     ]
    }
   ],
   "source": [
    "model = keras.models.load_model('tf_model.keras')\n",
    "print(f'Test accuracy: {model.evaluate(tf_test)[1]:.3f}')"
   ]
  },
  {
   "cell_type": "code",
   "execution_count": 36,
   "id": "2597ab24",
   "metadata": {},
   "outputs": [
    {
     "data": {
      "text/html": [
       "<div>\n",
       "<style scoped>\n",
       "    .dataframe tbody tr th:only-of-type {\n",
       "        vertical-align: middle;\n",
       "    }\n",
       "\n",
       "    .dataframe tbody tr th {\n",
       "        vertical-align: top;\n",
       "    }\n",
       "\n",
       "    .dataframe thead th {\n",
       "        text-align: right;\n",
       "    }\n",
       "</style>\n",
       "<table border=\"1\" class=\"dataframe\">\n",
       "  <thead>\n",
       "    <tr style=\"text-align: right;\">\n",
       "      <th></th>\n",
       "      <th>loss</th>\n",
       "      <th>accuracy</th>\n",
       "      <th>val_loss</th>\n",
       "      <th>val_accuracy</th>\n",
       "    </tr>\n",
       "  </thead>\n",
       "  <tbody>\n",
       "    <tr>\n",
       "      <th>count</th>\n",
       "      <td>10.000000</td>\n",
       "      <td>10.000000</td>\n",
       "      <td>10.000000</td>\n",
       "      <td>10.000000</td>\n",
       "    </tr>\n",
       "    <tr>\n",
       "      <th>mean</th>\n",
       "      <td>0.241518</td>\n",
       "      <td>0.915745</td>\n",
       "      <td>0.360620</td>\n",
       "      <td>0.880440</td>\n",
       "    </tr>\n",
       "    <tr>\n",
       "      <th>std</th>\n",
       "      <td>0.084789</td>\n",
       "      <td>0.006236</td>\n",
       "      <td>0.028943</td>\n",
       "      <td>0.007888</td>\n",
       "    </tr>\n",
       "    <tr>\n",
       "      <th>min</th>\n",
       "      <td>0.189239</td>\n",
       "      <td>0.901100</td>\n",
       "      <td>0.298129</td>\n",
       "      <td>0.867800</td>\n",
       "    </tr>\n",
       "    <tr>\n",
       "      <th>25%</th>\n",
       "      <td>0.206650</td>\n",
       "      <td>0.913338</td>\n",
       "      <td>0.348927</td>\n",
       "      <td>0.875600</td>\n",
       "    </tr>\n",
       "    <tr>\n",
       "      <th>50%</th>\n",
       "      <td>0.209677</td>\n",
       "      <td>0.918475</td>\n",
       "      <td>0.364618</td>\n",
       "      <td>0.880400</td>\n",
       "    </tr>\n",
       "    <tr>\n",
       "      <th>75%</th>\n",
       "      <td>0.232510</td>\n",
       "      <td>0.918800</td>\n",
       "      <td>0.379496</td>\n",
       "      <td>0.887000</td>\n",
       "    </tr>\n",
       "    <tr>\n",
       "      <th>max</th>\n",
       "      <td>0.476673</td>\n",
       "      <td>0.922300</td>\n",
       "      <td>0.396544</td>\n",
       "      <td>0.891400</td>\n",
       "    </tr>\n",
       "  </tbody>\n",
       "</table>\n",
       "</div>"
      ],
      "text/plain": [
       "            loss   accuracy   val_loss  val_accuracy\n",
       "count  10.000000  10.000000  10.000000     10.000000\n",
       "mean    0.241518   0.915745   0.360620      0.880440\n",
       "std     0.084789   0.006236   0.028943      0.007888\n",
       "min     0.189239   0.901100   0.298129      0.867800\n",
       "25%     0.206650   0.913338   0.348927      0.875600\n",
       "50%     0.209677   0.918475   0.364618      0.880400\n",
       "75%     0.232510   0.918800   0.379496      0.887000\n",
       "max     0.476673   0.922300   0.396544      0.891400"
      ]
     },
     "execution_count": 36,
     "metadata": {},
     "output_type": "execute_result"
    }
   ],
   "source": [
    "df = pd.DataFrame(data=tf_history.history)\n",
    "df.describe()"
   ]
  },
  {
   "cell_type": "markdown",
   "id": "2a09a8de",
   "metadata": {},
   "source": [
    "### Visualization"
   ]
  },
  {
   "cell_type": "code",
   "execution_count": 37,
   "id": "643c4f02",
   "metadata": {},
   "outputs": [
    {
     "data": {
      "image/png": "[encoded data removed]",
      "text/plain": [
       "<Figure size 432x288 with 2 Axes>"
      ]
     },
     "metadata": {},
     "output_type": "display_data"
    }
   ],
   "source": [
    "plot_loss_accuracy(tf_history.history,IMDB_DENSE_OUTPUT)"
   ]
  },
  {
   "cell_type": "markdown",
   "id": "9b23b611",
   "metadata": {},
   "source": [
    "## Exporting a Model that process raw strings"
   ]
  },
  {
   "cell_type": "code",
   "execution_count": null,
   "id": "93d85915",
   "metadata": {},
   "outputs": [],
   "source": []
  },
  {
   "cell_type": "markdown",
   "id": "d0475bb5",
   "metadata": {},
   "source": [
    "## Inferencing"
   ]
  },
  {
   "cell_type": "code",
   "execution_count": null,
   "id": "37920078",
   "metadata": {},
   "outputs": [],
   "source": []
  },
  {
   "cell_type": "markdown",
   "id": "c58abfb4",
   "metadata": {},
   "source": [
    "## THE SEQUENCE MODEL APPROACH  (WORDS AS A SEQUENCE)\n"
   ]
  },
  {
   "cell_type": "markdown",
   "id": "2d0f3092",
   "metadata": {},
   "source": [
    "### Config"
   ]
  },
  {
   "cell_type": "code",
   "execution_count": 47,
   "id": "dee0d367",
   "metadata": {},
   "outputs": [],
   "source": [
    "# In order to keep a managable input size, we will truncate the inputs after the first 600 words\n",
    "# this is a reasonable choice, since the average review length is 233 words, and only 5% of \n",
    "# reviews are longer than 600 words\n",
    "MAX_LENGTH = 600"
   ]
  },
  {
   "cell_type": "markdown",
   "id": "7ed47d9e",
   "metadata": {},
   "source": [
    "### Sequence data processiong"
   ]
  },
  {
   "cell_type": "code",
   "execution_count": 52,
   "id": "8c64575d",
   "metadata": {},
   "outputs": [],
   "source": [
    "# Standardization, tokenization and vectorization\n",
    "vectorizer = TextVectorization(max_tokens=MAX_TOKENS, output_mode='int', output_sequence_length=MAX_LENGTH)\n",
    "vectorizer.adapt(text_only_train_dataset)\n",
    "\n",
    "train_ds = train_dataset.map(lambda x, y: (vectorizer(x), y), num_parallel_calls=MULTIPLE_CPU)\n",
    "val_ds = val_dataset.map(lambda x, y: (vectorizer(x), y), num_parallel_calls=MULTIPLE_CPU)\n",
    "test_ds = test_dataset.map(lambda x, y: (vectorizer(x), y), num_parallel_calls=MULTIPLE_CPU)"
   ]
  },
  {
   "cell_type": "code",
   "execution_count": 55,
   "id": "ec3e1b06",
   "metadata": {},
   "outputs": [
    {
     "name": "stdout",
     "output_type": "stream",
     "text": [
      "inputs.shape:  (32, 600)\n",
      "inputs.dtype:  <dtype: 'int64'>\n",
      "targets.shape:  (32,)\n",
      "targets.dtype:  <dtype: 'int32'>\n",
      "\n",
      "Label: 0\n",
      "Sample: [  446   134   122    11    18   121  4186    44    23    68   121  1522\n",
      "     5   312     4  6597     5     2  1143   534   227    15   703    15\n",
      "   633     3    15 19680    31     2   167    61     1   776    56   989\n",
      "     4   353  1337     5  1143    97   636     7     9   168  4885     7\n",
      " 13824   199     4  3016     5     1     3     2   113   446     2   113\n",
      "     1     2   685   197    10   139    26   618   124    15     2  1619\n",
      "  3886  4110     5     2   425    58    26     1    70   125     0     0\n",
      "     0     0     0     0     0     0     0     0     0     0     0     0\n",
      "     0     0     0     0     0     0     0     0     0     0     0     0\n",
      "     0     0     0     0     0     0     0     0     0     0     0     0\n",
      "     0     0     0     0     0     0     0     0     0     0     0     0\n",
      "     0     0     0     0     0     0     0     0     0     0     0     0\n",
      "     0     0     0     0     0     0     0     0     0     0     0     0\n",
      "     0     0     0     0     0     0     0     0     0     0     0     0\n",
      "     0     0     0     0     0     0     0     0     0     0     0     0\n",
      "     0     0     0     0     0     0     0     0     0     0     0     0\n",
      "     0     0     0     0     0     0     0     0     0     0     0     0\n",
      "     0     0     0     0     0     0     0     0     0     0     0     0\n",
      "     0     0     0     0     0     0     0     0     0     0     0     0\n",
      "     0     0     0     0     0     0     0     0     0     0     0     0\n",
      "     0     0     0     0     0     0     0     0     0     0     0     0\n",
      "     0     0     0     0     0     0     0     0     0     0     0     0\n",
      "     0     0     0     0     0     0     0     0     0     0     0     0\n",
      "     0     0     0     0     0     0     0     0     0     0     0     0\n",
      "     0     0     0     0     0     0     0     0     0     0     0     0\n",
      "     0     0     0     0     0     0     0     0     0     0     0     0\n",
      "     0     0     0     0     0     0     0     0     0     0     0     0\n",
      "     0     0     0     0     0     0     0     0     0     0     0     0\n",
      "     0     0     0     0     0     0     0     0     0     0     0     0\n",
      "     0     0     0     0     0     0     0     0     0     0     0     0\n",
      "     0     0     0     0     0     0     0     0     0     0     0     0\n",
      "     0     0     0     0     0     0     0     0     0     0     0     0\n",
      "     0     0     0     0     0     0     0     0     0     0     0     0\n",
      "     0     0     0     0     0     0     0     0     0     0     0     0\n",
      "     0     0     0     0     0     0     0     0     0     0     0     0\n",
      "     0     0     0     0     0     0     0     0     0     0     0     0\n",
      "     0     0     0     0     0     0     0     0     0     0     0     0\n",
      "     0     0     0     0     0     0     0     0     0     0     0     0\n",
      "     0     0     0     0     0     0     0     0     0     0     0     0\n",
      "     0     0     0     0     0     0     0     0     0     0     0     0\n",
      "     0     0     0     0     0     0     0     0     0     0     0     0\n",
      "     0     0     0     0     0     0     0     0     0     0     0     0\n",
      "     0     0     0     0     0     0     0     0     0     0     0     0\n",
      "     0     0     0     0     0     0     0     0     0     0     0     0\n",
      "     0     0     0     0     0     0     0     0     0     0     0     0\n",
      "     0     0     0     0     0     0     0     0     0     0     0     0\n",
      "     0     0     0     0     0     0     0     0     0     0     0     0\n",
      "     0     0     0     0     0     0     0     0     0     0     0     0\n",
      "     0     0     0     0     0     0     0     0     0     0     0     0\n",
      "     0     0     0     0     0     0     0     0     0     0     0     0]\n"
     ]
    }
   ],
   "source": [
    "inspect_dataset(train_ds)"
   ]
  },
  {
   "cell_type": "markdown",
   "id": "dd329381",
   "metadata": {},
   "source": [
    "### MODEL"
   ]
  },
  {
   "cell_type": "code",
   "execution_count": 58,
   "id": "348a8ecd",
   "metadata": {},
   "outputs": [],
   "source": [
    "def get_lstm(max_tokens=MAX_TOKENS, hidden_dim=32):\n",
    "    # define\n",
    "    inputs = keras.Input(shape=(None,), dtype='int64')\n",
    "    embedded = tf.one_hot(inputs, depth=max_tokens) # encode the intergers into binary 20000 dimension vector\n",
    "    x = layers.Bidirectional(layers.LSTM(hidden_dim))(embedded)\n",
    "    x = layers.Dropout(0.5)(x)\n",
    "    outputs = layers.Dense(1, activation='sigmoid')(x)\n",
    "    model = keras.Model(inputs, outputs)\n",
    "    \n",
    "    # compile\n",
    "    model.compile(optimizer='rmsprop', loss='binary_crossentropy', metrics=['accuracy'])\n",
    "    \n",
    "    # return\n",
    "    return model"
   ]
  },
  {
   "cell_type": "code",
   "execution_count": 59,
   "id": "65da3348",
   "metadata": {},
   "outputs": [
    {
     "name": "stdout",
     "output_type": "stream",
     "text": [
      "Model: \"model_3\"\n",
      "_________________________________________________________________\n",
      " Layer (type)                Output Shape              Param #   \n",
      "=================================================================\n",
      " input_5 (InputLayer)        [(None, None)]            0         \n",
      "                                                                 \n",
      " tf.one_hot_1 (TFOpLambda)   (None, None, 20000)       0         \n",
      "                                                                 \n",
      " bidirectional (Bidirectiona  (None, 64)               5128448   \n",
      " l)                                                              \n",
      "                                                                 \n",
      " dropout_3 (Dropout)         (None, 64)                0         \n",
      "                                                                 \n",
      " dense_6 (Dense)             (None, 1)                 65        \n",
      "                                                                 \n",
      "=================================================================\n",
      "Total params: 5,128,513\n",
      "Trainable params: 5,128,513\n",
      "Non-trainable params: 0\n",
      "_________________________________________________________________\n"
     ]
    }
   ],
   "source": [
    "model = get_lstm()\n",
    "model.summary()"
   ]
  },
  {
   "cell_type": "markdown",
   "id": "cd477843",
   "metadata": {},
   "source": [
    "### Train"
   ]
  },
  {
   "cell_type": "code",
   "execution_count": 62,
   "id": "3616351a",
   "metadata": {},
   "outputs": [
    {
     "name": "stdout",
     "output_type": "stream",
     "text": [
      "Epoch 1/10\n",
      " 73/625 [==>...........................] - ETA: 41:03 - loss: 0.6925 - accuracy: 0.5347"
     ]
    },
    {
     "ename": "KeyboardInterrupt",
     "evalue": "",
     "output_type": "error",
     "traceback": [
      "\u001b[1;31m---------------------------------------------------------------------------\u001b[0m",
      "\u001b[1;31mKeyboardInterrupt\u001b[0m                         Traceback (most recent call last)",
      "Input \u001b[1;32mIn [62]\u001b[0m, in \u001b[0;36m<cell line: 2>\u001b[1;34m()\u001b[0m\n\u001b[0;32m      1\u001b[0m callbacks \u001b[38;5;241m=\u001b[39m [keras\u001b[38;5;241m.\u001b[39mcallbacks\u001b[38;5;241m.\u001b[39mModelCheckpoint(\u001b[38;5;124m'\u001b[39m\u001b[38;5;124mone_hot_bidir_lstm.keras\u001b[39m\u001b[38;5;124m'\u001b[39m, save_best_only\u001b[38;5;241m=\u001b[39m\u001b[38;5;28;01mTrue\u001b[39;00m)]\n\u001b[1;32m----> 2\u001b[0m history_lstm \u001b[38;5;241m=\u001b[39m \u001b[43mmodel\u001b[49m\u001b[38;5;241;43m.\u001b[39;49m\u001b[43mfit\u001b[49m\u001b[43m(\u001b[49m\u001b[43mtrain_ds\u001b[49m\u001b[43m,\u001b[49m\u001b[43m \u001b[49m\u001b[43mvalidation_data\u001b[49m\u001b[38;5;241;43m=\u001b[39;49m\u001b[43mval_ds\u001b[49m\u001b[43m,\u001b[49m\u001b[43m \u001b[49m\u001b[43mepochs\u001b[49m\u001b[38;5;241;43m=\u001b[39;49m\u001b[43mEPOCHS\u001b[49m\u001b[43m,\u001b[49m\u001b[43m \u001b[49m\u001b[43mcallbacks\u001b[49m\u001b[38;5;241;43m=\u001b[39;49m\u001b[43mcallbacks\u001b[49m\u001b[43m)\u001b[49m\n",
      "File \u001b[1;32m~\\AppData\\Roaming\\Python\\Python39\\site-packages\\keras\\utils\\traceback_utils.py:64\u001b[0m, in \u001b[0;36mfilter_traceback.<locals>.error_handler\u001b[1;34m(*args, **kwargs)\u001b[0m\n\u001b[0;32m     62\u001b[0m filtered_tb \u001b[38;5;241m=\u001b[39m \u001b[38;5;28;01mNone\u001b[39;00m\n\u001b[0;32m     63\u001b[0m \u001b[38;5;28;01mtry\u001b[39;00m:\n\u001b[1;32m---> 64\u001b[0m   \u001b[38;5;28;01mreturn\u001b[39;00m fn(\u001b[38;5;241m*\u001b[39margs, \u001b[38;5;241m*\u001b[39m\u001b[38;5;241m*\u001b[39mkwargs)\n\u001b[0;32m     65\u001b[0m \u001b[38;5;28;01mexcept\u001b[39;00m \u001b[38;5;167;01mException\u001b[39;00m \u001b[38;5;28;01mas\u001b[39;00m e:  \u001b[38;5;66;03m# pylint: disable=broad-except\u001b[39;00m\n\u001b[0;32m     66\u001b[0m   filtered_tb \u001b[38;5;241m=\u001b[39m _process_traceback_frames(e\u001b[38;5;241m.\u001b[39m__traceback__)\n",
      "File \u001b[1;32m~\\AppData\\Roaming\\Python\\Python39\\site-packages\\keras\\engine\\training.py:1409\u001b[0m, in \u001b[0;36mModel.fit\u001b[1;34m(self, x, y, batch_size, epochs, verbose, callbacks, validation_split, validation_data, shuffle, class_weight, sample_weight, initial_epoch, steps_per_epoch, validation_steps, validation_batch_size, validation_freq, max_queue_size, workers, use_multiprocessing)\u001b[0m\n\u001b[0;32m   1402\u001b[0m \u001b[38;5;28;01mwith\u001b[39;00m tf\u001b[38;5;241m.\u001b[39mprofiler\u001b[38;5;241m.\u001b[39mexperimental\u001b[38;5;241m.\u001b[39mTrace(\n\u001b[0;32m   1403\u001b[0m     \u001b[38;5;124m'\u001b[39m\u001b[38;5;124mtrain\u001b[39m\u001b[38;5;124m'\u001b[39m,\n\u001b[0;32m   1404\u001b[0m     epoch_num\u001b[38;5;241m=\u001b[39mepoch,\n\u001b[0;32m   1405\u001b[0m     step_num\u001b[38;5;241m=\u001b[39mstep,\n\u001b[0;32m   1406\u001b[0m     batch_size\u001b[38;5;241m=\u001b[39mbatch_size,\n\u001b[0;32m   1407\u001b[0m     _r\u001b[38;5;241m=\u001b[39m\u001b[38;5;241m1\u001b[39m):\n\u001b[0;32m   1408\u001b[0m   callbacks\u001b[38;5;241m.\u001b[39mon_train_batch_begin(step)\n\u001b[1;32m-> 1409\u001b[0m   tmp_logs \u001b[38;5;241m=\u001b[39m \u001b[38;5;28;43mself\u001b[39;49m\u001b[38;5;241;43m.\u001b[39;49m\u001b[43mtrain_function\u001b[49m\u001b[43m(\u001b[49m\u001b[43miterator\u001b[49m\u001b[43m)\u001b[49m\n\u001b[0;32m   1410\u001b[0m   \u001b[38;5;28;01mif\u001b[39;00m data_handler\u001b[38;5;241m.\u001b[39mshould_sync:\n\u001b[0;32m   1411\u001b[0m     context\u001b[38;5;241m.\u001b[39masync_wait()\n",
      "File \u001b[1;32m~\\AppData\\Roaming\\Python\\Python39\\site-packages\\tensorflow\\python\\util\\traceback_utils.py:150\u001b[0m, in \u001b[0;36mfilter_traceback.<locals>.error_handler\u001b[1;34m(*args, **kwargs)\u001b[0m\n\u001b[0;32m    148\u001b[0m filtered_tb \u001b[38;5;241m=\u001b[39m \u001b[38;5;28;01mNone\u001b[39;00m\n\u001b[0;32m    149\u001b[0m \u001b[38;5;28;01mtry\u001b[39;00m:\n\u001b[1;32m--> 150\u001b[0m   \u001b[38;5;28;01mreturn\u001b[39;00m fn(\u001b[38;5;241m*\u001b[39margs, \u001b[38;5;241m*\u001b[39m\u001b[38;5;241m*\u001b[39mkwargs)\n\u001b[0;32m    151\u001b[0m \u001b[38;5;28;01mexcept\u001b[39;00m \u001b[38;5;167;01mException\u001b[39;00m \u001b[38;5;28;01mas\u001b[39;00m e:\n\u001b[0;32m    152\u001b[0m   filtered_tb \u001b[38;5;241m=\u001b[39m _process_traceback_frames(e\u001b[38;5;241m.\u001b[39m__traceback__)\n",
      "File \u001b[1;32m~\\AppData\\Roaming\\Python\\Python39\\site-packages\\tensorflow\\python\\eager\\def_function.py:915\u001b[0m, in \u001b[0;36mFunction.__call__\u001b[1;34m(self, *args, **kwds)\u001b[0m\n\u001b[0;32m    912\u001b[0m compiler \u001b[38;5;241m=\u001b[39m \u001b[38;5;124m\"\u001b[39m\u001b[38;5;124mxla\u001b[39m\u001b[38;5;124m\"\u001b[39m \u001b[38;5;28;01mif\u001b[39;00m \u001b[38;5;28mself\u001b[39m\u001b[38;5;241m.\u001b[39m_jit_compile \u001b[38;5;28;01melse\u001b[39;00m \u001b[38;5;124m\"\u001b[39m\u001b[38;5;124mnonXla\u001b[39m\u001b[38;5;124m\"\u001b[39m\n\u001b[0;32m    914\u001b[0m \u001b[38;5;28;01mwith\u001b[39;00m OptionalXlaContext(\u001b[38;5;28mself\u001b[39m\u001b[38;5;241m.\u001b[39m_jit_compile):\n\u001b[1;32m--> 915\u001b[0m   result \u001b[38;5;241m=\u001b[39m \u001b[38;5;28mself\u001b[39m\u001b[38;5;241m.\u001b[39m_call(\u001b[38;5;241m*\u001b[39margs, \u001b[38;5;241m*\u001b[39m\u001b[38;5;241m*\u001b[39mkwds)\n\u001b[0;32m    917\u001b[0m new_tracing_count \u001b[38;5;241m=\u001b[39m \u001b[38;5;28mself\u001b[39m\u001b[38;5;241m.\u001b[39mexperimental_get_tracing_count()\n\u001b[0;32m    918\u001b[0m without_tracing \u001b[38;5;241m=\u001b[39m (tracing_count \u001b[38;5;241m==\u001b[39m new_tracing_count)\n",
      "File \u001b[1;32m~\\AppData\\Roaming\\Python\\Python39\\site-packages\\tensorflow\\python\\eager\\def_function.py:947\u001b[0m, in \u001b[0;36mFunction._call\u001b[1;34m(self, *args, **kwds)\u001b[0m\n\u001b[0;32m    944\u001b[0m   \u001b[38;5;28mself\u001b[39m\u001b[38;5;241m.\u001b[39m_lock\u001b[38;5;241m.\u001b[39mrelease()\n\u001b[0;32m    945\u001b[0m   \u001b[38;5;66;03m# In this case we have created variables on the first call, so we run the\u001b[39;00m\n\u001b[0;32m    946\u001b[0m   \u001b[38;5;66;03m# defunned version which is guaranteed to never create variables.\u001b[39;00m\n\u001b[1;32m--> 947\u001b[0m   \u001b[38;5;28;01mreturn\u001b[39;00m \u001b[38;5;28mself\u001b[39m\u001b[38;5;241m.\u001b[39m_stateless_fn(\u001b[38;5;241m*\u001b[39margs, \u001b[38;5;241m*\u001b[39m\u001b[38;5;241m*\u001b[39mkwds)  \u001b[38;5;66;03m# pylint: disable=not-callable\u001b[39;00m\n\u001b[0;32m    948\u001b[0m \u001b[38;5;28;01melif\u001b[39;00m \u001b[38;5;28mself\u001b[39m\u001b[38;5;241m.\u001b[39m_stateful_fn \u001b[38;5;129;01mis\u001b[39;00m \u001b[38;5;129;01mnot\u001b[39;00m \u001b[38;5;28;01mNone\u001b[39;00m:\n\u001b[0;32m    949\u001b[0m   \u001b[38;5;66;03m# Release the lock early so that multiple threads can perform the call\u001b[39;00m\n\u001b[0;32m    950\u001b[0m   \u001b[38;5;66;03m# in parallel.\u001b[39;00m\n\u001b[0;32m    951\u001b[0m   \u001b[38;5;28mself\u001b[39m\u001b[38;5;241m.\u001b[39m_lock\u001b[38;5;241m.\u001b[39mrelease()\n",
      "File \u001b[1;32m~\\AppData\\Roaming\\Python\\Python39\\site-packages\\tensorflow\\python\\eager\\function.py:2453\u001b[0m, in \u001b[0;36mFunction.__call__\u001b[1;34m(self, *args, **kwargs)\u001b[0m\n\u001b[0;32m   2450\u001b[0m \u001b[38;5;28;01mwith\u001b[39;00m \u001b[38;5;28mself\u001b[39m\u001b[38;5;241m.\u001b[39m_lock:\n\u001b[0;32m   2451\u001b[0m   (graph_function,\n\u001b[0;32m   2452\u001b[0m    filtered_flat_args) \u001b[38;5;241m=\u001b[39m \u001b[38;5;28mself\u001b[39m\u001b[38;5;241m.\u001b[39m_maybe_define_function(args, kwargs)\n\u001b[1;32m-> 2453\u001b[0m \u001b[38;5;28;01mreturn\u001b[39;00m \u001b[43mgraph_function\u001b[49m\u001b[38;5;241;43m.\u001b[39;49m\u001b[43m_call_flat\u001b[49m\u001b[43m(\u001b[49m\n\u001b[0;32m   2454\u001b[0m \u001b[43m    \u001b[49m\u001b[43mfiltered_flat_args\u001b[49m\u001b[43m,\u001b[49m\u001b[43m \u001b[49m\u001b[43mcaptured_inputs\u001b[49m\u001b[38;5;241;43m=\u001b[39;49m\u001b[43mgraph_function\u001b[49m\u001b[38;5;241;43m.\u001b[39;49m\u001b[43mcaptured_inputs\u001b[49m\u001b[43m)\u001b[49m\n",
      "File \u001b[1;32m~\\AppData\\Roaming\\Python\\Python39\\site-packages\\tensorflow\\python\\eager\\function.py:1860\u001b[0m, in \u001b[0;36mConcreteFunction._call_flat\u001b[1;34m(self, args, captured_inputs, cancellation_manager)\u001b[0m\n\u001b[0;32m   1856\u001b[0m possible_gradient_type \u001b[38;5;241m=\u001b[39m gradients_util\u001b[38;5;241m.\u001b[39mPossibleTapeGradientTypes(args)\n\u001b[0;32m   1857\u001b[0m \u001b[38;5;28;01mif\u001b[39;00m (possible_gradient_type \u001b[38;5;241m==\u001b[39m gradients_util\u001b[38;5;241m.\u001b[39mPOSSIBLE_GRADIENT_TYPES_NONE\n\u001b[0;32m   1858\u001b[0m     \u001b[38;5;129;01mand\u001b[39;00m executing_eagerly):\n\u001b[0;32m   1859\u001b[0m   \u001b[38;5;66;03m# No tape is watching; skip to running the function.\u001b[39;00m\n\u001b[1;32m-> 1860\u001b[0m   \u001b[38;5;28;01mreturn\u001b[39;00m \u001b[38;5;28mself\u001b[39m\u001b[38;5;241m.\u001b[39m_build_call_outputs(\u001b[38;5;28;43mself\u001b[39;49m\u001b[38;5;241;43m.\u001b[39;49m\u001b[43m_inference_function\u001b[49m\u001b[38;5;241;43m.\u001b[39;49m\u001b[43mcall\u001b[49m\u001b[43m(\u001b[49m\n\u001b[0;32m   1861\u001b[0m \u001b[43m      \u001b[49m\u001b[43mctx\u001b[49m\u001b[43m,\u001b[49m\u001b[43m \u001b[49m\u001b[43margs\u001b[49m\u001b[43m,\u001b[49m\u001b[43m \u001b[49m\u001b[43mcancellation_manager\u001b[49m\u001b[38;5;241;43m=\u001b[39;49m\u001b[43mcancellation_manager\u001b[49m\u001b[43m)\u001b[49m)\n\u001b[0;32m   1862\u001b[0m forward_backward \u001b[38;5;241m=\u001b[39m \u001b[38;5;28mself\u001b[39m\u001b[38;5;241m.\u001b[39m_select_forward_and_backward_functions(\n\u001b[0;32m   1863\u001b[0m     args,\n\u001b[0;32m   1864\u001b[0m     possible_gradient_type,\n\u001b[0;32m   1865\u001b[0m     executing_eagerly)\n\u001b[0;32m   1866\u001b[0m forward_function, args_with_tangents \u001b[38;5;241m=\u001b[39m forward_backward\u001b[38;5;241m.\u001b[39mforward()\n",
      "File \u001b[1;32m~\\AppData\\Roaming\\Python\\Python39\\site-packages\\tensorflow\\python\\eager\\function.py:497\u001b[0m, in \u001b[0;36m_EagerDefinedFunction.call\u001b[1;34m(self, ctx, args, cancellation_manager)\u001b[0m\n\u001b[0;32m    495\u001b[0m \u001b[38;5;28;01mwith\u001b[39;00m _InterpolateFunctionError(\u001b[38;5;28mself\u001b[39m):\n\u001b[0;32m    496\u001b[0m   \u001b[38;5;28;01mif\u001b[39;00m cancellation_manager \u001b[38;5;129;01mis\u001b[39;00m \u001b[38;5;28;01mNone\u001b[39;00m:\n\u001b[1;32m--> 497\u001b[0m     outputs \u001b[38;5;241m=\u001b[39m \u001b[43mexecute\u001b[49m\u001b[38;5;241;43m.\u001b[39;49m\u001b[43mexecute\u001b[49m\u001b[43m(\u001b[49m\n\u001b[0;32m    498\u001b[0m \u001b[43m        \u001b[49m\u001b[38;5;28;43mstr\u001b[39;49m\u001b[43m(\u001b[49m\u001b[38;5;28;43mself\u001b[39;49m\u001b[38;5;241;43m.\u001b[39;49m\u001b[43msignature\u001b[49m\u001b[38;5;241;43m.\u001b[39;49m\u001b[43mname\u001b[49m\u001b[43m)\u001b[49m\u001b[43m,\u001b[49m\n\u001b[0;32m    499\u001b[0m \u001b[43m        \u001b[49m\u001b[43mnum_outputs\u001b[49m\u001b[38;5;241;43m=\u001b[39;49m\u001b[38;5;28;43mself\u001b[39;49m\u001b[38;5;241;43m.\u001b[39;49m\u001b[43m_num_outputs\u001b[49m\u001b[43m,\u001b[49m\n\u001b[0;32m    500\u001b[0m \u001b[43m        \u001b[49m\u001b[43minputs\u001b[49m\u001b[38;5;241;43m=\u001b[39;49m\u001b[43margs\u001b[49m\u001b[43m,\u001b[49m\n\u001b[0;32m    501\u001b[0m \u001b[43m        \u001b[49m\u001b[43mattrs\u001b[49m\u001b[38;5;241;43m=\u001b[39;49m\u001b[43mattrs\u001b[49m\u001b[43m,\u001b[49m\n\u001b[0;32m    502\u001b[0m \u001b[43m        \u001b[49m\u001b[43mctx\u001b[49m\u001b[38;5;241;43m=\u001b[39;49m\u001b[43mctx\u001b[49m\u001b[43m)\u001b[49m\n\u001b[0;32m    503\u001b[0m   \u001b[38;5;28;01melse\u001b[39;00m:\n\u001b[0;32m    504\u001b[0m     outputs \u001b[38;5;241m=\u001b[39m execute\u001b[38;5;241m.\u001b[39mexecute_with_cancellation(\n\u001b[0;32m    505\u001b[0m         \u001b[38;5;28mstr\u001b[39m(\u001b[38;5;28mself\u001b[39m\u001b[38;5;241m.\u001b[39msignature\u001b[38;5;241m.\u001b[39mname),\n\u001b[0;32m    506\u001b[0m         num_outputs\u001b[38;5;241m=\u001b[39m\u001b[38;5;28mself\u001b[39m\u001b[38;5;241m.\u001b[39m_num_outputs,\n\u001b[1;32m   (...)\u001b[0m\n\u001b[0;32m    509\u001b[0m         ctx\u001b[38;5;241m=\u001b[39mctx,\n\u001b[0;32m    510\u001b[0m         cancellation_manager\u001b[38;5;241m=\u001b[39mcancellation_manager)\n",
      "File \u001b[1;32m~\\AppData\\Roaming\\Python\\Python39\\site-packages\\tensorflow\\python\\eager\\execute.py:54\u001b[0m, in \u001b[0;36mquick_execute\u001b[1;34m(op_name, num_outputs, inputs, attrs, ctx, name)\u001b[0m\n\u001b[0;32m     52\u001b[0m \u001b[38;5;28;01mtry\u001b[39;00m:\n\u001b[0;32m     53\u001b[0m   ctx\u001b[38;5;241m.\u001b[39mensure_initialized()\n\u001b[1;32m---> 54\u001b[0m   tensors \u001b[38;5;241m=\u001b[39m \u001b[43mpywrap_tfe\u001b[49m\u001b[38;5;241;43m.\u001b[39;49m\u001b[43mTFE_Py_Execute\u001b[49m\u001b[43m(\u001b[49m\u001b[43mctx\u001b[49m\u001b[38;5;241;43m.\u001b[39;49m\u001b[43m_handle\u001b[49m\u001b[43m,\u001b[49m\u001b[43m \u001b[49m\u001b[43mdevice_name\u001b[49m\u001b[43m,\u001b[49m\u001b[43m \u001b[49m\u001b[43mop_name\u001b[49m\u001b[43m,\u001b[49m\n\u001b[0;32m     55\u001b[0m \u001b[43m                                      \u001b[49m\u001b[43minputs\u001b[49m\u001b[43m,\u001b[49m\u001b[43m \u001b[49m\u001b[43mattrs\u001b[49m\u001b[43m,\u001b[49m\u001b[43m \u001b[49m\u001b[43mnum_outputs\u001b[49m\u001b[43m)\u001b[49m\n\u001b[0;32m     56\u001b[0m \u001b[38;5;28;01mexcept\u001b[39;00m core\u001b[38;5;241m.\u001b[39m_NotOkStatusException \u001b[38;5;28;01mas\u001b[39;00m e:\n\u001b[0;32m     57\u001b[0m   \u001b[38;5;28;01mif\u001b[39;00m name \u001b[38;5;129;01mis\u001b[39;00m \u001b[38;5;129;01mnot\u001b[39;00m \u001b[38;5;28;01mNone\u001b[39;00m:\n",
      "\u001b[1;31mKeyboardInterrupt\u001b[0m: "
     ]
    }
   ],
   "source": [
    "callbacks = [keras.callbacks.ModelCheckpoint('one_hot_bidir_lstm.keras', save_best_only=True)]\n",
    "history_lstm = model.fit(train_ds, validation_data=val_ds, epochs=EPOCHS, callbacks=callbacks)"
   ]
  },
  {
   "cell_type": "markdown",
   "id": "564c09a9",
   "metadata": {},
   "source": [
    "### Evaluation"
   ]
  },
  {
   "cell_type": "code",
   "execution_count": null,
   "id": "65105eb7",
   "metadata": {},
   "outputs": [],
   "source": [
    "# read train history\n",
    "df = pd.DataFrame(history_lstm.history)\n",
    "df.describe()"
   ]
  },
  {
   "cell_type": "code",
   "execution_count": null,
   "id": "866b13b0",
   "metadata": {},
   "outputs": [],
   "source": [
    "# load your model\n",
    "model = keras.models.load_model('one_hot_bidir_lstm.keras')\n",
    "model.summary()"
   ]
  },
  {
   "cell_type": "code",
   "execution_count": null,
   "id": "cdff0f71",
   "metadata": {},
   "outputs": [],
   "source": [
    "# run a test\n",
    "print(f'{model.evaluate(test_ds)[1]:.3f}')"
   ]
  },
  {
   "cell_type": "markdown",
   "id": "d5714380",
   "metadata": {},
   "source": [
    "### Visualization"
   ]
  },
  {
   "cell_type": "code",
   "execution_count": null,
   "id": "b3fca1a5",
   "metadata": {},
   "outputs": [],
   "source": [
    "plot_loss_accuracy(history_lstm.history, IMDB_LSTM_OUTPUT)"
   ]
  },
  {
   "cell_type": "code",
   "execution_count": null,
   "id": "a3bc8fc1",
   "metadata": {},
   "outputs": [],
   "source": []
  }
 ],
 "metadata": {
  "kernelspec": {
   "display_name": "Python 3 (ipykernel)",
   "language": "python",
   "name": "python3"
  },
  "language_info": {
   "codemirror_mode": {
    "name": "ipython",
    "version": 3
   },
   "file_extension": ".py",
   "mimetype": "text/x-python",
   "name": "python",
   "nbconvert_exporter": "python",
   "pygments_lexer": "ipython3",
   "version": "3.9.12"
  }
 },
 "nbformat": 4,
 "nbformat_minor": 5
}
