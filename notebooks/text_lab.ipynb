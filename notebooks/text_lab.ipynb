{
 "cells": [
  {
   "cell_type": "markdown",
   "id": "b528901b",
   "metadata": {},
   "source": [
    "## Libraries"
   ]
  },
  {
   "cell_type": "code",
   "execution_count": 1,
   "id": "fcff7a53",
   "metadata": {},
   "outputs": [],
   "source": [
    "from keras.layers import TextVectorization\n",
    "import re\n",
    "import string\n",
    "import tensorflow as tf\n",
    "import os\n",
    "import pathlib\n",
    "import shutil\n",
    "import random\n",
    "import pandas as pd\n",
    "import matplotlib.pyplot as plt\n",
    "from tensorflow import keras\n",
    "from tensorflow.keras import layers\n"
   ]
  },
  {
   "cell_type": "markdown",
   "id": "1edc034b",
   "metadata": {},
   "source": [
    "## Config"
   ]
  },
  {
   "cell_type": "code",
   "execution_count": 67,
   "id": "1daec194",
   "metadata": {},
   "outputs": [],
   "source": [
    "# tanesco\n",
    "# DATASET_PATH =\"C:/Users/Tajr/Desktop/UDSM/Experiments/datasets/\"\n",
    "# OUTPUT_PATH = \"C:/Users/Tajr/Desktop/UDSM/Experiments/textLab/outputs/\"\n",
    "\n",
    "# tesla\n",
    "DATASET_PATH =\"C:/Users/Tajr/Desktop/textlab/datasets/\"\n",
    "OUTPUT_PATH = \"C:/Users/Tajr/Desktop/textlab/outputs/\"\n",
    "\n",
    "MODEL_PATH = os.path.join(OUTPUT_PATH, 'model/')\n",
    "IMDB_REVIEWS_PATH = os.path.join(DATASET_PATH, os.listdir(DATASET_PATH)[0])\n",
    "IMDB_DENSE_OUTPUT = os.path.join(OUTPUT_PATH, 'imdb_dense/')\n",
    "IMDB_LSTM_OUTPUT = os.path.join(OUTPUT_PATH, 'imdb_lstm/')\n",
    "IMDB_GRU_OUTPUT = os.path.join(OUTPUT_PATH, 'imdb_gru/')\n",
    "IMDB_MASKED_OUTPUT = os.path.join(OUTPUT_PATH, 'imdb_masked/')\n",
    "BATCH_SIZE = 32\n",
    "MAX_TOKENS = 10000\n",
    "MULTIPLE_CPU = 5\n",
    "EPOCHS = 10"
   ]
  },
  {
   "cell_type": "markdown",
   "id": "7de8e1d7",
   "metadata": {},
   "source": [
    "## Utils"
   ]
  },
  {
   "cell_type": "code",
   "execution_count": 3,
   "id": "eb3b2b89",
   "metadata": {},
   "outputs": [],
   "source": [
    "def get_val_samples():\n",
    "    base_dir = pathlib.Path(IMDB_REVIEWS_PATH)\n",
    "    val_dir = base_dir / \"val\"\n",
    "    train_dir = base_dir / \"train\"\n",
    "\n",
    "    for category in (\"neg\", \"pos\"):\n",
    "        os.makedirs(val_dir / category)\n",
    "        files = os.listdir(train_dir / category)\n",
    "        random.Random(1337).shuffle(files)\n",
    "        num_val_samples = int(0.2 * len(files))\n",
    "        val_files = files[-num_val_samples:]\n",
    "\n",
    "        for fname in val_files:\n",
    "            shutil.move(train_dir / category / fname, val_dir / category / fname)\n",
    "            \n",
    "# Accessing data\n",
    "def inspect_dataset(dataset):\n",
    "    for inputs, targets in dataset:\n",
    "        print('inputs.shape: ', inputs.shape)\n",
    "        print('inputs.dtype: ', inputs.dtype)\n",
    "        print('targets.shape: ', targets.shape)\n",
    "        print('targets.dtype: ', targets.dtype)\n",
    "        print()\n",
    "        print('Label: {}'.format(targets[0]))\n",
    "        print('Sample: {}'.format(inputs[0]))\n",
    "        break\n",
    "\n",
    "# define and compile your model     \n",
    "def get_model(max_tokens=MAX_TOKENS, hidden_dim=16):\n",
    "    # define inputs, hidden layers, and output layer\n",
    "    inputs = keras.Input(shape=(max_tokens,))\n",
    "    x = layers.Dense(hidden_dim, activation='relu')(inputs)\n",
    "    x = layers.Dropout(0.5)(x)\n",
    "    outputs = layers.Dense(1, activation='sigmoid')(x)\n",
    "    \n",
    "    # define model\n",
    "    model = keras.Model(inputs, outputs)\n",
    "    \n",
    "    # compile your model\n",
    "    model.compile(optimizer='rmsprop', loss='binary_crossentropy', metrics=['accuracy'])\n",
    "    \n",
    "    # return your model\n",
    "    return model\n",
    "\n",
    "# check if output dir exist, if not create it\n",
    "def mkdir(path):\n",
    "    if not os.path.exists(path):\n",
    "        os.makedirs(path)\n",
    "\n",
    "# Visualize training process\n",
    "def plot_loss_accuracy(history, file_path):\n",
    "    # set style\n",
    "    mkdir(file_path)\n",
    "    plt.style.use('ggplot')\n",
    "    (fig, axs) = plt.subplots(2, 1)\n",
    "    axs[0].plot(history['loss'], label='Training Loss')    \n",
    "    axs[0].plot(history['val_loss'], label='Validation Loss')\n",
    "    axs[0].set_xlabel('Epochs')\n",
    "    axs[0].set_ylabel('Loss')\n",
    "    axs[0].legend()    \n",
    "    axs[1].plot(history['accuracy'], label='Training Accuracy') \n",
    "    axs[1].plot(history['val_accuracy'], label='Validation Accuracy')    \n",
    "    axs[1].set_xlabel('Epochs')\n",
    "    axs[1].set_ylabel('Accuracy')\n",
    "    axs[1].legend()\n",
    "    fig.savefig(file_path)\n",
    "    plt.show()"
   ]
  },
  {
   "cell_type": "markdown",
   "id": "1a1b830c",
   "metadata": {},
   "source": [
    "## Dataset"
   ]
  },
  {
   "cell_type": "markdown",
   "id": "d8a3da30",
   "metadata": {},
   "source": [
    "Sequential data - any data where the order or sequency is as essential as the data itself. example sentences, stock market data, audio data etc\n"
   ]
  },
  {
   "cell_type": "markdown",
   "id": "be93fc23",
   "metadata": {},
   "source": [
    "### Raw data"
   ]
  },
  {
   "cell_type": "code",
   "execution_count": 4,
   "id": "84c23432",
   "metadata": {},
   "outputs": [],
   "source": [
    "# get_val_samples()"
   ]
  },
  {
   "cell_type": "code",
   "execution_count": 5,
   "id": "6747e563",
   "metadata": {},
   "outputs": [
    {
     "name": "stdout",
     "output_type": "stream",
     "text": [
      "Found 20000 files belonging to 2 classes.\n",
      "Found 5000 files belonging to 2 classes.\n",
      "Found 25000 files belonging to 2 classes.\n"
     ]
    }
   ],
   "source": [
    "# These dataset yield inputs that are Tensorflow tf.string tensors and \n",
    "# targets are int 32 tensors encoding the value 0 and 1\n",
    "train_dataset = keras.utils.text_dataset_from_directory(os.path.join(IMDB_REVIEWS_PATH, 'train'), batch_size=BATCH_SIZE)\n",
    "val_dataset = keras.utils.text_dataset_from_directory(os.path.join(IMDB_REVIEWS_PATH, 'val'), batch_size=BATCH_SIZE)\n",
    "test_dataset = keras.utils.text_dataset_from_directory(os.path.join(IMDB_REVIEWS_PATH, 'test'), batch_size=BATCH_SIZE)"
   ]
  },
  {
   "cell_type": "code",
   "execution_count": 6,
   "id": "0d2486f0",
   "metadata": {},
   "outputs": [
    {
     "name": "stdout",
     "output_type": "stream",
     "text": [
      "Label: 0\n",
      "Sample: b'Steven Seagal appears to be sleepwalking through a dreadful movie shot almost entirely in close-up to disguise the complete lack of budget and resources. To pick on the technical flaws - silver F/A-18s and F-14s take of from a carrier for an air-strike, and miraculously become camouflaged F-16s for the actual strike - would give this movie more credibility than it deserves. Suffice it to say that the most interesting thing in the movie is the credit titles which fade on and then disappear in a lightning wipe, which presumably is available to all users of Final Cut Pro. Putting all your creativity into your own credit puts Michael Keusch in the same category as Marcel Mandu.'\n"
     ]
    }
   ],
   "source": [
    "# Accessing data\n",
    "for i, line in enumerate(train_dataset.take(1)):\n",
    "    print('Label: {}'.format(line[1][2]))\n",
    "    print('Sample: {}'.format(line[0][2]))\n",
    "  "
   ]
  },
  {
   "cell_type": "code",
   "execution_count": 7,
   "id": "5c6adcb4",
   "metadata": {},
   "outputs": [
    {
     "name": "stdout",
     "output_type": "stream",
     "text": [
      "inputs.shape:  (32,)\n",
      "inputs.dtype:  <dtype: 'string'>\n",
      "targets.shape:  (32,)\n",
      "targets.dtype:  <dtype: 'int32'>\n",
      "\n",
      "Label: 1\n",
      "Sample: b\"I was watching this movie at one of my usual time, which is real real late at night. Usually if a movie doesn't interest me, I start falling asleep and have to raid the fridge to stay awake.<br /><br />At first I thought that's what I had to do since this movie's pacing started off slow, along with the fact that its shots tended to linger with the character for a long time. But after a bit, I start getting more into the movie, as more is revealed about the main character through his story telling. By the end, you feel like you've known him your whole life. The movie kept my interest so much that I didn't even know the sun was about to rise.<br /><br />Not much of Lynch's bizzare style, but there is enough of quirky characters to make the film amusing.\"\n"
     ]
    }
   ],
   "source": [
    "inspect_dataset(train_dataset)"
   ]
  },
  {
   "cell_type": "markdown",
   "id": "dbc7424d",
   "metadata": {},
   "source": [
    "## Data Processing"
   ]
  },
  {
   "cell_type": "markdown",
   "id": "9d2ca60b",
   "metadata": {},
   "source": [
    "### Standardization, Tokenization and Vectorization"
   ]
  },
  {
   "attachments": {
    "text%20to%20vectors.png": {
     "image/png": "[encoded data removed]"
    }
   },
   "cell_type": "markdown",
   "id": "635ade6f",
   "metadata": {},
   "source": [
    "![text%20to%20vectors.png](attachment:text%20to%20vectors.png)"
   ]
  },
  {
   "cell_type": "markdown",
   "id": "9b88db22",
   "metadata": {},
   "source": [
    "## BAG OF WORDS APPROACH (WORD AS A SET)\n",
    "- Individual Words(Unigram)\n",
    "- Group of consecutive tokens(N-grams)"
   ]
  },
  {
   "cell_type": "markdown",
   "id": "936ad7e1",
   "metadata": {},
   "source": [
    "##### Unigram with Binary Encoding"
   ]
  },
  {
   "cell_type": "markdown",
   "id": "b45c2f05",
   "metadata": {},
   "source": [
    "In practice you will use TextVectorization layer which is efficient and fast way of doing things.\n",
    "- By defauld the layer will use the setting to convert to lowercase and remove punctuation (Standardizaztion), Split on whitespace (tokenization)\n",
    "- It can receive custom function for standardization and tokenization\n",
    "- Call adapt method to index the vocabulary of a text corpus"
   ]
  },
  {
   "cell_type": "code",
   "execution_count": 8,
   "id": "29f8d635",
   "metadata": {},
   "outputs": [],
   "source": [
    "# define vectorizer\n",
    "vectorizer = TextVectorization(max_tokens=MAX_TOKENS, output_mode='multi_hot')"
   ]
  },
  {
   "cell_type": "code",
   "execution_count": 9,
   "id": "94032722",
   "metadata": {},
   "outputs": [],
   "source": [
    "# prepare a dataset that only yields raw text inputs no labels\n",
    "text_only_train_ds = train_dataset.map(lambda x, y: x)\n",
    "\n",
    "# use the dataset to index the dataset vocabulary via the adapt() method\n",
    "vectorizer.adapt(text_only_train_ds)"
   ]
  },
  {
   "cell_type": "code",
   "execution_count": 10,
   "id": "07711479",
   "metadata": {},
   "outputs": [],
   "source": [
    "# prepare the processed versions of our training validation and test dataset\n",
    "train_ds = train_dataset.map(lambda x, y: (vectorizer(x), y), num_parallel_calls=MULTIPLE_CPU)\n",
    "val_ds = val_dataset.map(lambda x, y: (vectorizer(x), y), num_parallel_calls=MULTIPLE_CPU)\n",
    "test_ds = test_dataset.map(lambda x, y: (vectorizer(x), y), num_parallel_calls=MULTIPLE_CPU)"
   ]
  },
  {
   "cell_type": "code",
   "execution_count": 11,
   "id": "fee9cedd",
   "metadata": {},
   "outputs": [
    {
     "name": "stdout",
     "output_type": "stream",
     "text": [
      "inputs.shape:  (32, 10000)\n",
      "inputs.dtype:  <dtype: 'float32'>\n",
      "targets.shape:  (32,)\n",
      "targets.dtype:  <dtype: 'int32'>\n",
      "\n",
      "Label: 0\n",
      "Sample: [1. 1. 1. ... 0. 0. 0.]\n"
     ]
    }
   ],
   "source": [
    "inspect_dataset(train_ds)"
   ]
  },
  {
   "cell_type": "code",
   "execution_count": 12,
   "id": "d27f394c",
   "metadata": {},
   "outputs": [
    {
     "name": "stdout",
     "output_type": "stream",
     "text": [
      "inputs.shape:  (32, 10000)\n",
      "inputs.dtype:  <dtype: 'float32'>\n",
      "targets.shape:  (32,)\n",
      "targets.dtype:  <dtype: 'int32'>\n",
      "\n",
      "Label: 0\n",
      "Sample: [1. 1. 1. ... 0. 0. 0.]\n"
     ]
    }
   ],
   "source": [
    "inspect_dataset(val_ds)"
   ]
  },
  {
   "cell_type": "code",
   "execution_count": 13,
   "id": "b8a57f44",
   "metadata": {},
   "outputs": [
    {
     "name": "stdout",
     "output_type": "stream",
     "text": [
      "inputs.shape:  (32, 10000)\n",
      "inputs.dtype:  <dtype: 'float32'>\n",
      "targets.shape:  (32,)\n",
      "targets.dtype:  <dtype: 'int32'>\n",
      "\n",
      "Label: 1\n",
      "Sample: [1. 1. 1. ... 0. 0. 0.]\n"
     ]
    }
   ],
   "source": [
    "inspect_dataset(test_ds)"
   ]
  },
  {
   "cell_type": "markdown",
   "id": "160ef670",
   "metadata": {},
   "source": [
    "##### Bigrams"
   ]
  },
  {
   "cell_type": "markdown",
   "id": "979e45e3",
   "metadata": {},
   "source": [
    "###### standardization, tokenization and vectorization"
   ]
  },
  {
   "cell_type": "code",
   "execution_count": 14,
   "id": "9f9c81b5",
   "metadata": {},
   "outputs": [],
   "source": [
    "# prepare a dataset that only yield raw text inputs no labels\n",
    "text_only_train_dataset = train_dataset.map(lambda x, y: x)\n",
    "\n",
    "# use the dataset to index the dataset vocabulary via the adapt() method\n",
    "vectorizer = TextVectorization(ngrams=2, max_tokens=MAX_TOKENS, output_mode='multi_hot')\n",
    "vectorizer.adapt(text_only_train_dataset)"
   ]
  },
  {
   "cell_type": "code",
   "execution_count": 15,
   "id": "f3092423",
   "metadata": {},
   "outputs": [],
   "source": [
    "# create datasets\n",
    "btrain_ds = train_dataset.map(lambda x, y: (vectorizer(x), y), num_parallel_calls=MULTIPLE_CPU)\n",
    "bval_ds = val_dataset.map(lambda x, y: (vectorizer(x), y), num_parallel_calls=MULTIPLE_CPU)\n",
    "btest_ds = test_dataset.map(lambda x, y: (vectorizer(x), y), num_parallel_calls=MULTIPLE_CPU)"
   ]
  },
  {
   "cell_type": "code",
   "execution_count": 16,
   "id": "ee1cbe30",
   "metadata": {},
   "outputs": [
    {
     "name": "stdout",
     "output_type": "stream",
     "text": [
      "inputs.shape:  (32, 10000)\n",
      "inputs.dtype:  <dtype: 'float32'>\n",
      "targets.shape:  (32,)\n",
      "targets.dtype:  <dtype: 'int32'>\n",
      "\n",
      "Label: 1\n",
      "Sample: [1. 1. 1. ... 0. 0. 0.]\n"
     ]
    }
   ],
   "source": [
    "# inspect dataset\n",
    "inspect_dataset(btrain_ds)"
   ]
  },
  {
   "cell_type": "markdown",
   "id": "2865e481",
   "metadata": {},
   "source": [
    "##### Term Frequency, Inverse Document Frequency (TF-IDF)\n",
    "- it weights a given term by taking term frequency, how many times the term appear in the current document and divide it by a measure of document frequency, which estimates how often the term comes up across the dataset"
   ]
  },
  {
   "cell_type": "markdown",
   "id": "fdb441e5",
   "metadata": {},
   "source": [
    "###### standardization, tokenization and vectorization"
   ]
  },
  {
   "cell_type": "code",
   "execution_count": 17,
   "id": "d155c089",
   "metadata": {},
   "outputs": [],
   "source": [
    "# get input text without labels\n",
    "text_only_train_dataset = train_dataset.map(lambda x, y: x)\n",
    "\n"
   ]
  },
  {
   "cell_type": "code",
   "execution_count": 18,
   "id": "8f02d429",
   "metadata": {},
   "outputs": [
    {
     "name": "stdout",
     "output_type": "stream",
     "text": [
      "tf.Tensor(\n",
      "[b\"I am very surprised by the positive comments because there were four of us that saw this at one screening and we all walked out. We personally felt that it was painfully slow to watch and couldn't sit through the whole movie. And we really tried to stick with it. In particular, those in the group who really wanted to like it because of their personal experiences with sexual orientation alienation in the school years depicted didn't like or identify with it at all. :(<br /><br />That said, it is great to see that this film really resonated with a lot of people here on the boards and with reviewers. That's the beauty of the subjective art form of film. :)\"\n",
      " b'We bought the DVD set of \"Es war einmal das Leben\" (German) / \"Once Upon a Time... Life\" (English) for our bilingual kids because everyone loved the \"Es war einmal der Mensch\" (German) / \"Once Upon a Time... Man\" (English) series (us parents had seen it as kids) and it has exceeded even high expectations! The series is very well made, does not show its age, and our kids at various ages really like to watch it. At the same time, they learn things us parents didn\\'t know until way, way later. The series covers everything to do with the human body from organs, all senses, blood, infection, antibodies, and much more in animated 20-25 min episodes. Topics some people may find \"sensible\", such as digestion and reproduction are covered in a tasteful, discreet and child-friendly manner (the reproduction episode starts coverage mainly where the baby starts growing), while still (as typical) informative and fun.<br /><br />Children are usually fascinated with how their bodies work and through the episodes gain an understanding of this in the context of their environment. The format of the episodes switches between the outside world (a family with 2 children) and the inside of the body. For example, in the episode covering infections, the boy cuts himself accidentally and the wound gets infected and the episode covers how the body reacts to this. Similarly, the episodes on the senses, e.g. hearing, seeing, link what happens inside the body to the context of the outside world and the episode on respiration and circulation of oxygen in the blood covers the complete lifecycle including (briefly) where the oxygen comes from (plants).<br /><br />This is one of the best ever children\\'s programs - I would say it\\'s a must see for every family with kids!'\n",
      " b'Slaughter High the tale of revenge by a nerdy guy who fell victim to one of the coolest and coldest jokes in cinema history. Unfortunately after the promising opening the flick went straight to hell. A very tedious and redundant mess with mediocre slashings and a final half hour that sucked on a whole new level of suckiness. The guy who played the nerd actually killed himself shortly after the flick was released. If you wanna rent the flick stop it after the prank and remember, choose life.'\n",
      " b'Sort of family parody blending \"An Officer And A Gentleman\", \"Heartbreak Ridge\", \"Full Metal Jacket\" (and without doubt other movies I am not able to remember now) into a rather dull movie, with some bright spots. The gags are always there where you would expect them, and Damon Wayans\\'s lines are, well, predictable. As I said, unfortunately this movie never surprises you...'\n",
      " b\"I have to agree with MR. Caruso Jr Lanza,s was the finest voice god had to offer if only he could have found the courage to go for broke leave Hollywood and head for the opera he could have been the American Caruso everyone says he could have been but in any case he is a fantastic introduction to the art form no bones about it and if thats the way its gonna be so be it. see the film you'll see why Mr Lanza still come up in discussion even in my house. Someone says Pavarotti i say MARIO LANZA.As for the film itself when will it be on DVD they must have it restored and VHS isn't good enough but this should also be the only Lanza film put on DVD the others are down right bad and boring .\"\n",
      " b\"This movie is truly brilliant. It ducks through banality to crap at such speed you don't even see good sense and common decency to mankind go whizzing past. But it doesn't stop there! This movie hits the bottom of the barrel so hard it bounces back to the point of ludicrous comedy: behold as Kor the Beergutted Conan wannabe with the over-abundance of neck hair struts his stuff swinging his sword like there's no tomorrow (and the way he swung it, I really am amazed there *was* a tomorrow for him, or at least, for his beer gut). Don't miss this movie, it's a fantastic romp through idiocy, and sheer bloody mindedness! And once you have finished watching this one, dry the tears of joy (or tears of frustration at such an inept attempt at storytelling) from your eyes because some stupid f00l gave these people another $5 to make a sequel!\"\n",
      " b\"I'm no horror movie buff, but my wife's nieces and nephews are. So, I saw the first movie. It was gruesome, and tense, but not my taste. Still good though. For similar reasons, at this very moment, I am being exposed to a sequel.<br /><br />The premise itself is beyond absurd. I can buy that disasters occur in the desert. I can buy that mutants exists. I can even buy that the events might be so weird and strange that the military may decide to get involved. It is unlikely, yes, but I'm willing to suspend my belief.<br /><br />HOWEVER, under no circumstances am I willing to believe that the military squad assigned to recon such an area would be unable to fend off the mutants. Being a member of the United States Army, I can assure that while fresh recruits may lack the seasoned eyes and experience of combat soldiers, any such recruits would be integrated into a capable squad.<br /><br />A squad of armed soldiers is not about to be taken out by a few mutants with knives. That's just the way it works. Squad movements, vastly superior firepower, and of course, radio support, would ensure nothing less than total victory. I'm not saying you wouldn't have casualties, but as soon as the area was verified as hostile, military training would take precedence, no-one would go off on their own even to use the bathroom.<br /><br />And if it were discovered that the area was so infested with hostiles that the squad was unable to handle the danger, they would radio in for backup. And believe me, their radios would not be jammed, if there was a chance that normal radios would not do, the squad would have a military issue satellite phone. Chances are, if they were unable to check in every hour, a search would be called.<br /><br />In order to accept this movie, you must accept that our soldiers are incompetent fools, with incompetent leaders, and an incompetent chain of command. While it may still be true that the most dangerous thing in the world is a lieutenant with a map and compass, our military forces are filled with intelligent, well-trained, competent soldiers. Mutants with knives are far below our ability to deal with.<br /><br />With the whole execution of the movie depending solidly on the impossible to imagine, the film fails to deliver. Instead, we are expected to believe that our soldiers, sailors, and airmen are incapable of dealing with even the most mediocre threats.<br /><br />As a combat veteran, I find the movie insulting.\"\n",
      " b'Exquisite comedy starring Marian Davies (with the affable William Haines). Young Peggy arrives in Hollywood seeking stardom. Cameo performances showcase \"all the stars in MGM\\'s heaven\" in the famous commissary scene, plus lots of vintage film making detail for the scholar. Pic also captures for posterity Davies\\' famous, wickedly sarcastic impersonations of the top stars of the day (her Swanson is a beaut!).<br /><br />\"Peggy,\" even catches herself as she encounters the famous star Marian Davies at tennis, turns up her nose and comments, \"Ohh, I don\\'t like her!\"<br /><br />My print was perfect. Story, direction, acting an authentic charm and a must for all silent afficinados.'\n",
      " b\"Yes, about the only thing this film is memorable for is that it starred a youngish Tom Hanks who only a few short years later would be a relevant star in Hollywood. Here though is not a movie that is going to showcase his talents much at all and the only other thing that might be considered somewhat entertaining about this flick is the scene where he thinks he sees a monsters and runs a guy through. Yes, this movie is about the evils of playing a game that makes a group of people use their imaginations and try to come up with interesting scenarios. Basically, an after school type special about the evils of the game Dungeons and Dragons cleverly retitled here as Mazes and Monsters. Apparently, the makers of this film thought that nerds should not have fun of any sort unless they were going to go out and do underage drinking, drugs, having lots of unprotected sex and harass other weaker children like all the popular kids were doing. No, these bad people were playing a game that actually required one to use there brain, heaven's no! Not that, if they have a brain they actually may be able to think for themselves and not be brainwashed by certain groups out there. Yes, I think this movie is utterly stupid and a waste of time. Granted, it could be a movie against addiction, but there are a lot fewer people who died taking Dungeons and Dragons to far in its entire existence than than say what drunk driving claims in like a month.\"\n",
      " b\"Long on action and stunt work, but so short on character delineation and development that it failed to hold our interest. Not always easy to figure out which side a character is on and who's doing what to whom.\"\n",
      " b'This bogus journey never comes close to matching the wit and craziness of the excellent adventure these guys took in their first movie. This installment tries to veer away from its prequel to capture some new blood out of the joke, but it takes a wrong turn and journeys nowhere interesting or funny.<br /><br />There\\'s almost a half-hour wasted on showing the guys doing a rock concert (and lots of people watching on \"free TV\"--since when does that happen?) Surely the script writer could have done something more creative; look at how all the random elements of the first movie were neatly tied up together by a converging them at the science presentation. Not in this film, which pretty much ended the Bill & Ted franchise. The joke was over.<br /><br />The Grim Reaper is tossed into the mix, for whatever reason. This infusion, like the whole plot, is done poorly and lacks sparks for comedy or audience involvement. There\\'s a ZZ Top impression, hammered in for no reason. There\\'s lights, smoke, mirrors, noise. But nothing really creative or funny.<br /><br />Skip this bogus thing.'\n",
      " b'I first saw this film when I was about 8 years old on TV in the UK (where it was called \"Laupta: The Flying Island\"). I absolutely loved it, and was heartbroken when it was repeated a while later and I missed it. I was enchanted by the story and characters, but most of all by the haunting and beautiful music. It would have been the original English dubbed version which I saw - sometimes erroneously referred to as the \"Streamline Dub\" (the dub was actually by Ghibli themselves and only distributed by Streamline) which is sadly unavailable except as part of a ridiculously expensive laser disc box-set.<br /><br />Unfortunately I feel that the release has been partly spoiled by Disney. The voice acting is OK but the dialogue doesn\\'t have the same raw energy that the \"streamline\" dub or the original Japanese had, and I think James Van Der Beek sounds too old to play the lead. They have made some pointless alterations, such as changing the main character\\'s name from \"Pazu\" to \"Patzu\", and added some dialogue. But worst of all I feel that they have ruined many scenes with intrusive music - the opening scene of the airships for example was originally silent but has been spoiled thanks to Disney\\'s moronic requirement that there be music playing whenever anyone is not speaking, which I find annoying in many Disney films.<br /><br />This film still blows away most recent animated films, and I cannot recommend it highly enough. The plot is simple yet captivating and the film shows a flair which is sadly missing from most modern mass-market, homogenized animation.'\n",
      " b'\"The Thing About my Folks\" came in as a surprise. We had no idea about what to expect. The film directed by Raymond DeFelitta, and based on a screen play by one of its stars, Paul Reiser, proved to be a pleasant time at the movies. Although the film is predictable and we know what will be the outcome, this is a voyage of discovery where Ben gets to know his father, perhaps for the first time in his life, Ben sees his father for what he really is, and not the mythical figure he has in his mind.<br /><br />The film seems to be a vehicle for its star, Peter Falk, and he runs away with the movie, as it was expected. Mr. Falk, one of the most endearing actors working in movies in this era and in past years, is an actor of such stature, he must be reckoned with. As Sam Kleinman, the distant father to Ben, he is a man that clearly is misunderstood, not only by Ben, but it appears by the whole family and his wife of forty-seven years.<br /><br />When Muriel, the matriarch of the Kleinman clan, runs away, everyone goes into a panic because this woman, who has been the strong figure of the family, is vital to keep everyone together. Not knowing where she has gone, Sam shows up at Ben\\'s house confused as he feels abandoned, suddenly, by the woman he married and has been faithful for all those years.<br /><br />Ben, the youngest son, takes his father on a trip to look for a house he wants to buy so he can get his own family out of Manhattan into the country. The trip provides the excuse for Ben to bond with his father in ways he never knew about because the old man had always projected an aloof figure to his younger son. Along the way, father and son realize how much they love one another and how misunderstood the old man has been by his children. The love of Sam for Muriel spans the many years they have known one another; they seem inseparable.<br /><br />Peter Falk is magnificent in the film. He makes an excellent Sam Kleinman, the man who suddenly realizes his life is about to change for the worst. Mr. Falk shines as the older man and there\\'s never a false movement in his interpretation of the man whose whole world is crumbling under him.<br /><br />Not being a Paul Reiser fan, we must confess that as Ben Kleinman, he is right. Ben and his father discover how much in common they both have and their love for Muriel, the mother that has sacrificed her life in order to keep the family together. Olympia Dukakis is only seen at the end of the film. She makes a good contribution as the fleeing mother. Elizabeth Perkins plays Rachel with great style..<br /><br />The film has a beautiful look thanks to the cinematography of Dan Gillham, and the excellent musical score by Steven Argila. Ultimately, the film shows a great team effort between its director, Mr. DeFelitta and Paul Reiser who wrote it for the screen.<br /><br />Although this film is clearly targeted for an older audience, it should please anyone.'\n",
      " b'I don\\'t hand out \"ones\" often, but if there was ever a film that deserved this sort of attention, it\\'s \"Gas!\" This is self-indulgent crap that reaches for some of the ambiance of M*A*S*H and falls completely flat on its face in the attempt.<br /><br />I see what Corman was going for - Malcolm Marmorstein and Elliott Gould tried to reproduce Gould\\'s deathless role in the original movie version of M*A*S*H with a similar plot (in the movie \"Whiffs\" - look it up here in IMDb, http://www.imdb.com/title/tt0073891/ for more information).<br /><br />Marmorstein and Gould got closer to the brass ring with \"Whiffs\" than Corman did with \"Gas!\" but didn\\'t quite get there. Neither one of those films even got close to the success of M*A*S*H.<br /><br />What\\'s wrong with \"Gas!\"? What isn\\'t? No one comes close to really acting at a level above junior high school theatrics. The production values stink. Someone else here mentioned the magically regenerating headlights on a getaway car, and there\\'s more of that lack of attention to detail. Nothing works the way it\\'s supposed to in this film, and nobody cares.<br /><br />\"Gas!\" actually put me to sleep. It\\'s not a sure cure for insomnia, but really close. On the Cinematic Sleep Induction scale, \"Gas!\" falls somewhere between \"Last Year at Marienbad\" and George Clooney\\'s remake of \"Solaris\" (which itself was remarkable for being more boring than the Mosfilm original, despite that studio\\'s seeming unfamiliarity with the idea of keeping the audience\\'s attention by judicious editing).<br /><br />Judicious editing would have decimated \"Gas!\" to about twenty minutes. The result would be pointless, but no more so than the original film.<br /><br />Certain films are so bad that they have a compelling quality that makes them worth watching anyway. This isn\\'t one of them. Don\\'t waste your time. It\\'s not even amusingly bad.'\n",
      " b'Steven Seagal appears to be sleepwalking through a dreadful movie shot almost entirely in close-up to disguise the complete lack of budget and resources. To pick on the technical flaws - silver F/A-18s and F-14s take of from a carrier for an air-strike, and miraculously become camouflaged F-16s for the actual strike - would give this movie more credibility than it deserves. Suffice it to say that the most interesting thing in the movie is the credit titles which fade on and then disappear in a lightning wipe, which presumably is available to all users of Final Cut Pro. Putting all your creativity into your own credit puts Michael Keusch in the same category as Marcel Mandu.'\n",
      " b'This movie is just plain bad. Weak story , weak directing and below average acting. The thing that really irritated me was the blatant advertising - constantly - for a well known internet provider. It is obvious some scenes are written to do just that , advertising. This movie is a slap in the face to anyone who payed money for this.<br /><br />Do not watch this, it not worth your time.'\n",
      " b'There is no possible reason I can fathom why this movie was ever made.<br /><br />Why must Hollywood continue to crank out one horrible update of a classic after another? ( Cases in point: Mister Magoo, The Avengers - awful! )<br /><br />Christopher Lloyd, whom I normally enjoy, was so miserably miscast in this role. His manic portrayal of our beloved \"Uncle Martin\" is so unspeakably unenjoyable to be almost criminal. His ranting, groaning, grimacing and histrionics provide us with no reason to care for his character except as some 1 dimensional cartoon character.<br /><br />The director must have thought that fast movements, screaming dialogue and \"one-take\" slapstick had some similarity to comedy. Apparently he told EVERY ACTOR to act as if they had red ants in their pants.<br /><br />Fault must lie with the irresponsibly wrought script. I think the writer used \"It\\'s a Mad, Mad, Mad, Mad World\" as an example of a fine comedy script. As manic as that 1963 classic is, it is far superior to this claptrap - in fact - suddenly it looks pretty good in comparison.<br /><br />What is most sad about this movie is that it must have apparently been written to appeal to young children. I just am not sure whose children it was made for. Certainly no self-respecting, card-carrying child I know!<br /><br />If they HAD to remake \"My Favorite Martian\", why didn\\'t they add some of the timeless charm of the original classic? <br /><br />Unfortunately, IMDB.com cannot factor in \"zero\" as a rating for its readers, that is the only rating that comes to mind in describing this travesty.<br /><br />One good thing did come from this movie, the actors and crew were paid - I think.'\n",
      " b'The symbolic use of objects, form editing, the position of characters in the scene... these were all used with such joyous abandon by Hitchcock that you can really see what a fertile genius he had. The way the wife moves from one corner of the ring to the other as the fight progresses, the editing when the wedding ring is placed on her finger... while these may seem a bit obvious by todays standards, in the silent era they spoke volumes about the story without a word being spoken. Even the title has a least four meanings that I can see; the boxing ring, the wedding ring, the bracelet the lover buys, and the love triangle at the heart of the story.'\n",
      " b'getting to work on this film when it was made back in the summer of 1990. Shot partly in the Biltmore Estate in Asheville, NC and the remaining parts in Winston-Salem. The massive offices of the RJ Reynolds were used in several office scenes and places in around the beautiful city that is know as the tulip capital of the world Winston-Salem! I enjoyed my work although it was exceedingly hard work building all the sets like the Golf of Mexico where Renee Russo and Jim Belushi went on their date. I also had a big hand in decorating the bar where Larry encounters the magical bartender Mr. Destiny. I tacked all those pics on the wall of sports heroes and decorated that phone booth where larry makes a phone call for a cab. I even put my mothers photo at eye level so i could freeze frame it and show it to her when we watched it. I remember dyeing the grass at his old house with green dye because it first had to be sodded(it was a new house in a new development and I guess they leased it for the movie)..then I had to cut that newly laid sod to make it look nice..man that was hard! As far as the movie, when we made it we had no idea what it would be like but after seeing it i fell in love with it because really tells the story of \"what if\" as good as I ever had seen it, including the great It\\'s a Wonderful Life. I cried so many times<br /><br />i can\\'t count. I got to meet the wonderful actor Michael Caine while shooting scenes at an old minor league ballpark where Larry\\'s boyhood scenes were played and replayed. I remember after he had done a take an was heading back to his trailer, I ran him down and asked him for a picture and he was quite amiable and said \"why not!\" He is a good guy and a really natural and forceful actor. I can\\'t say the same for Jim Belushi..he was so full of himself, smoking big cuban cigars and talking loudly so<br /><br />everyone in earshot could hear his every word. His career never did take off but he has had a decent TV career recently. I would say watch this movie if you ever get the chance. It\\'s wonderful and really heartfelt and real. You can feel Larry\\'s pain after he enters into the new world Mr. Destiny gives him after hitting the homer, and as he wants so badly for people to believe he is not this bad guy everyone thinks he is. They all think he belongs in a nuthouse! But eventually he wins people over but by then he wants his real life back so badly, especially his wonderful wife, played so beautifully by Linda Hamilton..and he wants his dog back! So see it.'\n",
      " b\"<br /><br />This movie (not a film -- clearly recorded on a cheap cam-corder) may be one of the greatest cinematic stink-bombs in history. Beware: the packaging advertises the flick as an erotic exploration of sex-addiction. The film is not an exploration of anything, and it is no more erotic than staring at one's own warts. The script is pointless and meandering, with all plot elements serving as segways between supposed sex scenes. However, even the sex scenes are lame lame lame. Except for the first, they are around three seconds long (then again, maybe my version was cut) and comically overwrought.<br /><br />If you are looking for a decent film, you don't want this. If you are looking for a titillating sex-flick, you don't want this. Whatever your life's goals, desires, or perspectives, you do not want to watch this movie. How they got Rosanna Arquette, Natashia Kinski, and Ed Begly to act in this stink bomb is puzzling in the extreme.\"\n",
      " b\"this dolph lundgren vehicle is a fun die hard throwback action flick, it isn't going to win any awards and its not very original but it delivers the goods you would want to see from a dolph lundgren movie. our man dolph is an ex soldier who is now a teacher at a tough inner city high school and when it gets taken over by terrorists its up to him to save the day. sure the script isn't going to win any Oscars its good fun and it has its fair share eplosive action. dolph lundgren gives a good enough performance but he comes alive more in the action scenes, and the rest of the cast are not the best actors but they hold it well. all in all detention is an enjoyable action flick, but youv'e seen it a million times before.\"\n",
      " b\"Okay the promos promised a comedy and people(few) went to watch it Being the first release of 2006 is not a bad thing, or for that matter of any year, because the first and last films mostly flop except GHAJINI and some more<br /><br />Okay coming to JAWANI DIWANI<br /><br />Review in short The film is about Emraan Hashmi doing his usual stuff sadly it's annoying this time after repetitions It has an irritating Hrishita Bhatt and a flop Celina Jaitley<br /><br />Cringeworthy dialogues, comedy scenes and badly handled drama and lots of loopholes<br /><br />Direction is bad Emraan Hashmi is annoying here, luckily now he is coming of age But post FOOTPATH and MURDER and some decent work in some more films the actor in him took a backseat and directors focused on his kisses and womaniser image which sadly lost it's touch after repetitions Hrishita and Celina are bad Mahesh is horrible\"\n",
      " b'Shintar\\xc3\\xb4 Katsu, who played the blind swordsman \"Zatoichi\" in a total of 27 movies, ends the Hanzo trilogy with this excellent film in which he gets to make love to a ghost, Mako Midori (Blind Beast).<br /><br />The big stick, used often in the pursuit of justice, is retired forever.<br /><br />Katsu was his usual impudent self as he pursued those who would steal from the treasury to lend at usurious amounts to those who could not afford to pay.<br /><br />The usual amazing swordplay and skill of the big guy was present, along with the blood.<br /><br />I\\'m going to miss him.'\n",
      " b'This move is slow, plodding, cold, dark, and without a plot or hope. It follows that tried and true European formula that they love to subsidize, that is never seen, but that the critics think makes an \"important point\".<br /><br />The movie is valuable if nothing more than to show the huge difference in the thinking between Americans and Europeans regarding employment. In this movie the men are still nursing their wounds from years ago and feel it\\'s the government\\'s duty to provide them with work. Whereas in the U.S. we know we have to go out there and create value for someone.<br /><br />Spain never looked so backward!'\n",
      " b'....after 16 years Tim Burton finally disappoints me!!!! Whatever happened to the old Burton who read \"The Dark Knight Returns\" by Frank Miller as research for his preparation to direct Batman back in 1988-89? By the looks of it Burton didn\\'t research the book nor the movie cause he got everything WRONG! This movie sucks! It\\'s not as good as the original and it doesn\\'t deal with the same subject as the original. If you want a good ape movie watch the original.<br /><br />**out of****stars'\n",
      " b'This movie is likely the worst movie I\\'ve ever seen in my life -- surpassing the previous most god-awful movie, \"Spawn of Slithis,\" which I saw when I was about 10.<br /><br />Bad acting, stilted and ridiculous dialog, incomprehensible plot, mishmashed cut scenes, even the music was annoying. Did I leave anything out? Well, the special effects weren\\'t bad -- but CGI does not a decent movie make.<br /><br />I can\\'t believe I actually spent money to see this movie. If anyone has the contact info for Hyung-rae Shim (the director), please forward it to my user name \"at gmail,\" and I\\'ll contact him to personally demand a refund.'\n",
      " b'There were good performances by Robin Williams and others but the movie was dull overall and very disappointing compared to the positive reviews.<br /><br />I thought Sy might become a serial killer who bores people to death: a forlorn guy in ugly clothes trails his victims around food courts, quoting Oprah and reciting his medical history until they beg him to shoot them.<br /><br />I think the movie mostly appeals to egomaniacs who think strangers are interested in their photos. I expect most retail workers want a break from the customers.'\n",
      " b\"I happened to watch this movie by chance some days ago while flipping channels. My expectations were not very high but it was an interesting movie.In 'A Guy Thing', Jason Lee plays Paul, a straight-laced, Seattle-based fellow who is about to marry his fianc\\xc3\\xa9e Karen (Selma Blair) and settle down to an unchallenging life of middle-class domesticity. We first meet Paul at his bachelor party, where he professes no desire to engage in any of the normal bachelor party type activities his (surprisingly few) buddies encourage, in case he's a bit naughty and gets into hot bother with his soon to be trouble and strife. Of course, the next thing Paul knows, it's the morning after the night before, he's in bed with a naked hula dancer, and his mother-in-law phones to inform him that Karen is on her way over. Oh, and the hula dancer is Karen's cousin Becky (Julia Stiles).<br /><br />From this small acorn of potential trouble grows a mighty oak of frenetic misfortune, as Paul scrabbles from misadventure to misadventure, trying to cover up what he's done whilst keeping up the appearance of being a dutiful, family-oriented good guy, who's super-excited about his forthcoming nuptials. His efforts to ensure Karen remains none the wiser about any potential wrong-doing on his part ironically forces Paul closer and closer to the fun-loving Becky, forcing him to question whether he really wants the life that seems to have been mapped out for him. The movie contains the right mix of comedy and romance. Definitely worth a watch.\"\n",
      " b\"Unfortunately, this movie does no credit whatsoever to the original. Nicholas Cage, fairly wooden as far as actors go, imbues the screen with a range of skill from, non-plussed to over the top. The supporting cast is no better.<br /><br />The plot stays much the same as the original in terms of scene progression but is far worse. Not enough detail is given to allow the audience to by into what is being sold. It turns out it's just a bill of poor goods. Disbelief cannot be suspended, nor can a befit of a doubt be given. The only saving aspect of this film is that it is highly visual, as the medium requires, and whomever scouted the location should be commended.<br /><br />There was much laughter in the audience and multiple boos, literally, at the end.<br /><br />Disappointed! Wait for the original to come on television, pour a whiskey and enjoy.\"\n",
      " b'I loved this movie. I\\'m a Mexican and was in the least offended by it. In fact, I think this movie should be shown at police headquarters all over Mexico. It\\'s a sad truth that our police system is as rotten as a 3 month old corpse. It angers me to read in the news how killers, kidnappers and other slime go free by paying a laughable fine or live like kings inside prison cells. We should have someone like Creasy, Denzel Washington\\'s character. A bodyguard turned vengeful vigilante. Kidnapping is flourishing industry down here (at least in the big cities). I actually wish real life kidnappers could suffer the same fate as the one\\'s Creasy did his fine job upon. That would be so marvelous (Sorry, I am THAT resentful!). MAN ON FIRE is a gripping film that you can\\'t miss. It might be hard on some of you, if you aren\\'t used to reading subtitles (Mexicans do that ALL the time while watching American movies) but the effort will be well worth it. Some of the editing is a bit fuzzy...kind of like TRAFFIC, remember? (another brilliant take on how corrupt Mexico is). The movie starts out a bit slow but the pace picks up frantically by the second half. I swear you\\'ll be cheering as you watch Denzel Washington dispatch the wrong doers. His performance is nothing short of Excellent. The ending (no spoilers, OK!!!) is a bit sad, but I\\'m sure you\\'ll like it anyway. MAN ON FIRE is one of the year\\'s best movies. A \"must own\" for a DVD collection! 9* out of 10'\n",
      " b\"What an appalling film. Don't get me wrong, Gene Hackman and Denzel Washington are good actors, but aside from a few interesting set pieces, the film is mostly taken up with hysterical submariners shouting, crying, sweating and generally freaking out when anything goes wrong.<br /><br />Take that with simplistic asides to make sure the audience still understand what's going on (the scene where Denzel Washington explains to a radio repairman how he must be like Scotty in Star Trek is nothing more than a joke) and you have a dumbed down thriller not worthy of the acting.<br /><br />Let us just hope that the real nuclear US Navy is not in the hands of such a script!<br /><br />\"\n",
      " b\"I.Q., in my opinion, is a sweet, charming, and hilarious romantic comedy about finding the right person for you. If you ask me, James (Stephen Fry) really was a dull guy. To me, Ed (Tim Robbins) was more suited for Catherine (Meg Ryan) than James was. Anyway, everyone involved in this film did an absolutely outstanding job. Now, in conclusion, I highly recommend this sweet, charming, and hilarious romantic comedy about finding the right person for you to any Tim Robbins or Meg Ryan fan who hasn't seen it. You're in for lots of laughter, so go to the video store, rent it or buy it, kick back with a friend, and watch it.\"], shape=(32,), dtype=string)\n"
     ]
    }
   ],
   "source": [
    "for text in text_only_train_dataset:\n",
    "    print(text)\n",
    "    break"
   ]
  },
  {
   "cell_type": "code",
   "execution_count": 19,
   "id": "b19c4b8f",
   "metadata": {},
   "outputs": [],
   "source": [
    "# vectorize with tf-idf\n",
    "vectorizer = TextVectorization(ngrams=2, max_tokens=MAX_TOKENS, output_mode='tf_idf')\n",
    "\n",
    "# Skip GPU execution as dtype=tf.string is not supported for copy btn GPU & CPU\n",
    "with tf.device('/CPU:0'):\n",
    "    vectorizer.adapt(text_only_train_dataset)"
   ]
  },
  {
   "cell_type": "code",
   "execution_count": 20,
   "id": "929f3a37",
   "metadata": {},
   "outputs": [],
   "source": [
    "# create datasets\n",
    "tf_train = train_dataset.map(lambda x, y: (vectorizer(x), y), num_parallel_calls=MULTIPLE_CPU)\n",
    "tf_val = val_dataset.map(lambda x, y: (vectorizer(x), y), num_parallel_calls=MULTIPLE_CPU)\n",
    "tf_test = train_dataset.map(lambda x, y: (vectorizer(x), y), num_parallel_calls=MULTIPLE_CPU)"
   ]
  },
  {
   "cell_type": "code",
   "execution_count": 21,
   "id": "d80abfa1",
   "metadata": {},
   "outputs": [
    {
     "name": "stdout",
     "output_type": "stream",
     "text": [
      "inputs.shape:  (32, 10000)\n",
      "inputs.dtype:  <dtype: 'float32'>\n",
      "targets.shape:  (32,)\n",
      "targets.dtype:  <dtype: 'int32'>\n",
      "\n",
      "Label: 1\n",
      "Sample: [1017.1185     12.557744    4.978205 ...    0.          0.\n",
      "    0.      ]\n"
     ]
    }
   ],
   "source": [
    "# inspect dataset\n",
    "inspect_dataset(tf_train)"
   ]
  },
  {
   "cell_type": "markdown",
   "id": "b4b7ab7d",
   "metadata": {},
   "source": [
    "## MODEL"
   ]
  },
  {
   "cell_type": "code",
   "execution_count": 22,
   "id": "a41b0acd",
   "metadata": {},
   "outputs": [
    {
     "name": "stdout",
     "output_type": "stream",
     "text": [
      "Model: \"model\"\n",
      "_________________________________________________________________\n",
      " Layer (type)                Output Shape              Param #   \n",
      "=================================================================\n",
      " input_1 (InputLayer)        [(None, 10000)]           0         \n",
      "                                                                 \n",
      " dense (Dense)               (None, 16)                160016    \n",
      "                                                                 \n",
      " dropout (Dropout)           (None, 16)                0         \n",
      "                                                                 \n",
      " dense_1 (Dense)             (None, 1)                 17        \n",
      "                                                                 \n",
      "=================================================================\n",
      "Total params: 160,033\n",
      "Trainable params: 160,033\n",
      "Non-trainable params: 0\n",
      "_________________________________________________________________\n"
     ]
    }
   ],
   "source": [
    "# define and compile your model\n",
    "model = get_model()\n",
    "\n",
    "# get model summary\n",
    "model.summary()"
   ]
  },
  {
   "cell_type": "markdown",
   "id": "c8917385",
   "metadata": {},
   "source": [
    "### Model Training (Unigram)"
   ]
  },
  {
   "cell_type": "code",
   "execution_count": 23,
   "id": "d1d4355a",
   "metadata": {},
   "outputs": [],
   "source": [
    "# define callbacks if any\n",
    "callbacks = [\n",
    "    keras.callbacks.ModelCheckpoint('binary_1gram.keras', save_best_only=True)\n",
    "]"
   ]
  },
  {
   "cell_type": "code",
   "execution_count": 24,
   "id": "71873951",
   "metadata": {},
   "outputs": [
    {
     "name": "stdout",
     "output_type": "stream",
     "text": [
      "Epoch 1/10\n",
      "625/625 [==============================] - 21s 25ms/step - loss: 0.4012 - accuracy: 0.8288 - val_loss: 0.3288 - val_accuracy: 0.8712\n",
      "Epoch 2/10\n",
      "625/625 [==============================] - 5s 8ms/step - loss: 0.2831 - accuracy: 0.8975 - val_loss: 0.3133 - val_accuracy: 0.8804\n",
      "Epoch 3/10\n",
      "625/625 [==============================] - 5s 8ms/step - loss: 0.2524 - accuracy: 0.9119 - val_loss: 0.3277 - val_accuracy: 0.8832\n",
      "Epoch 4/10\n",
      "625/625 [==============================] - 5s 8ms/step - loss: 0.2449 - accuracy: 0.9182 - val_loss: 0.3500 - val_accuracy: 0.8754\n",
      "Epoch 5/10\n",
      "625/625 [==============================] - 5s 8ms/step - loss: 0.2358 - accuracy: 0.9206 - val_loss: 0.3580 - val_accuracy: 0.8836\n",
      "Epoch 6/10\n",
      "625/625 [==============================] - 5s 8ms/step - loss: 0.2397 - accuracy: 0.9219 - val_loss: 0.3710 - val_accuracy: 0.8796\n",
      "Epoch 7/10\n",
      "625/625 [==============================] - 5s 8ms/step - loss: 0.2358 - accuracy: 0.9244 - val_loss: 0.3814 - val_accuracy: 0.8782\n",
      "Epoch 8/10\n",
      "625/625 [==============================] - 5s 7ms/step - loss: 0.2366 - accuracy: 0.9244 - val_loss: 0.3963 - val_accuracy: 0.8736\n",
      "Epoch 9/10\n",
      "625/625 [==============================] - 5s 7ms/step - loss: 0.2305 - accuracy: 0.9269 - val_loss: 0.3933 - val_accuracy: 0.8764\n",
      "Epoch 10/10\n",
      "625/625 [==============================] - 6s 9ms/step - loss: 0.2238 - accuracy: 0.9283 - val_loss: 0.3949 - val_accuracy: 0.8762\n"
     ]
    }
   ],
   "source": [
    "# fit or train your model with given datasets\n",
    "history_dense = model.fit(train_ds.cache(), validation_data=val_ds.cache(), epochs=EPOCHS, callbacks=callbacks)"
   ]
  },
  {
   "cell_type": "markdown",
   "id": "a67fc543",
   "metadata": {},
   "source": [
    "#### Evaluation"
   ]
  },
  {
   "cell_type": "code",
   "execution_count": 25,
   "id": "aa330388",
   "metadata": {},
   "outputs": [],
   "source": [
    "model = keras.models.load_model('binary_1gram.keras')"
   ]
  },
  {
   "cell_type": "code",
   "execution_count": 26,
   "id": "142c7d99",
   "metadata": {},
   "outputs": [
    {
     "name": "stdout",
     "output_type": "stream",
     "text": [
      "782/782 [==============================] - 45s 57ms/step - loss: 0.3070 - accuracy: 0.8791\n",
      "Test acc: 0.879\n"
     ]
    }
   ],
   "source": [
    "print(f\"Test acc: {model.evaluate(test_ds)[1]:.3f}\")"
   ]
  },
  {
   "cell_type": "code",
   "execution_count": 27,
   "id": "379f644c",
   "metadata": {},
   "outputs": [
    {
     "data": {
      "text/html": [
       "<div>\n",
       "<style scoped>\n",
       "    .dataframe tbody tr th:only-of-type {\n",
       "        vertical-align: middle;\n",
       "    }\n",
       "\n",
       "    .dataframe tbody tr th {\n",
       "        vertical-align: top;\n",
       "    }\n",
       "\n",
       "    .dataframe thead th {\n",
       "        text-align: right;\n",
       "    }\n",
       "</style>\n",
       "<table border=\"1\" class=\"dataframe\">\n",
       "  <thead>\n",
       "    <tr style=\"text-align: right;\">\n",
       "      <th></th>\n",
       "      <th>loss</th>\n",
       "      <th>accuracy</th>\n",
       "      <th>val_loss</th>\n",
       "      <th>val_accuracy</th>\n",
       "    </tr>\n",
       "  </thead>\n",
       "  <tbody>\n",
       "    <tr>\n",
       "      <th>count</th>\n",
       "      <td>10.000000</td>\n",
       "      <td>10.000000</td>\n",
       "      <td>10.000000</td>\n",
       "      <td>10.000000</td>\n",
       "    </tr>\n",
       "    <tr>\n",
       "      <th>mean</th>\n",
       "      <td>0.258390</td>\n",
       "      <td>0.910310</td>\n",
       "      <td>0.361463</td>\n",
       "      <td>0.877780</td>\n",
       "    </tr>\n",
       "    <tr>\n",
       "      <th>std</th>\n",
       "      <td>0.052744</td>\n",
       "      <td>0.030002</td>\n",
       "      <td>0.030721</td>\n",
       "      <td>0.004006</td>\n",
       "    </tr>\n",
       "    <tr>\n",
       "      <th>min</th>\n",
       "      <td>0.223773</td>\n",
       "      <td>0.828850</td>\n",
       "      <td>0.313312</td>\n",
       "      <td>0.871200</td>\n",
       "    </tr>\n",
       "    <tr>\n",
       "      <th>25%</th>\n",
       "      <td>0.235788</td>\n",
       "      <td>0.913512</td>\n",
       "      <td>0.334100</td>\n",
       "      <td>0.875600</td>\n",
       "    </tr>\n",
       "    <tr>\n",
       "      <th>50%</th>\n",
       "      <td>0.238175</td>\n",
       "      <td>0.921250</td>\n",
       "      <td>0.364514</td>\n",
       "      <td>0.877300</td>\n",
       "    </tr>\n",
       "    <tr>\n",
       "      <th>75%</th>\n",
       "      <td>0.250553</td>\n",
       "      <td>0.924425</td>\n",
       "      <td>0.390281</td>\n",
       "      <td>0.880200</td>\n",
       "    </tr>\n",
       "    <tr>\n",
       "      <th>max</th>\n",
       "      <td>0.401188</td>\n",
       "      <td>0.928300</td>\n",
       "      <td>0.396291</td>\n",
       "      <td>0.883600</td>\n",
       "    </tr>\n",
       "  </tbody>\n",
       "</table>\n",
       "</div>"
      ],
      "text/plain": [
       "            loss   accuracy   val_loss  val_accuracy\n",
       "count  10.000000  10.000000  10.000000     10.000000\n",
       "mean    0.258390   0.910310   0.361463      0.877780\n",
       "std     0.052744   0.030002   0.030721      0.004006\n",
       "min     0.223773   0.828850   0.313312      0.871200\n",
       "25%     0.235788   0.913512   0.334100      0.875600\n",
       "50%     0.238175   0.921250   0.364514      0.877300\n",
       "75%     0.250553   0.924425   0.390281      0.880200\n",
       "max     0.401188   0.928300   0.396291      0.883600"
      ]
     },
     "execution_count": 27,
     "metadata": {},
     "output_type": "execute_result"
    }
   ],
   "source": [
    "df = pd.DataFrame(data=history_dense.history)\n",
    "df.describe()"
   ]
  },
  {
   "cell_type": "code",
   "execution_count": 28,
   "id": "dfbbfcb9",
   "metadata": {},
   "outputs": [
    {
     "data": {
      "image/png": "[encoded data removed]",
      "text/plain": [
       "<Figure size 432x288 with 2 Axes>"
      ]
     },
     "metadata": {},
     "output_type": "display_data"
    }
   ],
   "source": [
    "plot_loss_accuracy(history_dense.history,IMDB_DENSE_OUTPUT)"
   ]
  },
  {
   "cell_type": "markdown",
   "id": "06e5abe8",
   "metadata": {},
   "source": [
    "### Model Training (Bigram)"
   ]
  },
  {
   "cell_type": "code",
   "execution_count": 29,
   "id": "ba9f1db8",
   "metadata": {},
   "outputs": [
    {
     "name": "stdout",
     "output_type": "stream",
     "text": [
      "Model: \"model_1\"\n",
      "_________________________________________________________________\n",
      " Layer (type)                Output Shape              Param #   \n",
      "=================================================================\n",
      " input_2 (InputLayer)        [(None, 10000)]           0         \n",
      "                                                                 \n",
      " dense_2 (Dense)             (None, 16)                160016    \n",
      "                                                                 \n",
      " dropout_1 (Dropout)         (None, 16)                0         \n",
      "                                                                 \n",
      " dense_3 (Dense)             (None, 1)                 17        \n",
      "                                                                 \n",
      "=================================================================\n",
      "Total params: 160,033\n",
      "Trainable params: 160,033\n",
      "Non-trainable params: 0\n",
      "_________________________________________________________________\n"
     ]
    }
   ],
   "source": [
    "bigram_model = get_model()\n",
    "bigram_model.summary()"
   ]
  },
  {
   "cell_type": "code",
   "execution_count": 30,
   "id": "884ecb3b",
   "metadata": {},
   "outputs": [],
   "source": [
    "callbacks = [keras.callbacks.ModelCheckpoint('bigram_model.keras', save_best_only=True)]"
   ]
  },
  {
   "cell_type": "code",
   "execution_count": 31,
   "id": "e6ef5115",
   "metadata": {},
   "outputs": [
    {
     "name": "stdout",
     "output_type": "stream",
     "text": [
      "Epoch 1/10\n",
      "625/625 [==============================] - 10s 15ms/step - loss: 0.3921 - accuracy: 0.8344 - val_loss: 0.2938 - val_accuracy: 0.8834\n",
      "Epoch 2/10\n",
      "625/625 [==============================] - 6s 9ms/step - loss: 0.2644 - accuracy: 0.9050 - val_loss: 0.3021 - val_accuracy: 0.8874\n",
      "Epoch 3/10\n",
      "625/625 [==============================] - 6s 9ms/step - loss: 0.2396 - accuracy: 0.9183 - val_loss: 0.3209 - val_accuracy: 0.8876\n",
      "Epoch 4/10\n",
      "625/625 [==============================] - 6s 9ms/step - loss: 0.2316 - accuracy: 0.9255 - val_loss: 0.3507 - val_accuracy: 0.8876\n",
      "Epoch 5/10\n",
      "625/625 [==============================] - 6s 10ms/step - loss: 0.2166 - accuracy: 0.9290 - val_loss: 0.3509 - val_accuracy: 0.8842\n",
      "Epoch 6/10\n",
      "625/625 [==============================] - 6s 10ms/step - loss: 0.2133 - accuracy: 0.9347 - val_loss: 0.3639 - val_accuracy: 0.8820\n",
      "Epoch 7/10\n",
      "625/625 [==============================] - 6s 10ms/step - loss: 0.2171 - accuracy: 0.9355 - val_loss: 0.3847 - val_accuracy: 0.8818\n",
      "Epoch 8/10\n",
      "625/625 [==============================] - 6s 10ms/step - loss: 0.2102 - accuracy: 0.9377 - val_loss: 0.3874 - val_accuracy: 0.8784\n",
      "Epoch 9/10\n",
      "625/625 [==============================] - 6s 10ms/step - loss: 0.2074 - accuracy: 0.9349 - val_loss: 0.3966 - val_accuracy: 0.8816\n",
      "Epoch 10/10\n",
      "625/625 [==============================] - 6s 10ms/step - loss: 0.2130 - accuracy: 0.9370 - val_loss: 0.3990 - val_accuracy: 0.8802\n"
     ]
    }
   ],
   "source": [
    "history_bigram_dense = bigram_model.fit(btrain_ds.cache(), validation_data=bval_ds, callbacks=callbacks, epochs=EPOCHS)"
   ]
  },
  {
   "cell_type": "markdown",
   "id": "ceed9f56",
   "metadata": {},
   "source": [
    "#### Evaluation"
   ]
  },
  {
   "cell_type": "markdown",
   "id": "52ad3cdd",
   "metadata": {},
   "source": [
    "#### Testing"
   ]
  },
  {
   "cell_type": "code",
   "execution_count": 32,
   "id": "a2f670ef",
   "metadata": {},
   "outputs": [
    {
     "name": "stdout",
     "output_type": "stream",
     "text": [
      "782/782 [==============================] - 11s 13ms/step - loss: 0.2802 - accuracy: 0.8912\n",
      "Test acc: 0.891\n"
     ]
    }
   ],
   "source": [
    "model = keras.models.load_model('bigram_model.keras')\n",
    "print(f\"Test acc: {model.evaluate(btest_ds)[1]:.3f}\")"
   ]
  },
  {
   "cell_type": "markdown",
   "id": "995d068f",
   "metadata": {},
   "source": [
    "#### Visualization"
   ]
  },
  {
   "cell_type": "code",
   "execution_count": 33,
   "id": "ae844c99",
   "metadata": {},
   "outputs": [
    {
     "data": {
      "text/html": [
       "<div>\n",
       "<style scoped>\n",
       "    .dataframe tbody tr th:only-of-type {\n",
       "        vertical-align: middle;\n",
       "    }\n",
       "\n",
       "    .dataframe tbody tr th {\n",
       "        vertical-align: top;\n",
       "    }\n",
       "\n",
       "    .dataframe thead th {\n",
       "        text-align: right;\n",
       "    }\n",
       "</style>\n",
       "<table border=\"1\" class=\"dataframe\">\n",
       "  <thead>\n",
       "    <tr style=\"text-align: right;\">\n",
       "      <th></th>\n",
       "      <th>loss</th>\n",
       "      <th>accuracy</th>\n",
       "      <th>val_loss</th>\n",
       "      <th>val_accuracy</th>\n",
       "    </tr>\n",
       "  </thead>\n",
       "  <tbody>\n",
       "    <tr>\n",
       "      <th>count</th>\n",
       "      <td>10.000000</td>\n",
       "      <td>10.000000</td>\n",
       "      <td>10.000000</td>\n",
       "      <td>10.000000</td>\n",
       "    </tr>\n",
       "    <tr>\n",
       "      <th>mean</th>\n",
       "      <td>0.240523</td>\n",
       "      <td>0.919185</td>\n",
       "      <td>0.355005</td>\n",
       "      <td>0.883420</td>\n",
       "    </tr>\n",
       "    <tr>\n",
       "      <th>std</th>\n",
       "      <td>0.056028</td>\n",
       "      <td>0.031507</td>\n",
       "      <td>0.038616</td>\n",
       "      <td>0.003247</td>\n",
       "    </tr>\n",
       "    <tr>\n",
       "      <th>min</th>\n",
       "      <td>0.207439</td>\n",
       "      <td>0.834400</td>\n",
       "      <td>0.293799</td>\n",
       "      <td>0.878400</td>\n",
       "    </tr>\n",
       "    <tr>\n",
       "      <th>25%</th>\n",
       "      <td>0.213031</td>\n",
       "      <td>0.920137</td>\n",
       "      <td>0.328355</td>\n",
       "      <td>0.881650</td>\n",
       "    </tr>\n",
       "    <tr>\n",
       "      <th>50%</th>\n",
       "      <td>0.216862</td>\n",
       "      <td>0.931800</td>\n",
       "      <td>0.357411</td>\n",
       "      <td>0.882700</td>\n",
       "    </tr>\n",
       "    <tr>\n",
       "      <th>75%</th>\n",
       "      <td>0.237592</td>\n",
       "      <td>0.935325</td>\n",
       "      <td>0.386695</td>\n",
       "      <td>0.886600</td>\n",
       "    </tr>\n",
       "    <tr>\n",
       "      <th>max</th>\n",
       "      <td>0.392066</td>\n",
       "      <td>0.937650</td>\n",
       "      <td>0.398977</td>\n",
       "      <td>0.887600</td>\n",
       "    </tr>\n",
       "  </tbody>\n",
       "</table>\n",
       "</div>"
      ],
      "text/plain": [
       "            loss   accuracy   val_loss  val_accuracy\n",
       "count  10.000000  10.000000  10.000000     10.000000\n",
       "mean    0.240523   0.919185   0.355005      0.883420\n",
       "std     0.056028   0.031507   0.038616      0.003247\n",
       "min     0.207439   0.834400   0.293799      0.878400\n",
       "25%     0.213031   0.920137   0.328355      0.881650\n",
       "50%     0.216862   0.931800   0.357411      0.882700\n",
       "75%     0.237592   0.935325   0.386695      0.886600\n",
       "max     0.392066   0.937650   0.398977      0.887600"
      ]
     },
     "execution_count": 33,
     "metadata": {},
     "output_type": "execute_result"
    }
   ],
   "source": [
    "df = pd.DataFrame(data=history_bigram_dense.history)\n",
    "df.describe()"
   ]
  },
  {
   "cell_type": "code",
   "execution_count": 34,
   "id": "debee564",
   "metadata": {},
   "outputs": [
    {
     "data": {
      "image/png": "[encoded data removed]",
      "text/plain": [
       "<Figure size 432x288 with 2 Axes>"
      ]
     },
     "metadata": {},
     "output_type": "display_data"
    }
   ],
   "source": [
    "plot_loss_accuracy(history_bigram_dense.history,IMDB_DENSE_OUTPUT)"
   ]
  },
  {
   "cell_type": "markdown",
   "id": "bfdae5ca",
   "metadata": {},
   "source": [
    "with bigram, hence local order is pretty important"
   ]
  },
  {
   "cell_type": "markdown",
   "id": "17214d8a",
   "metadata": {},
   "source": [
    "### Model Training (TF-IDF)"
   ]
  },
  {
   "cell_type": "code",
   "execution_count": 35,
   "id": "33daedec",
   "metadata": {},
   "outputs": [
    {
     "name": "stdout",
     "output_type": "stream",
     "text": [
      "Model: \"model_2\"\n",
      "_________________________________________________________________\n",
      " Layer (type)                Output Shape              Param #   \n",
      "=================================================================\n",
      " input_3 (InputLayer)        [(None, 10000)]           0         \n",
      "                                                                 \n",
      " dense_4 (Dense)             (None, 16)                160016    \n",
      "                                                                 \n",
      " dropout_2 (Dropout)         (None, 16)                0         \n",
      "                                                                 \n",
      " dense_5 (Dense)             (None, 1)                 17        \n",
      "                                                                 \n",
      "=================================================================\n",
      "Total params: 160,033\n",
      "Trainable params: 160,033\n",
      "Non-trainable params: 0\n",
      "_________________________________________________________________\n"
     ]
    }
   ],
   "source": [
    "# get model\n",
    "tf_model = get_model()\n",
    "tf_model.summary()"
   ]
  },
  {
   "cell_type": "code",
   "execution_count": 36,
   "id": "ba1f40cd",
   "metadata": {},
   "outputs": [
    {
     "name": "stdout",
     "output_type": "stream",
     "text": [
      "Epoch 1/10\n",
      "625/625 [==============================] - 11s 18ms/step - loss: 0.4929 - accuracy: 0.8860 - val_loss: 0.3271 - val_accuracy: 0.8910\n",
      "Epoch 2/10\n",
      "625/625 [==============================] - 5s 8ms/step - loss: 0.2984 - accuracy: 0.8946 - val_loss: 0.3545 - val_accuracy: 0.8808\n",
      "Epoch 3/10\n",
      "625/625 [==============================] - 6s 9ms/step - loss: 0.2760 - accuracy: 0.8997 - val_loss: 0.3490 - val_accuracy: 0.8824\n",
      "Epoch 4/10\n",
      "625/625 [==============================] - 6s 9ms/step - loss: 0.2637 - accuracy: 0.9016 - val_loss: 0.3985 - val_accuracy: 0.8792\n",
      "Epoch 5/10\n",
      "625/625 [==============================] - 8s 13ms/step - loss: 0.2642 - accuracy: 0.9017 - val_loss: 0.4832 - val_accuracy: 0.8600\n",
      "Epoch 6/10\n",
      "625/625 [==============================] - 5s 7ms/step - loss: 0.2511 - accuracy: 0.9061 - val_loss: 0.4591 - val_accuracy: 0.8690\n",
      "Epoch 7/10\n",
      "625/625 [==============================] - 5s 8ms/step - loss: 0.2505 - accuracy: 0.9059 - val_loss: 0.3724 - val_accuracy: 0.8806\n",
      "Epoch 8/10\n",
      "625/625 [==============================] - 5s 8ms/step - loss: 0.2496 - accuracy: 0.9049 - val_loss: 0.3863 - val_accuracy: 0.8750\n",
      "Epoch 9/10\n",
      "625/625 [==============================] - 5s 9ms/step - loss: 0.2481 - accuracy: 0.9083 - val_loss: 0.3933 - val_accuracy: 0.8726\n",
      "Epoch 10/10\n",
      "625/625 [==============================] - 5s 8ms/step - loss: 0.2414 - accuracy: 0.9100 - val_loss: 0.4277 - val_accuracy: 0.8718\n"
     ]
    }
   ],
   "source": [
    "# callbacks\n",
    "callbacks = [keras.callbacks.ModelCheckpoint('tf_model.keras', save_best_only=True)]\n",
    "\n",
    "# train\n",
    "tf_history = model.fit(tf_train.cache(), validation_data=tf_val.cache(), epochs=EPOCHS, callbacks=callbacks)"
   ]
  },
  {
   "cell_type": "markdown",
   "id": "b9b9ded9",
   "metadata": {},
   "source": [
    "### Evaluation"
   ]
  },
  {
   "cell_type": "code",
   "execution_count": 37,
   "id": "5cfd7ffe",
   "metadata": {},
   "outputs": [
    {
     "name": "stdout",
     "output_type": "stream",
     "text": [
      "625/625 [==============================] - 9s 13ms/step - loss: 0.2067 - accuracy: 0.9294\n",
      "Test accuracy: 0.929\n"
     ]
    }
   ],
   "source": [
    "model = keras.models.load_model('tf_model.keras')\n",
    "print(f'Test accuracy: {model.evaluate(tf_test)[1]:.3f}')"
   ]
  },
  {
   "cell_type": "code",
   "execution_count": 38,
   "id": "2597ab24",
   "metadata": {},
   "outputs": [
    {
     "data": {
      "text/html": [
       "<div>\n",
       "<style scoped>\n",
       "    .dataframe tbody tr th:only-of-type {\n",
       "        vertical-align: middle;\n",
       "    }\n",
       "\n",
       "    .dataframe tbody tr th {\n",
       "        vertical-align: top;\n",
       "    }\n",
       "\n",
       "    .dataframe thead th {\n",
       "        text-align: right;\n",
       "    }\n",
       "</style>\n",
       "<table border=\"1\" class=\"dataframe\">\n",
       "  <thead>\n",
       "    <tr style=\"text-align: right;\">\n",
       "      <th></th>\n",
       "      <th>loss</th>\n",
       "      <th>accuracy</th>\n",
       "      <th>val_loss</th>\n",
       "      <th>val_accuracy</th>\n",
       "    </tr>\n",
       "  </thead>\n",
       "  <tbody>\n",
       "    <tr>\n",
       "      <th>count</th>\n",
       "      <td>10.000000</td>\n",
       "      <td>10.000000</td>\n",
       "      <td>10.000000</td>\n",
       "      <td>10.000000</td>\n",
       "    </tr>\n",
       "    <tr>\n",
       "      <th>mean</th>\n",
       "      <td>0.283594</td>\n",
       "      <td>0.901885</td>\n",
       "      <td>0.395120</td>\n",
       "      <td>0.876240</td>\n",
       "    </tr>\n",
       "    <tr>\n",
       "      <th>std</th>\n",
       "      <td>0.075439</td>\n",
       "      <td>0.007139</td>\n",
       "      <td>0.049367</td>\n",
       "      <td>0.008531</td>\n",
       "    </tr>\n",
       "    <tr>\n",
       "      <th>min</th>\n",
       "      <td>0.241352</td>\n",
       "      <td>0.886050</td>\n",
       "      <td>0.327110</td>\n",
       "      <td>0.860000</td>\n",
       "    </tr>\n",
       "    <tr>\n",
       "      <th>25%</th>\n",
       "      <td>0.249831</td>\n",
       "      <td>0.900175</td>\n",
       "      <td>0.358950</td>\n",
       "      <td>0.872000</td>\n",
       "    </tr>\n",
       "    <tr>\n",
       "      <th>50%</th>\n",
       "      <td>0.257432</td>\n",
       "      <td>0.903300</td>\n",
       "      <td>0.389812</td>\n",
       "      <td>0.877100</td>\n",
       "    </tr>\n",
       "    <tr>\n",
       "      <th>75%</th>\n",
       "      <td>0.273026</td>\n",
       "      <td>0.906050</td>\n",
       "      <td>0.420401</td>\n",
       "      <td>0.880750</td>\n",
       "    </tr>\n",
       "    <tr>\n",
       "      <th>max</th>\n",
       "      <td>0.492937</td>\n",
       "      <td>0.910000</td>\n",
       "      <td>0.483248</td>\n",
       "      <td>0.891000</td>\n",
       "    </tr>\n",
       "  </tbody>\n",
       "</table>\n",
       "</div>"
      ],
      "text/plain": [
       "            loss   accuracy   val_loss  val_accuracy\n",
       "count  10.000000  10.000000  10.000000     10.000000\n",
       "mean    0.283594   0.901885   0.395120      0.876240\n",
       "std     0.075439   0.007139   0.049367      0.008531\n",
       "min     0.241352   0.886050   0.327110      0.860000\n",
       "25%     0.249831   0.900175   0.358950      0.872000\n",
       "50%     0.257432   0.903300   0.389812      0.877100\n",
       "75%     0.273026   0.906050   0.420401      0.880750\n",
       "max     0.492937   0.910000   0.483248      0.891000"
      ]
     },
     "execution_count": 38,
     "metadata": {},
     "output_type": "execute_result"
    }
   ],
   "source": [
    "df = pd.DataFrame(data=tf_history.history)\n",
    "df.describe()"
   ]
  },
  {
   "cell_type": "markdown",
   "id": "2a09a8de",
   "metadata": {},
   "source": [
    "### Visualization"
   ]
  },
  {
   "cell_type": "code",
   "execution_count": 39,
   "id": "643c4f02",
   "metadata": {},
   "outputs": [
    {
     "data": {
      "image/png": "[encoded data removed]",
      "text/plain": [
       "<Figure size 432x288 with 2 Axes>"
      ]
     },
     "metadata": {},
     "output_type": "display_data"
    }
   ],
   "source": [
    "plot_loss_accuracy(tf_history.history,IMDB_DENSE_OUTPUT)"
   ]
  },
  {
   "cell_type": "markdown",
   "id": "9b23b611",
   "metadata": {},
   "source": [
    "## Exporting a Model that process raw strings"
   ]
  },
  {
   "cell_type": "code",
   "execution_count": null,
   "id": "93d85915",
   "metadata": {},
   "outputs": [],
   "source": []
  },
  {
   "cell_type": "markdown",
   "id": "d0475bb5",
   "metadata": {},
   "source": [
    "## Inferencing"
   ]
  },
  {
   "cell_type": "code",
   "execution_count": null,
   "id": "37920078",
   "metadata": {},
   "outputs": [],
   "source": []
  },
  {
   "cell_type": "markdown",
   "id": "c58abfb4",
   "metadata": {},
   "source": [
    "## THE SEQUENCE MODEL APPROACH  (WORDS AS A SEQUENCE)\n"
   ]
  },
  {
   "cell_type": "markdown",
   "id": "2d0f3092",
   "metadata": {},
   "source": [
    "### Config"
   ]
  },
  {
   "cell_type": "code",
   "execution_count": 50,
   "id": "dee0d367",
   "metadata": {},
   "outputs": [],
   "source": [
    "# In order to keep a managable input size, we will truncate the inputs after the first 600 words\n",
    "# this is a reasonable choice, since the average review length is 233 words, and only 5% of \n",
    "# reviews are longer than 600 words\n",
    "MAX_LENGTH = 300\n",
    "EMBEDDING_DIM = 256"
   ]
  },
  {
   "cell_type": "markdown",
   "id": "7ed47d9e",
   "metadata": {},
   "source": [
    "### Sequence data processiong (One hot encoding"
   ]
  },
  {
   "cell_type": "code",
   "execution_count": 41,
   "id": "8c64575d",
   "metadata": {},
   "outputs": [],
   "source": [
    "# Standardization, tokenization and vectorization\n",
    "vectorizer = TextVectorization(max_tokens=MAX_TOKENS, output_mode='int', output_sequence_length=MAX_LENGTH)\n",
    "vectorizer.adapt(text_only_train_dataset)\n",
    "\n",
    "train_ds = train_dataset.map(lambda x, y: (vectorizer(x), y), num_parallel_calls=MULTIPLE_CPU)\n",
    "val_ds = val_dataset.map(lambda x, y: (vectorizer(x), y), num_parallel_calls=MULTIPLE_CPU)\n",
    "test_ds = test_dataset.map(lambda x, y: (vectorizer(x), y), num_parallel_calls=MULTIPLE_CPU)"
   ]
  },
  {
   "cell_type": "code",
   "execution_count": 42,
   "id": "ec3e1b06",
   "metadata": {},
   "outputs": [
    {
     "name": "stdout",
     "output_type": "stream",
     "text": [
      "inputs.shape:  (32, 300)\n",
      "inputs.dtype:  <dtype: 'int64'>\n",
      "targets.shape:  (32,)\n",
      "targets.dtype:  <dtype: 'int32'>\n",
      "\n",
      "Label: 0\n",
      "Sample: [  31    2  452   10   14  651    6  118   43    4  157 1974   18   10\n",
      "  151   12   76   27   84   19    9    1   13    7    4   83  996    5\n",
      "    2  715    1    1    7  173    4 1040   12  159   56   51  332   54\n",
      "  248   33 1781    1   13    2  434 1310    7    2  167    5    2   87\n",
      "   18    5    1   42    4  170    1   13    2  223    7  712    3  579\n",
      "   32  532 9618  641    8    4 4167   41   34  162    1   13    2   64\n",
      "    7    2  358  148    9  216   27    2 1781 1247  223    3  196   27\n",
      "    9   95   27 3431   13   10   42  421    4  749  199 1491 1955    3\n",
      "   17    4  157  677  172    6   81  141  157    3   22    4    1   13\n",
      "   32  320   23  303    0    0    0    0    0    0    0    0    0    0\n",
      "    0    0    0    0    0    0    0    0    0    0    0    0    0    0\n",
      "    0    0    0    0    0    0    0    0    0    0    0    0    0    0\n",
      "    0    0    0    0    0    0    0    0    0    0    0    0    0    0\n",
      "    0    0    0    0    0    0    0    0    0    0    0    0    0    0\n",
      "    0    0    0    0    0    0    0    0    0    0    0    0    0    0\n",
      "    0    0    0    0    0    0    0    0    0    0    0    0    0    0\n",
      "    0    0    0    0    0    0    0    0    0    0    0    0    0    0\n",
      "    0    0    0    0    0    0    0    0    0    0    0    0    0    0\n",
      "    0    0    0    0    0    0    0    0    0    0    0    0    0    0\n",
      "    0    0    0    0    0    0    0    0    0    0    0    0    0    0\n",
      "    0    0    0    0    0    0    0    0    0    0    0    0    0    0\n",
      "    0    0    0    0    0    0]\n"
     ]
    }
   ],
   "source": [
    "inspect_dataset(train_ds)"
   ]
  },
  {
   "cell_type": "markdown",
   "id": "712a0296",
   "metadata": {},
   "source": [
    "### Word Embeddings\n",
    "- There are two ways to obtain word embeddings\n",
    "    1. Learn word embeddings jointly with the main task (starts with random word vector)\n",
    "    2. Load into your model word embeddings that were precomputed using a different machine learning task (pretrained word embeddings)"
   ]
  },
  {
   "cell_type": "markdown",
   "id": "164a8aeb",
   "metadata": {},
   "source": [
    "#### Learn word embeddings with Embedding Layer\n",
    "- The Embedding layer takes at least two args:\n",
    "    1. The number f possible tokens. \n",
    "    2. The dimensionality of the embeddings."
   ]
  },
  {
   "cell_type": "markdown",
   "id": "dd329381",
   "metadata": {},
   "source": [
    "### MODEL"
   ]
  },
  {
   "cell_type": "code",
   "execution_count": 64,
   "id": "b031681c",
   "metadata": {},
   "outputs": [],
   "source": [
    "# mask_zero param is used to perform input masking which will skip some tokens in time t\n",
    "def get_lstm_with_embeddings(max_tokens=MAX_TOKENS, hidden_dim=32, mask_zero=False):\n",
    "    # define\n",
    "    inputs = keras.Input(shape=(None,), dtype='int64')\n",
    "    # embedded = tf.one_hot(inputs, depth=max_tokens) # encode the intergers into binary 20000 dimension vector\n",
    "    embedded = layers.Embedding(input_dim=max_tokens, \n",
    "                                output_dim=EMBEDDING_DIM, \n",
    "                                mask_zero=mask_zero)(inputs)\n",
    "    x = layers.Bidirectional(layers.LSTM(hidden_dim))(embedded)\n",
    "    x = layers.Dropout(0.5)(x)\n",
    "    outputs = layers.Dense(1, activation='sigmoid')(x)\n",
    "    model = keras.Model(inputs, outputs)\n",
    "    \n",
    "    # compile\n",
    "    model.compile(optimizer='rmsprop', loss='binary_crossentropy', metrics=['accuracy'])\n",
    "    \n",
    "    # return\n",
    "    return model"
   ]
  },
  {
   "cell_type": "code",
   "execution_count": 43,
   "id": "348a8ecd",
   "metadata": {},
   "outputs": [],
   "source": [
    "def get_lstm(max_tokens=MAX_TOKENS, hidden_dim=32):\n",
    "    # define\n",
    "    inputs = keras.Input(shape=(None,), dtype='int64')\n",
    "    embedded = tf.one_hot(inputs, depth=max_tokens) # encode the intergers into binary 20000 dimension vector\n",
    "    x = layers.Bidirectional(layers.LSTM(hidden_dim))(embedded)\n",
    "    x = layers.Dropout(0.5)(x)\n",
    "    outputs = layers.Dense(1, activation='sigmoid')(x)\n",
    "    model = keras.Model(inputs, outputs)\n",
    "    \n",
    "    # compile\n",
    "    model.compile(optimizer='rmsprop', loss='binary_crossentropy', metrics=['accuracy'])\n",
    "    \n",
    "    # return\n",
    "    return model"
   ]
  },
  {
   "cell_type": "markdown",
   "id": "cd477843",
   "metadata": {},
   "source": [
    "### Train"
   ]
  },
  {
   "cell_type": "code",
   "execution_count": 44,
   "id": "65da3348",
   "metadata": {},
   "outputs": [
    {
     "name": "stdout",
     "output_type": "stream",
     "text": [
      "Model: \"model_3\"\n",
      "_________________________________________________________________\n",
      " Layer (type)                Output Shape              Param #   \n",
      "=================================================================\n",
      " input_4 (InputLayer)        [(None, None)]            0         \n",
      "                                                                 \n",
      " tf.one_hot (TFOpLambda)     (None, None, 10000)       0         \n",
      "                                                                 \n",
      " bidirectional (Bidirectiona  (None, 64)               2568448   \n",
      " l)                                                              \n",
      "                                                                 \n",
      " dropout_3 (Dropout)         (None, 64)                0         \n",
      "                                                                 \n",
      " dense_6 (Dense)             (None, 1)                 65        \n",
      "                                                                 \n",
      "=================================================================\n",
      "Total params: 2,568,513\n",
      "Trainable params: 2,568,513\n",
      "Non-trainable params: 0\n",
      "_________________________________________________________________\n"
     ]
    }
   ],
   "source": [
    "model = get_lstm()\n",
    "model.summary()"
   ]
  },
  {
   "cell_type": "code",
   "execution_count": 45,
   "id": "3616351a",
   "metadata": {},
   "outputs": [
    {
     "name": "stdout",
     "output_type": "stream",
     "text": [
      "Epoch 1/10\n",
      "625/625 [==============================] - 512s 800ms/step - loss: 0.5261 - accuracy: 0.7473 - val_loss: 0.3620 - val_accuracy: 0.8534\n",
      "Epoch 2/10\n",
      "625/625 [==============================] - 489s 782ms/step - loss: 0.3558 - accuracy: 0.8705 - val_loss: 0.3098 - val_accuracy: 0.8742\n",
      "Epoch 3/10\n",
      "625/625 [==============================] - 433s 692ms/step - loss: 0.3039 - accuracy: 0.8892 - val_loss: 0.3085 - val_accuracy: 0.8800\n",
      "Epoch 4/10\n",
      "625/625 [==============================] - 519s 829ms/step - loss: 0.2489 - accuracy: 0.9089 - val_loss: 0.3140 - val_accuracy: 0.8730\n",
      "Epoch 5/10\n",
      "625/625 [==============================] - 469s 750ms/step - loss: 0.2252 - accuracy: 0.9191 - val_loss: 0.3615 - val_accuracy: 0.8762\n",
      "Epoch 6/10\n",
      "625/625 [==============================] - 443s 709ms/step - loss: 0.1951 - accuracy: 0.9293 - val_loss: 0.3299 - val_accuracy: 0.8688\n",
      "Epoch 7/10\n",
      "625/625 [==============================] - 457s 730ms/step - loss: 0.1748 - accuracy: 0.9392 - val_loss: 0.3876 - val_accuracy: 0.8396\n",
      "Epoch 8/10\n",
      "625/625 [==============================] - 460s 736ms/step - loss: 0.1510 - accuracy: 0.9467 - val_loss: 0.3703 - val_accuracy: 0.8776\n",
      "Epoch 9/10\n",
      "625/625 [==============================] - 457s 731ms/step - loss: 0.1312 - accuracy: 0.9540 - val_loss: 0.3774 - val_accuracy: 0.8632\n",
      "Epoch 10/10\n",
      "625/625 [==============================] - 450s 719ms/step - loss: 0.1218 - accuracy: 0.9585 - val_loss: 0.4507 - val_accuracy: 0.8552\n"
     ]
    }
   ],
   "source": [
    "callbacks = [keras.callbacks.ModelCheckpoint('one_hot_bidir_lstm.keras', save_best_only=True)]\n",
    "history_lstm = model.fit(train_ds, validation_data=val_ds, epochs=EPOCHS, callbacks=callbacks)"
   ]
  },
  {
   "cell_type": "markdown",
   "id": "564c09a9",
   "metadata": {},
   "source": [
    "### Evaluation"
   ]
  },
  {
   "cell_type": "code",
   "execution_count": 46,
   "id": "65105eb7",
   "metadata": {},
   "outputs": [
    {
     "data": {
      "text/html": [
       "<div>\n",
       "<style scoped>\n",
       "    .dataframe tbody tr th:only-of-type {\n",
       "        vertical-align: middle;\n",
       "    }\n",
       "\n",
       "    .dataframe tbody tr th {\n",
       "        vertical-align: top;\n",
       "    }\n",
       "\n",
       "    .dataframe thead th {\n",
       "        text-align: right;\n",
       "    }\n",
       "</style>\n",
       "<table border=\"1\" class=\"dataframe\">\n",
       "  <thead>\n",
       "    <tr style=\"text-align: right;\">\n",
       "      <th></th>\n",
       "      <th>loss</th>\n",
       "      <th>accuracy</th>\n",
       "      <th>val_loss</th>\n",
       "      <th>val_accuracy</th>\n",
       "    </tr>\n",
       "  </thead>\n",
       "  <tbody>\n",
       "    <tr>\n",
       "      <th>count</th>\n",
       "      <td>10.000000</td>\n",
       "      <td>10.000000</td>\n",
       "      <td>10.000000</td>\n",
       "      <td>10.000000</td>\n",
       "    </tr>\n",
       "    <tr>\n",
       "      <th>mean</th>\n",
       "      <td>0.243387</td>\n",
       "      <td>0.906265</td>\n",
       "      <td>0.357185</td>\n",
       "      <td>0.866120</td>\n",
       "    </tr>\n",
       "    <tr>\n",
       "      <th>std</th>\n",
       "      <td>0.124531</td>\n",
       "      <td>0.062590</td>\n",
       "      <td>0.044122</td>\n",
       "      <td>0.013076</td>\n",
       "    </tr>\n",
       "    <tr>\n",
       "      <th>min</th>\n",
       "      <td>0.121811</td>\n",
       "      <td>0.747300</td>\n",
       "      <td>0.308532</td>\n",
       "      <td>0.839600</td>\n",
       "    </tr>\n",
       "    <tr>\n",
       "      <th>25%</th>\n",
       "      <td>0.156943</td>\n",
       "      <td>0.894125</td>\n",
       "      <td>0.317990</td>\n",
       "      <td>0.857200</td>\n",
       "    </tr>\n",
       "    <tr>\n",
       "      <th>50%</th>\n",
       "      <td>0.210121</td>\n",
       "      <td>0.924175</td>\n",
       "      <td>0.361743</td>\n",
       "      <td>0.870900</td>\n",
       "    </tr>\n",
       "    <tr>\n",
       "      <th>75%</th>\n",
       "      <td>0.290183</td>\n",
       "      <td>0.944800</td>\n",
       "      <td>0.375655</td>\n",
       "      <td>0.875700</td>\n",
       "    </tr>\n",
       "    <tr>\n",
       "      <th>max</th>\n",
       "      <td>0.526149</td>\n",
       "      <td>0.958450</td>\n",
       "      <td>0.450726</td>\n",
       "      <td>0.880000</td>\n",
       "    </tr>\n",
       "  </tbody>\n",
       "</table>\n",
       "</div>"
      ],
      "text/plain": [
       "            loss   accuracy   val_loss  val_accuracy\n",
       "count  10.000000  10.000000  10.000000     10.000000\n",
       "mean    0.243387   0.906265   0.357185      0.866120\n",
       "std     0.124531   0.062590   0.044122      0.013076\n",
       "min     0.121811   0.747300   0.308532      0.839600\n",
       "25%     0.156943   0.894125   0.317990      0.857200\n",
       "50%     0.210121   0.924175   0.361743      0.870900\n",
       "75%     0.290183   0.944800   0.375655      0.875700\n",
       "max     0.526149   0.958450   0.450726      0.880000"
      ]
     },
     "execution_count": 46,
     "metadata": {},
     "output_type": "execute_result"
    }
   ],
   "source": [
    "# read train history\n",
    "df = pd.DataFrame(history_lstm.history)\n",
    "df.describe()"
   ]
  },
  {
   "cell_type": "code",
   "execution_count": 47,
   "id": "866b13b0",
   "metadata": {},
   "outputs": [
    {
     "name": "stdout",
     "output_type": "stream",
     "text": [
      "Model: \"model_3\"\n",
      "_________________________________________________________________\n",
      " Layer (type)                Output Shape              Param #   \n",
      "=================================================================\n",
      " input_4 (InputLayer)        [(None, None)]            0         \n",
      "                                                                 \n",
      " tf.one_hot (TFOpLambda)     (None, None, 10000)       0         \n",
      "                                                                 \n",
      " bidirectional (Bidirectiona  (None, 64)               2568448   \n",
      " l)                                                              \n",
      "                                                                 \n",
      " dropout_3 (Dropout)         (None, 64)                0         \n",
      "                                                                 \n",
      " dense_6 (Dense)             (None, 1)                 65        \n",
      "                                                                 \n",
      "=================================================================\n",
      "Total params: 2,568,513\n",
      "Trainable params: 2,568,513\n",
      "Non-trainable params: 0\n",
      "_________________________________________________________________\n"
     ]
    }
   ],
   "source": [
    "# load your model\n",
    "model = keras.models.load_model('one_hot_bidir_lstm.keras')\n",
    "model.summary()"
   ]
  },
  {
   "cell_type": "code",
   "execution_count": 48,
   "id": "cdff0f71",
   "metadata": {},
   "outputs": [
    {
     "name": "stdout",
     "output_type": "stream",
     "text": [
      "782/782 [==============================] - 288s 366ms/step - loss: 0.3224 - accuracy: 0.8716\n",
      "0.872\n"
     ]
    }
   ],
   "source": [
    "# run a test\n",
    "print(f'{model.evaluate(test_ds)[1]:.3f}')"
   ]
  },
  {
   "cell_type": "markdown",
   "id": "d5714380",
   "metadata": {},
   "source": [
    "### Visualization"
   ]
  },
  {
   "cell_type": "code",
   "execution_count": 49,
   "id": "b3fca1a5",
   "metadata": {},
   "outputs": [
    {
     "data": {
      "image/png": "[encoded data removed]",
      "text/plain": [
       "<Figure size 432x288 with 2 Axes>"
      ]
     },
     "metadata": {},
     "output_type": "display_data"
    }
   ],
   "source": [
    "plot_loss_accuracy(history_lstm.history, IMDB_LSTM_OUTPUT)"
   ]
  },
  {
   "cell_type": "markdown",
   "id": "6862bc34",
   "metadata": {},
   "source": [
    "### Train (Embedding)"
   ]
  },
  {
   "cell_type": "code",
   "execution_count": 54,
   "id": "0da9ca4f",
   "metadata": {},
   "outputs": [
    {
     "name": "stdout",
     "output_type": "stream",
     "text": [
      "inputs.shape:  (32, 300)\n",
      "inputs.dtype:  <dtype: 'int64'>\n",
      "targets.shape:  (32,)\n",
      "targets.dtype:  <dtype: 'int32'>\n",
      "\n",
      "Label: 0\n",
      "Sample: [  10  237   53  752   33    2 1102  771   80   48   68  694    5  169\n",
      "   12  207   11   31   29 3094    3   72   32 2408   46   72 1224  405\n",
      "   12    9   14 2133  576    6  104    3  400  845  140    2  219   18\n",
      "    3   72   63  782    6 1190   17    9    8  795  144    8    2  589\n",
      "   37   63  461    6   39    9   80    5   65  912 2444   17  869    1\n",
      " 8770    8    2  407  149 2300  153   39   41 3548   17    9   31   32\n",
      "   13   13   12  288    9    7   84    6   67   12   11   20   63    1\n",
      "   17    4  170    5   85  131   21    2 8756    3   17 1823  174    2\n",
      "  894    5    2    1  525  801    5   20    0    0    0    0    0    0\n",
      "    0    0    0    0    0    0    0    0    0    0    0    0    0    0\n",
      "    0    0    0    0    0    0    0    0    0    0    0    0    0    0\n",
      "    0    0    0    0    0    0    0    0    0    0    0    0    0    0\n",
      "    0    0    0    0    0    0    0    0    0    0    0    0    0    0\n",
      "    0    0    0    0    0    0    0    0    0    0    0    0    0    0\n",
      "    0    0    0    0    0    0    0    0    0    0    0    0    0    0\n",
      "    0    0    0    0    0    0    0    0    0    0    0    0    0    0\n",
      "    0    0    0    0    0    0    0    0    0    0    0    0    0    0\n",
      "    0    0    0    0    0    0    0    0    0    0    0    0    0    0\n",
      "    0    0    0    0    0    0    0    0    0    0    0    0    0    0\n",
      "    0    0    0    0    0    0    0    0    0    0    0    0    0    0\n",
      "    0    0    0    0    0    0    0    0    0    0    0    0    0    0\n",
      "    0    0    0    0    0    0]\n"
     ]
    }
   ],
   "source": [
    "inspect_dataset(train_ds)"
   ]
  },
  {
   "cell_type": "code",
   "execution_count": 56,
   "id": "0b8b9a7c",
   "metadata": {},
   "outputs": [
    {
     "name": "stdout",
     "output_type": "stream",
     "text": [
      "Model: \"model_5\"\n",
      "_________________________________________________________________\n",
      " Layer (type)                Output Shape              Param #   \n",
      "=================================================================\n",
      " input_6 (InputLayer)        [(None, None)]            0         \n",
      "                                                                 \n",
      " embedding_1 (Embedding)     (None, None, 256)         2560000   \n",
      "                                                                 \n",
      " bidirectional_2 (Bidirectio  (None, 64)               73984     \n",
      " nal)                                                            \n",
      "                                                                 \n",
      " dropout_5 (Dropout)         (None, 64)                0         \n",
      "                                                                 \n",
      " dense_8 (Dense)             (None, 1)                 65        \n",
      "                                                                 \n",
      "=================================================================\n",
      "Total params: 2,634,049\n",
      "Trainable params: 2,634,049\n",
      "Non-trainable params: 0\n",
      "_________________________________________________________________\n"
     ]
    }
   ],
   "source": [
    "model = get_lstm_with_embeddings()\n",
    "model.summary()"
   ]
  },
  {
   "cell_type": "code",
   "execution_count": 57,
   "id": "eca9c808",
   "metadata": {},
   "outputs": [
    {
     "name": "stdout",
     "output_type": "stream",
     "text": [
      "Epoch 1/10\n",
      "625/625 [==============================] - 94s 144ms/step - loss: 0.4804 - accuracy: 0.7852 - val_loss: 0.4100 - val_accuracy: 0.8300\n",
      "Epoch 2/10\n",
      "625/625 [==============================] - 66s 105ms/step - loss: 0.3253 - accuracy: 0.8784 - val_loss: 0.3164 - val_accuracy: 0.8794\n",
      "Epoch 3/10\n",
      "625/625 [==============================] - 60s 96ms/step - loss: 0.2694 - accuracy: 0.9026 - val_loss: 0.3239 - val_accuracy: 0.8676\n",
      "Epoch 4/10\n",
      "625/625 [==============================] - 57s 91ms/step - loss: 0.2271 - accuracy: 0.9205 - val_loss: 0.4067 - val_accuracy: 0.8566\n",
      "Epoch 5/10\n",
      "625/625 [==============================] - 59s 93ms/step - loss: 0.1872 - accuracy: 0.9338 - val_loss: 0.3423 - val_accuracy: 0.8778\n",
      "Epoch 6/10\n",
      "625/625 [==============================] - 71s 113ms/step - loss: 0.1535 - accuracy: 0.9460 - val_loss: 0.3828 - val_accuracy: 0.8744\n",
      "Epoch 7/10\n",
      "625/625 [==============================] - 61s 97ms/step - loss: 0.1262 - accuracy: 0.9566 - val_loss: 0.4333 - val_accuracy: 0.8682\n",
      "Epoch 8/10\n",
      "625/625 [==============================] - 67s 107ms/step - loss: 0.1043 - accuracy: 0.9639 - val_loss: 0.4339 - val_accuracy: 0.8628\n",
      "Epoch 9/10\n",
      "625/625 [==============================] - 65s 104ms/step - loss: 0.0842 - accuracy: 0.9729 - val_loss: 0.5251 - val_accuracy: 0.8692\n",
      "Epoch 10/10\n",
      "625/625 [==============================] - 59s 94ms/step - loss: 0.0718 - accuracy: 0.9772 - val_loss: 0.5319 - val_accuracy: 0.8604\n"
     ]
    }
   ],
   "source": [
    "callbacks = [\n",
    "    keras.callbacks.ModelCheckpoint('lstm_with_embeddings.keras', save_best_only=True)\n",
    "]\n",
    "history_lstm_embeddings = model.fit(train_ds, validation_data=val_ds, epochs=EPOCHS, callbacks=callbacks)"
   ]
  },
  {
   "cell_type": "markdown",
   "id": "7947d885",
   "metadata": {},
   "source": [
    "### Evaluation"
   ]
  },
  {
   "cell_type": "code",
   "execution_count": 58,
   "id": "c148a91c",
   "metadata": {},
   "outputs": [
    {
     "data": {
      "text/html": [
       "<div>\n",
       "<style scoped>\n",
       "    .dataframe tbody tr th:only-of-type {\n",
       "        vertical-align: middle;\n",
       "    }\n",
       "\n",
       "    .dataframe tbody tr th {\n",
       "        vertical-align: top;\n",
       "    }\n",
       "\n",
       "    .dataframe thead th {\n",
       "        text-align: right;\n",
       "    }\n",
       "</style>\n",
       "<table border=\"1\" class=\"dataframe\">\n",
       "  <thead>\n",
       "    <tr style=\"text-align: right;\">\n",
       "      <th></th>\n",
       "      <th>loss</th>\n",
       "      <th>accuracy</th>\n",
       "      <th>val_loss</th>\n",
       "      <th>val_accuracy</th>\n",
       "    </tr>\n",
       "  </thead>\n",
       "  <tbody>\n",
       "    <tr>\n",
       "      <th>count</th>\n",
       "      <td>10.000000</td>\n",
       "      <td>10.000000</td>\n",
       "      <td>10.000000</td>\n",
       "      <td>10.000000</td>\n",
       "    </tr>\n",
       "    <tr>\n",
       "      <th>mean</th>\n",
       "      <td>0.202936</td>\n",
       "      <td>0.923700</td>\n",
       "      <td>0.410635</td>\n",
       "      <td>0.864640</td>\n",
       "    </tr>\n",
       "    <tr>\n",
       "      <th>std</th>\n",
       "      <td>0.127606</td>\n",
       "      <td>0.057988</td>\n",
       "      <td>0.075091</td>\n",
       "      <td>0.014199</td>\n",
       "    </tr>\n",
       "    <tr>\n",
       "      <th>min</th>\n",
       "      <td>0.071819</td>\n",
       "      <td>0.785200</td>\n",
       "      <td>0.316417</td>\n",
       "      <td>0.830000</td>\n",
       "    </tr>\n",
       "    <tr>\n",
       "      <th>25%</th>\n",
       "      <td>0.109781</td>\n",
       "      <td>0.907112</td>\n",
       "      <td>0.352408</td>\n",
       "      <td>0.861000</td>\n",
       "    </tr>\n",
       "    <tr>\n",
       "      <th>50%</th>\n",
       "      <td>0.170378</td>\n",
       "      <td>0.939900</td>\n",
       "      <td>0.408382</td>\n",
       "      <td>0.867900</td>\n",
       "    </tr>\n",
       "    <tr>\n",
       "      <th>75%</th>\n",
       "      <td>0.258790</td>\n",
       "      <td>0.962038</td>\n",
       "      <td>0.433726</td>\n",
       "      <td>0.873100</td>\n",
       "    </tr>\n",
       "    <tr>\n",
       "      <th>max</th>\n",
       "      <td>0.480404</td>\n",
       "      <td>0.977200</td>\n",
       "      <td>0.531940</td>\n",
       "      <td>0.879400</td>\n",
       "    </tr>\n",
       "  </tbody>\n",
       "</table>\n",
       "</div>"
      ],
      "text/plain": [
       "            loss   accuracy   val_loss  val_accuracy\n",
       "count  10.000000  10.000000  10.000000     10.000000\n",
       "mean    0.202936   0.923700   0.410635      0.864640\n",
       "std     0.127606   0.057988   0.075091      0.014199\n",
       "min     0.071819   0.785200   0.316417      0.830000\n",
       "25%     0.109781   0.907112   0.352408      0.861000\n",
       "50%     0.170378   0.939900   0.408382      0.867900\n",
       "75%     0.258790   0.962038   0.433726      0.873100\n",
       "max     0.480404   0.977200   0.531940      0.879400"
      ]
     },
     "execution_count": 58,
     "metadata": {},
     "output_type": "execute_result"
    }
   ],
   "source": [
    "df = pd.DataFrame(history_lstm_embeddings.history)\n",
    "df.describe()"
   ]
  },
  {
   "cell_type": "code",
   "execution_count": 59,
   "id": "8ee2c442",
   "metadata": {},
   "outputs": [
    {
     "name": "stdout",
     "output_type": "stream",
     "text": [
      "782/782 [==============================] - 54s 67ms/step - loss: 0.3444 - accuracy: 0.8630\n",
      "0.863\n"
     ]
    }
   ],
   "source": [
    "# load a model and run a test\n",
    "model = keras.models.load_model('lstm_with_embeddings.keras')\n",
    "print(f'{model.evaluate(test_ds)[1]:.3f}')"
   ]
  },
  {
   "cell_type": "markdown",
   "id": "45da27b8",
   "metadata": {},
   "source": [
    "### Visualization"
   ]
  },
  {
   "cell_type": "code",
   "execution_count": 60,
   "id": "5e934db8",
   "metadata": {},
   "outputs": [
    {
     "data": {
      "image/png": "[encoded data removed]",
      "text/plain": [
       "<Figure size 432x288 with 2 Axes>"
      ]
     },
     "metadata": {},
     "output_type": "display_data"
    }
   ],
   "source": [
    "plot_loss_accuracy(history_lstm_embeddings.history, IMDB_GRU_OUTPUT)"
   ]
  },
  {
   "cell_type": "markdown",
   "id": "c3f4c6f5",
   "metadata": {},
   "source": [
    "### Train (masked embeddings)"
   ]
  },
  {
   "cell_type": "code",
   "execution_count": 66,
   "id": "3b1e97d9",
   "metadata": {},
   "outputs": [
    {
     "name": "stdout",
     "output_type": "stream",
     "text": [
      "inputs.shape:  (32, 300)\n",
      "inputs.dtype:  <dtype: 'int64'>\n",
      "targets.shape:  (32,)\n",
      "targets.dtype:  <dtype: 'int32'>\n",
      "\n",
      "Label: 1\n",
      "Sample: [ 715 6917   37  460  334  169    1   97   15    4 4310  366    3 4658\n",
      "  271   51  856  169  246    4  302    1    6    2  875  832    2 4108\n",
      "    3    8   12   61    1 3581    5 3521 1417    6    1    2 1329  894\n",
      "    5    2 4986 1561   59   33    2 1409  433  379   44    2   18    7\n",
      "   63  445   21    4  272   64  271   51  447    1   12  344    5 1796\n",
      "   24    8  867  344   12  465  697   65   61   17    4 1350 1944   12\n",
      "   62    2   61   76  191   98  270    2  624    7    1  135   15    2\n",
      "  176  482   33 4537 3524  616  234    7  654    6    1 1341  942    4\n",
      " 6601  856    7    2 1218    5 4053    1    8    2  217    5    1 2855\n",
      "   18   12  216  702    8    4 1090    5  144   37   63 1297    2  875\n",
      "    0    0    0    0    0    0    0    0    0    0    0    0    0    0\n",
      "    0    0    0    0    0    0    0    0    0    0    0    0    0    0\n",
      "    0    0    0    0    0    0    0    0    0    0    0    0    0    0\n",
      "    0    0    0    0    0    0    0    0    0    0    0    0    0    0\n",
      "    0    0    0    0    0    0    0    0    0    0    0    0    0    0\n",
      "    0    0    0    0    0    0    0    0    0    0    0    0    0    0\n",
      "    0    0    0    0    0    0    0    0    0    0    0    0    0    0\n",
      "    0    0    0    0    0    0    0    0    0    0    0    0    0    0\n",
      "    0    0    0    0    0    0    0    0    0    0    0    0    0    0\n",
      "    0    0    0    0    0    0    0    0    0    0    0    0    0    0\n",
      "    0    0    0    0    0    0    0    0    0    0    0    0    0    0\n",
      "    0    0    0    0    0    0]\n"
     ]
    }
   ],
   "source": [
    "inspect_dataset(train_ds)"
   ]
  },
  {
   "cell_type": "code",
   "execution_count": 68,
   "id": "e36906d8",
   "metadata": {},
   "outputs": [
    {
     "name": "stdout",
     "output_type": "stream",
     "text": [
      "Model: \"model_8\"\n",
      "_________________________________________________________________\n",
      " Layer (type)                Output Shape              Param #   \n",
      "=================================================================\n",
      " input_9 (InputLayer)        [(None, None)]            0         \n",
      "                                                                 \n",
      " embedding_4 (Embedding)     (None, None, 256)         2560000   \n",
      "                                                                 \n",
      " bidirectional_5 (Bidirectio  (None, 64)               73984     \n",
      " nal)                                                            \n",
      "                                                                 \n",
      " dropout_8 (Dropout)         (None, 64)                0         \n",
      "                                                                 \n",
      " dense_11 (Dense)            (None, 1)                 65        \n",
      "                                                                 \n",
      "=================================================================\n",
      "Total params: 2,634,049\n",
      "Trainable params: 2,634,049\n",
      "Non-trainable params: 0\n",
      "_________________________________________________________________\n"
     ]
    }
   ],
   "source": [
    "model = get_lstm_with_embeddings(mask_zero=True)\n",
    "model.summary()"
   ]
  },
  {
   "cell_type": "code",
   "execution_count": 69,
   "id": "0968fbe9",
   "metadata": {},
   "outputs": [
    {
     "name": "stdout",
     "output_type": "stream",
     "text": [
      "Epoch 1/10\n",
      "625/625 [==============================] - 85s 125ms/step - loss: 0.4185 - accuracy: 0.8066 - val_loss: 0.2953 - val_accuracy: 0.8800\n",
      "Epoch 2/10\n",
      "625/625 [==============================] - 72s 115ms/step - loss: 0.2617 - accuracy: 0.8969 - val_loss: 0.3042 - val_accuracy: 0.8772\n",
      "Epoch 3/10\n",
      "625/625 [==============================] - 69s 110ms/step - loss: 0.2021 - accuracy: 0.9244 - val_loss: 0.3063 - val_accuracy: 0.8816\n",
      "Epoch 4/10\n",
      "625/625 [==============================] - 62s 99ms/step - loss: 0.1579 - accuracy: 0.9434 - val_loss: 0.3274 - val_accuracy: 0.8772\n",
      "Epoch 5/10\n",
      "625/625 [==============================] - 65s 104ms/step - loss: 0.1238 - accuracy: 0.9561 - val_loss: 0.3870 - val_accuracy: 0.8772\n",
      "Epoch 6/10\n",
      "625/625 [==============================] - 70s 112ms/step - loss: 0.0934 - accuracy: 0.9668 - val_loss: 0.4469 - val_accuracy: 0.8672\n",
      "Epoch 7/10\n",
      "625/625 [==============================] - 65s 104ms/step - loss: 0.0712 - accuracy: 0.9759 - val_loss: 0.4659 - val_accuracy: 0.8630\n",
      "Epoch 8/10\n",
      "625/625 [==============================] - 66s 105ms/step - loss: 0.0507 - accuracy: 0.9827 - val_loss: 0.5500 - val_accuracy: 0.8544\n",
      "Epoch 9/10\n",
      "625/625 [==============================] - 60s 96ms/step - loss: 0.0377 - accuracy: 0.9883 - val_loss: 0.5880 - val_accuracy: 0.8486\n",
      "Epoch 10/10\n",
      "625/625 [==============================] - 68s 109ms/step - loss: 0.0288 - accuracy: 0.9913 - val_loss: 0.6172 - val_accuracy: 0.8508\n"
     ]
    }
   ],
   "source": [
    "callbacks = [keras.callbacks.ModelCheckpoint('masked_embeddings.keras', save_best_only=True)]\n",
    "history_masked = model.fit(train_ds, validation_data=val_ds, epochs=EPOCHS, callbacks=callbacks)"
   ]
  },
  {
   "cell_type": "markdown",
   "id": "551918e1",
   "metadata": {},
   "source": [
    "### Evaluate"
   ]
  },
  {
   "cell_type": "code",
   "execution_count": 70,
   "id": "cbcf1923",
   "metadata": {},
   "outputs": [
    {
     "data": {
      "text/html": [
       "<div>\n",
       "<style scoped>\n",
       "    .dataframe tbody tr th:only-of-type {\n",
       "        vertical-align: middle;\n",
       "    }\n",
       "\n",
       "    .dataframe tbody tr th {\n",
       "        vertical-align: top;\n",
       "    }\n",
       "\n",
       "    .dataframe thead th {\n",
       "        text-align: right;\n",
       "    }\n",
       "</style>\n",
       "<table border=\"1\" class=\"dataframe\">\n",
       "  <thead>\n",
       "    <tr style=\"text-align: right;\">\n",
       "      <th></th>\n",
       "      <th>loss</th>\n",
       "      <th>accuracy</th>\n",
       "      <th>val_loss</th>\n",
       "      <th>val_accuracy</th>\n",
       "    </tr>\n",
       "  </thead>\n",
       "  <tbody>\n",
       "    <tr>\n",
       "      <th>count</th>\n",
       "      <td>10.000000</td>\n",
       "      <td>10.000000</td>\n",
       "      <td>10.000000</td>\n",
       "      <td>10.000000</td>\n",
       "    </tr>\n",
       "    <tr>\n",
       "      <th>mean</th>\n",
       "      <td>0.144581</td>\n",
       "      <td>0.943245</td>\n",
       "      <td>0.428802</td>\n",
       "      <td>0.867720</td>\n",
       "    </tr>\n",
       "    <tr>\n",
       "      <th>std</th>\n",
       "      <td>0.122159</td>\n",
       "      <td>0.056625</td>\n",
       "      <td>0.123659</td>\n",
       "      <td>0.012758</td>\n",
       "    </tr>\n",
       "    <tr>\n",
       "      <th>min</th>\n",
       "      <td>0.028797</td>\n",
       "      <td>0.806600</td>\n",
       "      <td>0.295288</td>\n",
       "      <td>0.848600</td>\n",
       "    </tr>\n",
       "    <tr>\n",
       "      <th>25%</th>\n",
       "      <td>0.055832</td>\n",
       "      <td>0.929162</td>\n",
       "      <td>0.311550</td>\n",
       "      <td>0.856550</td>\n",
       "    </tr>\n",
       "    <tr>\n",
       "      <th>50%</th>\n",
       "      <td>0.108591</td>\n",
       "      <td>0.961450</td>\n",
       "      <td>0.416938</td>\n",
       "      <td>0.872200</td>\n",
       "    </tr>\n",
       "    <tr>\n",
       "      <th>75%</th>\n",
       "      <td>0.191059</td>\n",
       "      <td>0.981000</td>\n",
       "      <td>0.528967</td>\n",
       "      <td>0.877200</td>\n",
       "    </tr>\n",
       "    <tr>\n",
       "      <th>max</th>\n",
       "      <td>0.418470</td>\n",
       "      <td>0.991300</td>\n",
       "      <td>0.617198</td>\n",
       "      <td>0.881600</td>\n",
       "    </tr>\n",
       "  </tbody>\n",
       "</table>\n",
       "</div>"
      ],
      "text/plain": [
       "            loss   accuracy   val_loss  val_accuracy\n",
       "count  10.000000  10.000000  10.000000     10.000000\n",
       "mean    0.144581   0.943245   0.428802      0.867720\n",
       "std     0.122159   0.056625   0.123659      0.012758\n",
       "min     0.028797   0.806600   0.295288      0.848600\n",
       "25%     0.055832   0.929162   0.311550      0.856550\n",
       "50%     0.108591   0.961450   0.416938      0.872200\n",
       "75%     0.191059   0.981000   0.528967      0.877200\n",
       "max     0.418470   0.991300   0.617198      0.881600"
      ]
     },
     "execution_count": 70,
     "metadata": {},
     "output_type": "execute_result"
    }
   ],
   "source": [
    "df = pd.DataFrame(history_masked.history)\n",
    "df.describe()"
   ]
  },
  {
   "cell_type": "code",
   "execution_count": 71,
   "id": "e153b72e",
   "metadata": {},
   "outputs": [
    {
     "name": "stdout",
     "output_type": "stream",
     "text": [
      "782/782 [==============================] - 32s 35ms/step - loss: 0.3092 - accuracy: 0.8720\n",
      "0.872\n"
     ]
    }
   ],
   "source": [
    "# load a model and run a test\n",
    "model = keras.models.load_model('masked_embeddings.keras')\n",
    "print(f'{model.evaluate(test_ds)[1]:.3f}')"
   ]
  },
  {
   "cell_type": "markdown",
   "id": "abe60a20",
   "metadata": {},
   "source": [
    "### Visualization"
   ]
  },
  {
   "cell_type": "code",
   "execution_count": 72,
   "id": "c3c9166c",
   "metadata": {},
   "outputs": [
    {
     "data": {
      "image/png": "[encoded data removed]",
      "text/plain": [
       "<Figure size 432x288 with 2 Axes>"
      ]
     },
     "metadata": {},
     "output_type": "display_data"
    }
   ],
   "source": [
    "plot_loss_accuracy(history_masked.history, IMDB_MASKED_OUTPUT)"
   ]
  }
 ],
 "metadata": {
  "kernelspec": {
   "display_name": "Python 3",
   "language": "python",
   "name": "python3"
  },
  "language_info": {
   "codemirror_mode": {
    "name": "ipython",
    "version": 3
   },
   "file_extension": ".py",
   "mimetype": "text/x-python",
   "name": "python",
   "nbconvert_exporter": "python",
   "pygments_lexer": "ipython3",
   "version": "3.8.8"
  }
 },
 "nbformat": 4,
 "nbformat_minor": 5
}
