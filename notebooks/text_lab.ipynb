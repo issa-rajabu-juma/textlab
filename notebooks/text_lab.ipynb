{
 "cells": [
  {
   "cell_type": "markdown",
   "id": "b528901b",
   "metadata": {},
   "source": [
    "## Libraries"
   ]
  },
  {
   "cell_type": "code",
   "execution_count": 1,
   "id": "fcff7a53",
   "metadata": {},
   "outputs": [],
   "source": [
    "from keras.layers import TextVectorization\n",
    "import re\n",
    "import string\n",
    "import tensorflow as tf\n",
    "import os\n",
    "import pathlib\n",
    "import shutil\n",
    "import random\n",
    "import pandas as pd\n",
    "import matplotlib.pyplot as plt\n",
    "from tensorflow import keras\n",
    "from tensorflow.keras import layers\n"
   ]
  },
  {
   "cell_type": "markdown",
   "id": "1edc034b",
   "metadata": {},
   "source": [
    "## Config"
   ]
  },
  {
   "cell_type": "code",
   "execution_count": 2,
   "id": "1daec194",
   "metadata": {},
   "outputs": [
    {
     "ename": "FileNotFoundError",
     "evalue": "[WinError 3] The system cannot find the path specified: 'C:/Users/Tajr/Desktop/UDSM/Experiments/datasets/'",
     "output_type": "error",
     "traceback": [
      "\u001b[1;31m---------------------------------------------------------------------------\u001b[0m",
      "\u001b[1;31mFileNotFoundError\u001b[0m                         Traceback (most recent call last)",
      "\u001b[1;32m<ipython-input-2-3c6a6db00bfd>\u001b[0m in \u001b[0;36m<module>\u001b[1;34m\u001b[0m\n\u001b[0;32m      2\u001b[0m \u001b[0mOUTPUT_PATH\u001b[0m \u001b[1;33m=\u001b[0m \u001b[1;34m\"C:/Users/Tajr/Desktop/UDSM/Experiments/textLab/outputs/\"\u001b[0m\u001b[1;33m\u001b[0m\u001b[1;33m\u001b[0m\u001b[0m\n\u001b[0;32m      3\u001b[0m \u001b[0mMODEL_PATH\u001b[0m \u001b[1;33m=\u001b[0m \u001b[0mos\u001b[0m\u001b[1;33m.\u001b[0m\u001b[0mpath\u001b[0m\u001b[1;33m.\u001b[0m\u001b[0mjoin\u001b[0m\u001b[1;33m(\u001b[0m\u001b[0mOUTPUT_PATH\u001b[0m\u001b[1;33m,\u001b[0m \u001b[1;34m'model/'\u001b[0m\u001b[1;33m)\u001b[0m\u001b[1;33m\u001b[0m\u001b[1;33m\u001b[0m\u001b[0m\n\u001b[1;32m----> 4\u001b[1;33m \u001b[0mIMDB_REVIEWS_PATH\u001b[0m \u001b[1;33m=\u001b[0m \u001b[0mos\u001b[0m\u001b[1;33m.\u001b[0m\u001b[0mpath\u001b[0m\u001b[1;33m.\u001b[0m\u001b[0mjoin\u001b[0m\u001b[1;33m(\u001b[0m\u001b[0mDATASET_PATH\u001b[0m\u001b[1;33m,\u001b[0m \u001b[0mos\u001b[0m\u001b[1;33m.\u001b[0m\u001b[0mlistdir\u001b[0m\u001b[1;33m(\u001b[0m\u001b[0mDATASET_PATH\u001b[0m\u001b[1;33m)\u001b[0m\u001b[1;33m[\u001b[0m\u001b[1;36m0\u001b[0m\u001b[1;33m]\u001b[0m\u001b[1;33m)\u001b[0m\u001b[1;33m\u001b[0m\u001b[1;33m\u001b[0m\u001b[0m\n\u001b[0m\u001b[0;32m      5\u001b[0m \u001b[0mIMDB_DENSE_OUTPUT\u001b[0m \u001b[1;33m=\u001b[0m \u001b[0mos\u001b[0m\u001b[1;33m.\u001b[0m\u001b[0mpath\u001b[0m\u001b[1;33m.\u001b[0m\u001b[0mjoin\u001b[0m\u001b[1;33m(\u001b[0m\u001b[0mOUTPUT_PATH\u001b[0m\u001b[1;33m,\u001b[0m \u001b[1;34m'imdb_dense/'\u001b[0m\u001b[1;33m)\u001b[0m\u001b[1;33m\u001b[0m\u001b[1;33m\u001b[0m\u001b[0m\n\u001b[0;32m      6\u001b[0m \u001b[0mIMDB_LSTM_OUTPUT\u001b[0m \u001b[1;33m=\u001b[0m \u001b[0mos\u001b[0m\u001b[1;33m.\u001b[0m\u001b[0mpath\u001b[0m\u001b[1;33m.\u001b[0m\u001b[0mjoin\u001b[0m\u001b[1;33m(\u001b[0m\u001b[0mOUTPUT_PATH\u001b[0m\u001b[1;33m,\u001b[0m \u001b[1;34m'imdb_lstm/'\u001b[0m\u001b[1;33m)\u001b[0m\u001b[1;33m\u001b[0m\u001b[1;33m\u001b[0m\u001b[0m\n",
      "\u001b[1;31mFileNotFoundError\u001b[0m: [WinError 3] The system cannot find the path specified: 'C:/Users/Tajr/Desktop/UDSM/Experiments/datasets/'"
     ]
    }
   ],
   "source": [
    "DATASET_PATH =\"C:/Users/Tajr/Desktop/textlab/datasets/\"\n",
    "OUTPUT_PATH = \"C:/Users/Tajr/Desktop/textlab/outputs/\"\n",
    "MODEL_PATH = os.path.join(OUTPUT_PATH, 'model/')\n",
    "IMDB_REVIEWS_PATH = os.path.join(DATASET_PATH, os.listdir(DATASET_PATH)[0])\n",
    "IMDB_DENSE_OUTPUT = os.path.join(OUTPUT_PATH, 'imdb_dense/')\n",
    "IMDB_LSTM_OUTPUT = os.path.join(OUTPUT_PATH, 'imdb_lstm/')\n",
    "BATCH_SIZE = 32\n",
    "MAX_TOKENS = 20000\n",
    "MULTIPLE_CPU = 5\n",
    "EPOCHS = 10"
   ]
  },
  {
   "cell_type": "markdown",
   "id": "7de8e1d7",
   "metadata": {},
   "source": [
    "## Utils"
   ]
  },
  {
   "cell_type": "code",
   "execution_count": null,
   "id": "eb3b2b89",
   "metadata": {},
   "outputs": [],
   "source": [
    "def get_val_samples():\n",
    "    base_dir = pathlib.Path(IMDB_REVIEWS_PATH)\n",
    "    val_dir = base_dir / \"val\"\n",
    "    train_dir = base_dir / \"train\"\n",
    "\n",
    "    for category in (\"neg\", \"pos\"):\n",
    "        os.makedirs(val_dir / category)\n",
    "        files = os.listdir(train_dir / category)\n",
    "        random.Random(1337).shuffle(files)\n",
    "        num_val_samples = int(0.2 * len(files))\n",
    "        val_files = files[-num_val_samples:]\n",
    "\n",
    "        for fname in val_files:\n",
    "            shutil.move(train_dir / category / fname, val_dir / category / fname)\n",
    "            \n",
    "# Accessing data\n",
    "def inspect_dataset(dataset):\n",
    "    for inputs, targets in dataset:\n",
    "        print('inputs.shape: ', inputs.shape)\n",
    "        print('inputs.dtype: ', inputs.dtype)\n",
    "        print('targets.shape: ', targets.shape)\n",
    "        print('targets.dtype: ', targets.dtype)\n",
    "        print()\n",
    "        print('Label: {}'.format(targets[0]))\n",
    "        print('Sample: {}'.format(inputs[0]))\n",
    "        break\n",
    "\n",
    "# define and compile your model     \n",
    "def get_model(max_tokens=MAX_TOKENS, hidden_dim=16):\n",
    "    # define inputs, hidden layers, and output layer\n",
    "    inputs = keras.Input(shape=(max_tokens,))\n",
    "    x = layers.Dense(hidden_dim, activation='relu')(inputs)\n",
    "    x = layers.Dropout(0.5)(x)\n",
    "    outputs = layers.Dense(1, activation='sigmoid')(x)\n",
    "    \n",
    "    # define model\n",
    "    model = keras.Model(inputs, outputs)\n",
    "    \n",
    "    # compile your model\n",
    "    model.compile(optimizer='rmsprop', loss='binary_crossentropy', metrics=['accuracy'])\n",
    "    \n",
    "    # return your model\n",
    "    return model\n",
    "\n",
    "# check if output dir exist, if not create it\n",
    "def mkdir(path):\n",
    "    if not os.path.exists(path):\n",
    "        os.makedirs(path)\n",
    "\n",
    "# Visualize training process\n",
    "def plot_loss_accuracy(history, file_path):\n",
    "    # set style\n",
    "    mkdir(file_path)\n",
    "    plt.style.use('ggplot')\n",
    "    (fig, axs) = plt.subplots(2, 1)\n",
    "    axs[0].plot(history['loss'], label='Training Loss')    \n",
    "    axs[0].plot(history['val_loss'], label='Validation Loss')\n",
    "    axs[0].set_xlabel('Epochs')\n",
    "    axs[0].set_ylabel('Loss')\n",
    "    axs[0].legend()    \n",
    "    axs[1].plot(history['accuracy'], label='Training Accuracy') \n",
    "    axs[1].plot(history['val_accuracy'], label='Validation Accuracy')    \n",
    "    axs[1].set_xlabel('Epochs')\n",
    "    axs[1].set_ylabel('Accuracy')\n",
    "    axs[1].legend()\n",
    "    fig.savefig(file_path)\n",
    "    plt.show()"
   ]
  },
  {
   "cell_type": "markdown",
   "id": "1a1b830c",
   "metadata": {},
   "source": [
    "## Dataset"
   ]
  },
  {
   "cell_type": "markdown",
   "id": "d8a3da30",
   "metadata": {},
   "source": [
    "Sequential data - any data where the order or sequency is as essential as the data itself. example sentences, stock market data, audio data etc\n"
   ]
  },
  {
   "cell_type": "markdown",
   "id": "be93fc23",
   "metadata": {},
   "source": [
    "### Raw data"
   ]
  },
  {
   "cell_type": "code",
   "execution_count": null,
   "id": "6747e563",
   "metadata": {},
   "outputs": [],
   "source": [
    "# These dataset yield inputs that are Tensorflow tf.string tensors and \n",
    "# targets are int 32 tensors encoding the value 0 and 1\n",
    "train_dataset = keras.utils.text_dataset_from_directory(os.path.join(IMDB_REVIEWS_PATH, 'train'), batch_size=BATCH_SIZE)\n",
    "val_dataset = keras.utils.text_dataset_from_directory(os.path.join(IMDB_REVIEWS_PATH, 'val'), batch_size=BATCH_SIZE)\n",
    "test_dataset = keras.utils.text_dataset_from_directory(os.path.join(IMDB_REVIEWS_PATH, 'test'), batch_size=BATCH_SIZE)"
   ]
  },
  {
   "cell_type": "code",
   "execution_count": null,
   "id": "0d2486f0",
   "metadata": {},
   "outputs": [],
   "source": [
    "# Accessing data\n",
    "for i, line in enumerate(train_dataset.take(1)):\n",
    "    print('Label: {}'.format(line[1][2]))\n",
    "    print('Sample: {}'.format(line[0][2]))\n",
    "  "
   ]
  },
  {
   "cell_type": "code",
   "execution_count": null,
   "id": "5c6adcb4",
   "metadata": {},
   "outputs": [],
   "source": [
    "inspect_dataset(train_dataset)"
   ]
  },
  {
   "cell_type": "markdown",
   "id": "dbc7424d",
   "metadata": {},
   "source": [
    "## Data Processing"
   ]
  },
  {
   "cell_type": "markdown",
   "id": "9d2ca60b",
   "metadata": {},
   "source": [
    "### Standardization, Tokenization and Vectorization"
   ]
  },
  {
   "attachments": {
    "text%20to%20vectors.png": {
     "image/png": "[encoded data removed]"
    }
   },
   "cell_type": "markdown",
   "id": "635ade6f",
   "metadata": {},
   "source": [
    "![text%20to%20vectors.png](attachment:text%20to%20vectors.png)"
   ]
  },
  {
   "cell_type": "markdown",
   "id": "9b88db22",
   "metadata": {},
   "source": [
    "## BAG OF WORDS APPROACH (WORD AS A SET)\n",
    "- Individual Words(Unigram)\n",
    "- Group of consecutive tokens(N-grams)"
   ]
  },
  {
   "cell_type": "markdown",
   "id": "936ad7e1",
   "metadata": {},
   "source": [
    "##### Unigram with Binary Encoding"
   ]
  },
  {
   "cell_type": "markdown",
   "id": "b45c2f05",
   "metadata": {},
   "source": [
    "In practice you will use TextVectorization layer which is efficient and fast way of doing things.\n",
    "- By defauld the layer will use the setting to convert to lowercase and remove punctuation (Standardizaztion), Split on whitespace (tokenization)\n",
    "- It can receive custom function for standardization and tokenization\n",
    "- Call adapt method to index the vocabulary of a text corpus"
   ]
  },
  {
   "cell_type": "code",
   "execution_count": null,
   "id": "29f8d635",
   "metadata": {},
   "outputs": [],
   "source": [
    "# define vectorizer\n",
    "vectorizer = TextVectorization(max_tokens=MAX_TOKENS, output_mode='multi_hot')"
   ]
  },
  {
   "cell_type": "code",
   "execution_count": null,
   "id": "94032722",
   "metadata": {},
   "outputs": [],
   "source": [
    "# prepare a dataset that only yields raw text inputs no labels\n",
    "text_only_train_ds = train_dataset.map(lambda x, y: x)\n",
    "\n",
    "# use the dataset to index the dataset vocabulary via the adapt() method\n",
    "vectorizer.adapt(text_only_train_ds)"
   ]
  },
  {
   "cell_type": "code",
   "execution_count": null,
   "id": "07711479",
   "metadata": {},
   "outputs": [],
   "source": [
    "# prepare the processed versions of our training validation and test dataset\n",
    "train_ds = train_dataset.map(lambda x, y: (vectorizer(x), y), num_parallel_calls=MULTIPLE_CPU)\n",
    "val_ds = val_dataset.map(lambda x, y: (vectorizer(x), y), num_parallel_calls=MULTIPLE_CPU)\n",
    "test_ds = test_dataset.map(lambda x, y: (vectorizer(x), y), num_parallel_calls=MULTIPLE_CPU)"
   ]
  },
  {
   "cell_type": "code",
   "execution_count": null,
   "id": "fee9cedd",
   "metadata": {},
   "outputs": [],
   "source": [
    "inspect_dataset(train_ds)"
   ]
  },
  {
   "cell_type": "code",
   "execution_count": null,
   "id": "d27f394c",
   "metadata": {},
   "outputs": [],
   "source": [
    "inspect_dataset(val_ds)"
   ]
  },
  {
   "cell_type": "code",
   "execution_count": null,
   "id": "b8a57f44",
   "metadata": {},
   "outputs": [],
   "source": [
    "inspect_dataset(test_ds)"
   ]
  },
  {
   "cell_type": "markdown",
   "id": "160ef670",
   "metadata": {},
   "source": [
    "##### Bigrams"
   ]
  },
  {
   "cell_type": "markdown",
   "id": "979e45e3",
   "metadata": {},
   "source": [
    "###### standardization, tokenization and vectorization"
   ]
  },
  {
   "cell_type": "code",
   "execution_count": null,
   "id": "9f9c81b5",
   "metadata": {},
   "outputs": [],
   "source": [
    "# prepare a dataset that only yield raw text inputs no labels\n",
    "text_only_train_dataset = train_dataset.map(lambda x, y: x)\n",
    "\n",
    "# use the dataset to index the dataset vocabulary via the adapt() method\n",
    "vectorizer = TextVectorization(ngrams=2, max_tokens=MAX_TOKENS, output_mode='multi_hot')\n",
    "vectorizer.adapt(text_only_train_dataset)"
   ]
  },
  {
   "cell_type": "code",
   "execution_count": null,
   "id": "f3092423",
   "metadata": {},
   "outputs": [],
   "source": [
    "# create datasets\n",
    "btrain_ds = train_dataset.map(lambda x, y: (vectorizer(x), y), num_parallel_calls=MULTIPLE_CPU)\n",
    "bval_ds = val_dataset.map(lambda x, y: (vectorizer(x), y), num_parallel_calls=MULTIPLE_CPU)\n",
    "btest_ds = test_dataset.map(lambda x, y: (vectorizer(x), y), num_parallel_calls=MULTIPLE_CPU)"
   ]
  },
  {
   "cell_type": "code",
   "execution_count": null,
   "id": "ee1cbe30",
   "metadata": {},
   "outputs": [],
   "source": [
    "# inspect dataset\n",
    "inspect_dataset(btrain_ds)"
   ]
  },
  {
   "cell_type": "markdown",
   "id": "2865e481",
   "metadata": {},
   "source": [
    "##### Term Frequency, Inverse Document Frequency (TF-IDF)\n",
    "- it weights a given term by taking term frequency, how many times the term appear in the current document and divide it by a measure of document frequency, which estimates how often the term comes up across the dataset"
   ]
  },
  {
   "cell_type": "markdown",
   "id": "fdb441e5",
   "metadata": {},
   "source": [
    "###### standardization, tokenization and vectorization"
   ]
  },
  {
   "cell_type": "code",
   "execution_count": null,
   "id": "d155c089",
   "metadata": {},
   "outputs": [],
   "source": [
    "# get input text without labels\n",
    "text_only_train_dataset = train_dataset.map(lambda x, y: x)\n",
    "\n",
    "# vectorize with tf-idf\n",
    "vectorizer = TextVectorization(ngrams=2, max_tokens=MAX_TOKENS, output_mode='tf_idf')\n",
    "vectorizer.adapt(text_only_train_dataset)"
   ]
  },
  {
   "cell_type": "code",
   "execution_count": null,
   "id": "929f3a37",
   "metadata": {},
   "outputs": [],
   "source": [
    "# create datasets\n",
    "tf_train = train_dataset.map(lambda x, y: (vectorizer(x), y), num_parallel_calls=MULTIPLE_CPU)\n",
    "tf_val = val_dataset.map(lambda x, y: (vectorizer(x), y), num_parallel_calls=MULTIPLE_CPU)\n",
    "tf_test = train_dataset.map(lambda x, y: (vectorizer(x), y), num_parallel_calls=MULTIPLE_CPU)"
   ]
  },
  {
   "cell_type": "code",
   "execution_count": null,
   "id": "d80abfa1",
   "metadata": {},
   "outputs": [],
   "source": [
    "# inspect dataset\n",
    "inspect_dataset(tf_train)"
   ]
  },
  {
   "cell_type": "markdown",
   "id": "b4b7ab7d",
   "metadata": {},
   "source": [
    "## MODEL"
   ]
  },
  {
   "cell_type": "code",
   "execution_count": null,
   "id": "a41b0acd",
   "metadata": {},
   "outputs": [],
   "source": [
    "# define and compile your model\n",
    "model = get_model()\n",
    "\n",
    "# get model summary\n",
    "model.summary()"
   ]
  },
  {
   "cell_type": "markdown",
   "id": "c8917385",
   "metadata": {},
   "source": [
    "### Model Training (Unigram)"
   ]
  },
  {
   "cell_type": "code",
   "execution_count": null,
   "id": "d1d4355a",
   "metadata": {},
   "outputs": [],
   "source": [
    "# define callbacks if any\n",
    "callbacks = [\n",
    "    keras.callbacks.ModelCheckpoint('binary_1gram.keras', save_best_only=True)\n",
    "]"
   ]
  },
  {
   "cell_type": "code",
   "execution_count": null,
   "id": "71873951",
   "metadata": {},
   "outputs": [],
   "source": [
    "# fit or train your model with given datasets\n",
    "history_dense = model.fit(train_ds.cache(), validation_data=val_ds.cache(), epochs=EPOCHS, callbacks=callbacks)"
   ]
  },
  {
   "cell_type": "markdown",
   "id": "a67fc543",
   "metadata": {},
   "source": [
    "#### Evaluation"
   ]
  },
  {
   "cell_type": "code",
   "execution_count": null,
   "id": "aa330388",
   "metadata": {},
   "outputs": [],
   "source": [
    "model = keras.models.load_model('binary_1gram.keras')"
   ]
  },
  {
   "cell_type": "code",
   "execution_count": null,
   "id": "142c7d99",
   "metadata": {},
   "outputs": [],
   "source": [
    "print(f\"Test acc: {model.evaluate(test_ds)[1]:.3f}\")"
   ]
  },
  {
   "cell_type": "code",
   "execution_count": null,
   "id": "379f644c",
   "metadata": {},
   "outputs": [],
   "source": [
    "df = pd.DataFrame(data=history_dense.history)\n",
    "df.describe()"
   ]
  },
  {
   "cell_type": "code",
   "execution_count": null,
   "id": "dfbbfcb9",
   "metadata": {},
   "outputs": [],
   "source": [
    "plot_loss_accuracy(history_dense.history,IMDB_DENSE_OUTPUT)"
   ]
  },
  {
   "cell_type": "markdown",
   "id": "06e5abe8",
   "metadata": {},
   "source": [
    "### Model Training (Bigram)"
   ]
  },
  {
   "cell_type": "code",
   "execution_count": null,
   "id": "ba9f1db8",
   "metadata": {},
   "outputs": [],
   "source": [
    "bigram_model = get_model()\n",
    "bigram_model.summary()"
   ]
  },
  {
   "cell_type": "code",
   "execution_count": null,
   "id": "884ecb3b",
   "metadata": {},
   "outputs": [],
   "source": [
    "callbacks = [keras.callbacks.ModelCheckpoint('bigram_model.keras', save_best_only=True)]"
   ]
  },
  {
   "cell_type": "code",
   "execution_count": null,
   "id": "e6ef5115",
   "metadata": {},
   "outputs": [],
   "source": [
    "history_bigram_dense = bigram_model.fit(btrain_ds.cache(), validation_data=bval_ds, callbacks=callbacks, epochs=EPOCHS)"
   ]
  },
  {
   "cell_type": "markdown",
   "id": "ceed9f56",
   "metadata": {},
   "source": [
    "#### Evaluation"
   ]
  },
  {
   "cell_type": "markdown",
   "id": "52ad3cdd",
   "metadata": {},
   "source": [
    "#### Testing"
   ]
  },
  {
   "cell_type": "code",
   "execution_count": null,
   "id": "a2f670ef",
   "metadata": {},
   "outputs": [],
   "source": [
    "model = keras.models.load_model('bigram_model.keras')\n",
    "print(f\"Test acc: {model.evaluate(btest_ds)[1]:.3f}\")"
   ]
  },
  {
   "cell_type": "markdown",
   "id": "995d068f",
   "metadata": {},
   "source": [
    "#### Visualization"
   ]
  },
  {
   "cell_type": "code",
   "execution_count": null,
   "id": "ae844c99",
   "metadata": {},
   "outputs": [],
   "source": [
    "df = pd.DataFrame(data=history_bigram_dense.history)\n",
    "df.describe()"
   ]
  },
  {
   "cell_type": "code",
   "execution_count": null,
   "id": "debee564",
   "metadata": {},
   "outputs": [],
   "source": [
    "plot_loss_accuracy(history_bigram_dense.history,IMDB_DENSE_OUTPUT)"
   ]
  },
  {
   "cell_type": "markdown",
   "id": "bfdae5ca",
   "metadata": {},
   "source": [
    "with bigram, hence local order is pretty important"
   ]
  },
  {
   "cell_type": "markdown",
   "id": "17214d8a",
   "metadata": {},
   "source": [
    "### Model Training (TF-IDF)"
   ]
  },
  {
   "cell_type": "code",
   "execution_count": null,
   "id": "33daedec",
   "metadata": {},
   "outputs": [],
   "source": [
    "# get model\n",
    "tf_model = get_model()\n",
    "tf_model.summary()"
   ]
  },
  {
   "cell_type": "code",
   "execution_count": null,
   "id": "ba1f40cd",
   "metadata": {},
   "outputs": [],
   "source": [
    "# callbacks\n",
    "callbacks = [keras.callbacks.ModelCheckpoint('tf_model.keras', save_best_only=True)]\n",
    "\n",
    "# train\n",
    "tf_history = model.fit(tf_train.cache(), validation_data=tf_val.cache(), epochs=EPOCHS, callbacks=callbacks)"
   ]
  },
  {
   "cell_type": "markdown",
   "id": "b9b9ded9",
   "metadata": {},
   "source": [
    "### Evaluation"
   ]
  },
  {
   "cell_type": "code",
   "execution_count": null,
   "id": "5cfd7ffe",
   "metadata": {},
   "outputs": [],
   "source": [
    "model = keras.models.load_model('tf_model.keras')\n",
    "print(f'Test accuracy: {model.evaluate(tf_test)[1]:.3f}')"
   ]
  },
  {
   "cell_type": "code",
   "execution_count": null,
   "id": "2597ab24",
   "metadata": {},
   "outputs": [],
   "source": [
    "df = pd.DataFrame(data=tf_history.history)\n",
    "df.describe()"
   ]
  },
  {
   "cell_type": "markdown",
   "id": "2a09a8de",
   "metadata": {},
   "source": [
    "### Visualization"
   ]
  },
  {
   "cell_type": "code",
   "execution_count": null,
   "id": "643c4f02",
   "metadata": {},
   "outputs": [],
   "source": [
    "plot_loss_accuracy(tf_history.history,IMDB_DENSE_OUTPUT)"
   ]
  },
  {
   "cell_type": "markdown",
   "id": "9b23b611",
   "metadata": {},
   "source": [
    "## Exporting a Model that process raw strings"
   ]
  },
  {
   "cell_type": "code",
   "execution_count": null,
   "id": "93d85915",
   "metadata": {},
   "outputs": [],
   "source": []
  },
  {
   "cell_type": "markdown",
   "id": "d0475bb5",
   "metadata": {},
   "source": [
    "## Inferencing"
   ]
  },
  {
   "cell_type": "code",
   "execution_count": null,
   "id": "37920078",
   "metadata": {},
   "outputs": [],
   "source": []
  },
  {
   "cell_type": "markdown",
   "id": "c58abfb4",
   "metadata": {},
   "source": [
    "## THE SEQUENCE MODEL APPROACH  (WORDS AS A SEQUENCE)\n"
   ]
  },
  {
   "cell_type": "markdown",
   "id": "2d0f3092",
   "metadata": {},
   "source": [
    "### Config"
   ]
  },
  {
   "cell_type": "code",
   "execution_count": null,
   "id": "dee0d367",
   "metadata": {},
   "outputs": [],
   "source": [
    "# In order to keep a managable input size, we will truncate the inputs after the first 600 words\n",
    "# this is a reasonable choice, since the average review length is 233 words, and only 5% of \n",
    "# reviews are longer than 600 words\n",
    "MAX_LENGTH = 600"
   ]
  },
  {
   "cell_type": "markdown",
   "id": "7ed47d9e",
   "metadata": {},
   "source": [
    "### Sequence data processiong"
   ]
  },
  {
   "cell_type": "code",
   "execution_count": null,
   "id": "8c64575d",
   "metadata": {},
   "outputs": [],
   "source": [
    "# Standardization, tokenization and vectorization\n",
    "vectorizer = TextVectorization(max_tokens=MAX_TOKENS, output_mode='int', output_sequence_length=MAX_LENGTH)\n",
    "vectorizer.adapt(text_only_train_dataset)\n",
    "\n",
    "train_ds = train_dataset.map(lambda x, y: (vectorizer(x), y), num_parallel_calls=MULTIPLE_CPU)\n",
    "val_ds = val_dataset.map(lambda x, y: (vectorizer(x), y), num_parallel_calls=MULTIPLE_CPU)\n",
    "test_ds = test_dataset.map(lambda x, y: (vectorizer(x), y), num_parallel_calls=MULTIPLE_CPU)"
   ]
  },
  {
   "cell_type": "code",
   "execution_count": null,
   "id": "ec3e1b06",
   "metadata": {},
   "outputs": [],
   "source": [
    "inspect_dataset(train_ds)"
   ]
  },
  {
   "cell_type": "markdown",
   "id": "dd329381",
   "metadata": {},
   "source": [
    "### MODEL"
   ]
  },
  {
   "cell_type": "code",
   "execution_count": null,
   "id": "348a8ecd",
   "metadata": {},
   "outputs": [],
   "source": [
    "def get_lstm(max_tokens=MAX_TOKENS, hidden_dim=32):\n",
    "    # define\n",
    "    inputs = keras.Input(shape=(None,), dtype='int64')\n",
    "    embedded = tf.one_hot(inputs, depth=max_tokens) # encode the intergers into binary 20000 dimension vector\n",
    "    x = layers.Bidirectional(layers.LSTM(hidden_dim))(embedded)\n",
    "    x = layers.Dropout(0.5)(x)\n",
    "    outputs = layers.Dense(1, activation='sigmoid')(x)\n",
    "    model = keras.Model(inputs, outputs)\n",
    "    \n",
    "    # compile\n",
    "    model.compile(optimizer='rmsprop', loss='binary_crossentropy', metrics=['accuracy'])\n",
    "    \n",
    "    # return\n",
    "    return model"
   ]
  },
  {
   "cell_type": "code",
   "execution_count": null,
   "id": "65da3348",
   "metadata": {},
   "outputs": [],
   "source": [
    "model = get_lstm()\n",
    "model.summary()"
   ]
  },
  {
   "cell_type": "markdown",
   "id": "cd477843",
   "metadata": {},
   "source": [
    "### Train"
   ]
  },
  {
   "cell_type": "code",
   "execution_count": null,
   "id": "3616351a",
   "metadata": {},
   "outputs": [],
   "source": [
    "callbacks = [keras.callbacks.ModelCheckpoint('one_hot_bidir_lstm.keras', save_best_only=True)]\n",
    "history_lstm = model.fit(train_ds, validation_data=val_ds, epochs=EPOCHS, callbacks=callbacks)"
   ]
  },
  {
   "cell_type": "markdown",
   "id": "564c09a9",
   "metadata": {},
   "source": [
    "### Evaluation"
   ]
  },
  {
   "cell_type": "code",
   "execution_count": null,
   "id": "65105eb7",
   "metadata": {},
   "outputs": [],
   "source": [
    "# read train history\n",
    "df = pd.DataFrame(history_lstm.history)\n",
    "df.describe()"
   ]
  },
  {
   "cell_type": "code",
   "execution_count": null,
   "id": "866b13b0",
   "metadata": {},
   "outputs": [],
   "source": [
    "# load your model\n",
    "model = keras.models.load_model('one_hot_bidir_lstm.keras')\n",
    "model.summary()"
   ]
  },
  {
   "cell_type": "code",
   "execution_count": null,
   "id": "cdff0f71",
   "metadata": {},
   "outputs": [],
   "source": [
    "# run a test\n",
    "print(f'{model.evaluate(test_ds)[1]:.3f}')"
   ]
  },
  {
   "cell_type": "markdown",
   "id": "d5714380",
   "metadata": {},
   "source": [
    "### Visualization"
   ]
  },
  {
   "cell_type": "code",
   "execution_count": null,
   "id": "b3fca1a5",
   "metadata": {},
   "outputs": [],
   "source": [
    "plot_loss_accuracy(history_lstm.history, IMDB_LSTM_OUTPUT)"
   ]
  },
  {
   "cell_type": "code",
   "execution_count": null,
   "id": "a3bc8fc1",
   "metadata": {},
   "outputs": [],
   "source": []
  }
 ],
 "metadata": {
  "kernelspec": {
   "display_name": "Python 3",
   "language": "python",
   "name": "python3"
  },
  "language_info": {
   "codemirror_mode": {
    "name": "ipython",
    "version": 3
   },
   "file_extension": ".py",
   "mimetype": "text/x-python",
   "name": "python",
   "nbconvert_exporter": "python",
   "pygments_lexer": "ipython3",
   "version": "3.8.8"
  }
 },
 "nbformat": 4,
 "nbformat_minor": 5
}
